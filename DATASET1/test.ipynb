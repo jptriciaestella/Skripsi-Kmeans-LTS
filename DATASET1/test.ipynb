{
 "cells": [
  {
   "cell_type": "code",
   "execution_count": 9,
   "metadata": {},
   "outputs": [],
   "source": [
    "import numpy as np \n",
    "import pandas as pd \n",
    "import matplotlib.pyplot as plt \n",
    "import seaborn as sns \n",
    "from sklearn.cluster import KMeans\n",
    "from sklearn.metrics import silhouette_score\n",
    "from sklearn.preprocessing import QuantileTransformer\n"
   ]
  },
  {
   "cell_type": "code",
   "execution_count": 10,
   "metadata": {},
   "outputs": [
    {
     "data": {
      "text/html": [
       "<div>\n",
       "<style scoped>\n",
       "    .dataframe tbody tr th:only-of-type {\n",
       "        vertical-align: middle;\n",
       "    }\n",
       "\n",
       "    .dataframe tbody tr th {\n",
       "        vertical-align: top;\n",
       "    }\n",
       "\n",
       "    .dataframe thead th {\n",
       "        text-align: right;\n",
       "    }\n",
       "</style>\n",
       "<table border=\"1\" class=\"dataframe\">\n",
       "  <thead>\n",
       "    <tr style=\"text-align: right;\">\n",
       "      <th></th>\n",
       "      <th>LAST_TO_END (R)</th>\n",
       "      <th>FLIGHT_COUNT (F)</th>\n",
       "      <th>SEG_KM_SUM (M)</th>\n",
       "    </tr>\n",
       "  </thead>\n",
       "  <tbody>\n",
       "    <tr>\n",
       "      <th>0</th>\n",
       "      <td>-5.199338</td>\n",
       "      <td>5.199338</td>\n",
       "      <td>5.199338</td>\n",
       "    </tr>\n",
       "    <tr>\n",
       "      <th>1</th>\n",
       "      <td>-1.343287</td>\n",
       "      <td>3.235539</td>\n",
       "      <td>5.199338</td>\n",
       "    </tr>\n",
       "    <tr>\n",
       "      <th>2</th>\n",
       "      <td>-1.152175</td>\n",
       "      <td>3.196163</td>\n",
       "      <td>5.199338</td>\n",
       "    </tr>\n",
       "    <tr>\n",
       "      <th>3</th>\n",
       "      <td>-0.057742</td>\n",
       "      <td>1.125776</td>\n",
       "      <td>5.199338</td>\n",
       "    </tr>\n",
       "    <tr>\n",
       "      <th>4</th>\n",
       "      <td>-1.505747</td>\n",
       "      <td>3.357813</td>\n",
       "      <td>5.199338</td>\n",
       "    </tr>\n",
       "    <tr>\n",
       "      <th>...</th>\n",
       "      <td>...</td>\n",
       "      <td>...</td>\n",
       "      <td>...</td>\n",
       "    </tr>\n",
       "    <tr>\n",
       "      <th>62983</th>\n",
       "      <td>0.754664</td>\n",
       "      <td>-5.199338</td>\n",
       "      <td>-2.489786</td>\n",
       "    </tr>\n",
       "    <tr>\n",
       "      <th>62984</th>\n",
       "      <td>-0.106841</td>\n",
       "      <td>-0.465405</td>\n",
       "      <td>-0.205580</td>\n",
       "    </tr>\n",
       "    <tr>\n",
       "      <th>62985</th>\n",
       "      <td>-0.673702</td>\n",
       "      <td>-5.199338</td>\n",
       "      <td>-1.383623</td>\n",
       "    </tr>\n",
       "    <tr>\n",
       "      <th>62986</th>\n",
       "      <td>1.050924</td>\n",
       "      <td>-5.199338</td>\n",
       "      <td>-0.890172</td>\n",
       "    </tr>\n",
       "    <tr>\n",
       "      <th>62987</th>\n",
       "      <td>1.061884</td>\n",
       "      <td>-5.199338</td>\n",
       "      <td>-0.787655</td>\n",
       "    </tr>\n",
       "  </tbody>\n",
       "</table>\n",
       "<p>62988 rows × 3 columns</p>\n",
       "</div>"
      ],
      "text/plain": [
       "       LAST_TO_END (R)  FLIGHT_COUNT (F)  SEG_KM_SUM (M)\n",
       "0            -5.199338          5.199338        5.199338\n",
       "1            -1.343287          3.235539        5.199338\n",
       "2            -1.152175          3.196163        5.199338\n",
       "3            -0.057742          1.125776        5.199338\n",
       "4            -1.505747          3.357813        5.199338\n",
       "...                ...               ...             ...\n",
       "62983         0.754664         -5.199338       -2.489786\n",
       "62984        -0.106841         -0.465405       -0.205580\n",
       "62985        -0.673702         -5.199338       -1.383623\n",
       "62986         1.050924         -5.199338       -0.890172\n",
       "62987         1.061884         -5.199338       -0.787655\n",
       "\n",
       "[62988 rows x 3 columns]"
      ]
     },
     "execution_count": 10,
     "metadata": {},
     "output_type": "execute_result"
    }
   ],
   "source": [
    "df = pd.read_csv(\"rfm_data.csv\")\n",
    "df.rename(columns = {'LAST_TO_END':'LAST_TO_END (R)', 'FLIGHT_COUNT':'FLIGHT_COUNT (F)', 'SEG_KM_SUM':'SEG_KM_SUM (M)'}, inplace=True)\n",
    "\n",
    "quantile_trans = QuantileTransformer(n_quantiles=1000, output_distribution='normal')\n",
    "df_scaled = pd.DataFrame(quantile_trans.fit_transform(df), columns=df.columns)\n",
    "df_scaled"
   ]
  },
  {
   "cell_type": "code",
   "execution_count": 13,
   "metadata": {},
   "outputs": [],
   "source": [
    "def cluster_maker(dataframe, n_cluster_lts):\n",
    "    kmeans = KMeans(n_clusters=n_cluster_lts, init='k-means++', random_state=42).fit(dataframe)\n",
    "\n",
    "    dataframe['distance_to_centroid'] = np.min(kmeans.transform(dataframe), axis=1)\n",
    "    dataframe['cluster_id'] = kmeans.labels_\n",
    "\n",
    "    return dataframe"
   ]
  },
  {
   "cell_type": "code",
   "execution_count": null,
   "metadata": {},
   "outputs": [],
   "source": [
    "def separate_dataframe(dataframe, n_cluster_lts, sort_column='distance_to_centroid'):\n",
    "    cluster_dfs = {}\n",
    "\n",
    "    for i in range(n_cluster_lts):\n",
    "        cluster_dfs[i] = [dataframe[dataframe['cluster_id'] == i]]\n",
    "        cluster_dfs[i][0] = cluster_dfs[i][0].sort_values(sort_column, ascending=False)\n",
    "        \n",
    "    return cluster_dfs"
   ]
  },
  {
   "cell_type": "code",
   "execution_count": null,
   "metadata": {},
   "outputs": [],
   "source": [
    "def trimmed_outlier(dataframe, n_cluster_lts, trim_percent, distance_column='distance_to_centroid'):\n",
    "    dataframe_dict = separate_dataframe(dataframe=dataframe, n_cluster_lts=n_cluster_lts)\n",
    "    outlier_dfs = {}\n",
    "\n",
    "    for i in range(n_cluster_lts):\n",
    "        \n",
    "        rows_to_keep = int((trim_percent) / 100 *len(dataframe_dict[i][0]))\n",
    "        threshold = dataframe_dict[i][0][distance_column].head(rows_to_keep).values[-1]\n",
    "\n",
    "        outliers = dataframe_dict[i][0][dataframe_dict[i][0][distance_column] > threshold]\n",
    "\n",
    "        dataframe_dict[i][0] = dataframe_dict[i][0][dataframe_dict[i][0][distance_column] <= threshold]\n",
    "\n",
    "        outlier_dfs[i] = outliers.copy()\n",
    "\n",
    "    inliers = pd.concat([dataframe_dict[i][0] for i in range(n_cluster_lts)], ignore_index=True)\n",
    "    outliers = pd.concat([outlier_dfs[i] for i in range(n_cluster_lts)], ignore_index=True)\n",
    "\n",
    "    return inliers, outliers"
   ]
  },
  {
   "cell_type": "code",
   "execution_count": null,
   "metadata": {},
   "outputs": [],
   "source": [
    "def best_percentage(dataframe, n_cluster_lts):\n",
    "    trim_percent = [5, 10, 15, 20, 25, 30]\n",
    "    best_silhouette_score = 0\n",
    "    best_trimmed_df = None\n",
    "    best_trim_percent = 0\n",
    "    best_inliers = None\n",
    "    best_outliers = None\n",
    "\n",
    "    for percent in trim_percent:\n",
    "        inliers, outliers = trimmed_outlier(dataframe=dataframe, n_cluster_lts=n_cluster_lts, trim_percent=percent)\n",
    "\n",
    "        if inliers is not None:\n",
    "\n",
    "            relevant_cols = inliers.iloc[:, :-2]\n",
    "            labels = inliers.iloc[:, -1]\n",
    "            score = silhouette_score(relevant_cols, labels)\n",
    "\n",
    "            if score > best_silhouette_score:\n",
    "                best_silhouette_score = score\n",
    "                best_trim_percent = percent\n",
    "                \n",
    "                outliers['cluster_id'] = outliers.iloc[:, -1].replace(to_replace=(0, 1), value=(\"0-out\", \"1-out\"))\n",
    "                best_inliers = inliers\n",
    "                best_outliers = outliers\n",
    "    \n",
    "    \n",
    "    best_trimmed_df = pd.concat([best_inliers, best_outliers], axis=0)\n",
    "\n",
    "    return best_trim_percent, best_silhouette_score, best_trimmed_df"
   ]
  },
  {
   "cell_type": "code",
   "execution_count": null,
   "metadata": {},
   "outputs": [],
   "source": [
    "def K_MEANS_LTS(dataframe, n_cluster_lts):\n",
    "    df_cluster = cluster_maker(dataframe=dataframe, n_cluster_lts=n_cluster_lts)\n",
    "    best_trim_percent, best_silhouette_score, best_df = best_percentage(df_cluster, n_cluster_lts=n_cluster_lts)\n",
    "\n",
    "    return best_trim_percent, best_silhouette_score, best_df\n",
    "\n",
    "best_percent, best_silhouette_score, best_trimmed_df = K_MEANS_LTS(df, 2)\n",
    "print(\"Best Percentage: \", best_percent)\n",
    "print(\"Best Silhouette Score: \", best_silhouette_score)\n",
    "print(\"=================================\")\n",
    "best_trimmed_df"
   ]
  },
  {
   "cell_type": "code",
   "execution_count": null,
   "metadata": {},
   "outputs": [],
   "source": [
    "best_trimmed_df.drop('distance_to_centroid', axis=1, inplace=True)"
   ]
  },
  {
   "cell_type": "code",
   "execution_count": null,
   "metadata": {},
   "outputs": [],
   "source": [
    "import seaborn as sns \n",
    "\n",
    "plt.figure(figsize=(8,8))\n",
    "sns.pairplot(data=best_trimmed_df, hue='cluster_id')"
   ]
  },
  {
   "cell_type": "code",
   "execution_count": null,
   "metadata": {},
   "outputs": [],
   "source": [
    "best_trimmed_df_filtered = best_trimmed_df.loc[~best_trimmed_df['cluster_id'].isin([\"1-out\", \"0-out\"]), :]\n",
    "best_trimmed_df_filtered"
   ]
  },
  {
   "cell_type": "code",
   "execution_count": null,
   "metadata": {},
   "outputs": [],
   "source": [
    "best_trimmed_df"
   ]
  },
  {
   "cell_type": "code",
   "execution_count": null,
   "metadata": {},
   "outputs": [],
   "source": [
    "df_real = df.loc[:, df.columns.isin(['LAST_TO_END', 'FLIGHT_COUNT', 'SEG_KM_SUM'])]\n",
    "df_real"
   ]
  },
  {
   "cell_type": "code",
   "execution_count": null,
   "metadata": {},
   "outputs": [],
   "source": [
    "best_trimmed_df"
   ]
  },
  {
   "cell_type": "code",
   "execution_count": null,
   "metadata": {},
   "outputs": [],
   "source": [
    "from sklearn.decomposition import PCA\n",
    "import seaborn as sns \n",
    "\n",
    "pca = PCA(n_components=2)\n",
    "df_pca = pca.fit_transform(df_real)\n",
    "\n",
    "df_pca = pd.DataFrame(df_pca, columns=[\"PC1\", \"PC2\"])\n",
    "df_pca['cluster_id'] = best_trimmed_df['cluster_id']\n",
    "df_pca"
   ]
  }
 ],
 "metadata": {
  "kernelspec": {
   "display_name": "Python 3",
   "language": "python",
   "name": "python3"
  },
  "language_info": {
   "codemirror_mode": {
    "name": "ipython",
    "version": 3
   },
   "file_extension": ".py",
   "mimetype": "text/x-python",
   "name": "python",
   "nbconvert_exporter": "python",
   "pygments_lexer": "ipython3",
   "version": "3.9.6"
  }
 },
 "nbformat": 4,
 "nbformat_minor": 2
}
