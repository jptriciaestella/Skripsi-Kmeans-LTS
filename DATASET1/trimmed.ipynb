{
 "cells": [
  {
   "cell_type": "code",
   "execution_count": 1,
   "metadata": {},
   "outputs": [],
   "source": [
    "import numpy as np\n",
    "import pandas as pd\n",
    "import matplotlib.pyplot as plt\n",
    "import seaborn as sns"
   ]
  },
  {
   "cell_type": "code",
   "execution_count": 2,
   "metadata": {},
   "outputs": [
    {
     "data": {
      "text/html": [
       "<div>\n",
       "<style scoped>\n",
       "    .dataframe tbody tr th:only-of-type {\n",
       "        vertical-align: middle;\n",
       "    }\n",
       "\n",
       "    .dataframe tbody tr th {\n",
       "        vertical-align: top;\n",
       "    }\n",
       "\n",
       "    .dataframe thead th {\n",
       "        text-align: right;\n",
       "    }\n",
       "</style>\n",
       "<table border=\"1\" class=\"dataframe\">\n",
       "  <thead>\n",
       "    <tr style=\"text-align: right;\">\n",
       "      <th></th>\n",
       "      <th>LAST_TO_END</th>\n",
       "      <th>FLIGHT_COUNT</th>\n",
       "      <th>SEG_KM_SUM</th>\n",
       "    </tr>\n",
       "  </thead>\n",
       "  <tbody>\n",
       "    <tr>\n",
       "      <th>0</th>\n",
       "      <td>1</td>\n",
       "      <td>210</td>\n",
       "      <td>580717</td>\n",
       "    </tr>\n",
       "    <tr>\n",
       "      <th>1</th>\n",
       "      <td>7</td>\n",
       "      <td>140</td>\n",
       "      <td>293678</td>\n",
       "    </tr>\n",
       "    <tr>\n",
       "      <th>2</th>\n",
       "      <td>11</td>\n",
       "      <td>135</td>\n",
       "      <td>283712</td>\n",
       "    </tr>\n",
       "    <tr>\n",
       "      <th>3</th>\n",
       "      <td>97</td>\n",
       "      <td>23</td>\n",
       "      <td>281336</td>\n",
       "    </tr>\n",
       "    <tr>\n",
       "      <th>4</th>\n",
       "      <td>5</td>\n",
       "      <td>152</td>\n",
       "      <td>309928</td>\n",
       "    </tr>\n",
       "    <tr>\n",
       "      <th>...</th>\n",
       "      <td>...</td>\n",
       "      <td>...</td>\n",
       "      <td>...</td>\n",
       "    </tr>\n",
       "    <tr>\n",
       "      <th>62983</th>\n",
       "      <td>297</td>\n",
       "      <td>2</td>\n",
       "      <td>1134</td>\n",
       "    </tr>\n",
       "    <tr>\n",
       "      <th>62984</th>\n",
       "      <td>89</td>\n",
       "      <td>4</td>\n",
       "      <td>8016</td>\n",
       "    </tr>\n",
       "    <tr>\n",
       "      <th>62985</th>\n",
       "      <td>29</td>\n",
       "      <td>2</td>\n",
       "      <td>2594</td>\n",
       "    </tr>\n",
       "    <tr>\n",
       "      <th>62986</th>\n",
       "      <td>400</td>\n",
       "      <td>2</td>\n",
       "      <td>3934</td>\n",
       "    </tr>\n",
       "    <tr>\n",
       "      <th>62987</th>\n",
       "      <td>403</td>\n",
       "      <td>2</td>\n",
       "      <td>4222</td>\n",
       "    </tr>\n",
       "  </tbody>\n",
       "</table>\n",
       "<p>62988 rows × 3 columns</p>\n",
       "</div>"
      ],
      "text/plain": [
       "       LAST_TO_END  FLIGHT_COUNT  SEG_KM_SUM\n",
       "0                1           210      580717\n",
       "1                7           140      293678\n",
       "2               11           135      283712\n",
       "3               97            23      281336\n",
       "4                5           152      309928\n",
       "...            ...           ...         ...\n",
       "62983          297             2        1134\n",
       "62984           89             4        8016\n",
       "62985           29             2        2594\n",
       "62986          400             2        3934\n",
       "62987          403             2        4222\n",
       "\n",
       "[62988 rows x 3 columns]"
      ]
     },
     "execution_count": 2,
     "metadata": {},
     "output_type": "execute_result"
    }
   ],
   "source": [
    "df = pd.read_csv(\"rfm_data.csv\")\n",
    "df"
   ]
  },
  {
   "cell_type": "markdown",
   "metadata": {},
   "source": [
    "# EDA"
   ]
  },
  {
   "cell_type": "code",
   "execution_count": 3,
   "metadata": {},
   "outputs": [
    {
     "name": "stdout",
     "output_type": "stream",
     "text": [
      "<class 'pandas.core.frame.DataFrame'>\n",
      "RangeIndex: 62988 entries, 0 to 62987\n",
      "Data columns (total 3 columns):\n",
      " #   Column        Non-Null Count  Dtype\n",
      "---  ------        --------------  -----\n",
      " 0   LAST_TO_END   62988 non-null  int64\n",
      " 1   FLIGHT_COUNT  62988 non-null  int64\n",
      " 2   SEG_KM_SUM    62988 non-null  int64\n",
      "dtypes: int64(3)\n",
      "memory usage: 1.4 MB\n"
     ]
    }
   ],
   "source": [
    "df.info()"
   ]
  },
  {
   "cell_type": "code",
   "execution_count": 4,
   "metadata": {},
   "outputs": [
    {
     "data": {
      "text/html": [
       "<div>\n",
       "<style scoped>\n",
       "    .dataframe tbody tr th:only-of-type {\n",
       "        vertical-align: middle;\n",
       "    }\n",
       "\n",
       "    .dataframe tbody tr th {\n",
       "        vertical-align: top;\n",
       "    }\n",
       "\n",
       "    .dataframe thead th {\n",
       "        text-align: right;\n",
       "    }\n",
       "</style>\n",
       "<table border=\"1\" class=\"dataframe\">\n",
       "  <thead>\n",
       "    <tr style=\"text-align: right;\">\n",
       "      <th></th>\n",
       "      <th>LAST_TO_END</th>\n",
       "      <th>FLIGHT_COUNT</th>\n",
       "      <th>SEG_KM_SUM</th>\n",
       "    </tr>\n",
       "  </thead>\n",
       "  <tbody>\n",
       "    <tr>\n",
       "      <th>count</th>\n",
       "      <td>62988.000000</td>\n",
       "      <td>62988.000000</td>\n",
       "      <td>62988.000000</td>\n",
       "    </tr>\n",
       "    <tr>\n",
       "      <th>mean</th>\n",
       "      <td>176.120102</td>\n",
       "      <td>11.839414</td>\n",
       "      <td>17123.878691</td>\n",
       "    </tr>\n",
       "    <tr>\n",
       "      <th>std</th>\n",
       "      <td>183.822223</td>\n",
       "      <td>14.049471</td>\n",
       "      <td>20960.844623</td>\n",
       "    </tr>\n",
       "    <tr>\n",
       "      <th>min</th>\n",
       "      <td>1.000000</td>\n",
       "      <td>2.000000</td>\n",
       "      <td>368.000000</td>\n",
       "    </tr>\n",
       "    <tr>\n",
       "      <th>25%</th>\n",
       "      <td>29.000000</td>\n",
       "      <td>3.000000</td>\n",
       "      <td>4747.000000</td>\n",
       "    </tr>\n",
       "    <tr>\n",
       "      <th>50%</th>\n",
       "      <td>108.000000</td>\n",
       "      <td>7.000000</td>\n",
       "      <td>9994.000000</td>\n",
       "    </tr>\n",
       "    <tr>\n",
       "      <th>75%</th>\n",
       "      <td>268.000000</td>\n",
       "      <td>15.000000</td>\n",
       "      <td>21271.250000</td>\n",
       "    </tr>\n",
       "    <tr>\n",
       "      <th>max</th>\n",
       "      <td>731.000000</td>\n",
       "      <td>213.000000</td>\n",
       "      <td>580717.000000</td>\n",
       "    </tr>\n",
       "  </tbody>\n",
       "</table>\n",
       "</div>"
      ],
      "text/plain": [
       "        LAST_TO_END  FLIGHT_COUNT     SEG_KM_SUM\n",
       "count  62988.000000  62988.000000   62988.000000\n",
       "mean     176.120102     11.839414   17123.878691\n",
       "std      183.822223     14.049471   20960.844623\n",
       "min        1.000000      2.000000     368.000000\n",
       "25%       29.000000      3.000000    4747.000000\n",
       "50%      108.000000      7.000000    9994.000000\n",
       "75%      268.000000     15.000000   21271.250000\n",
       "max      731.000000    213.000000  580717.000000"
      ]
     },
     "execution_count": 4,
     "metadata": {},
     "output_type": "execute_result"
    }
   ],
   "source": [
    "df.describe()"
   ]
  },
  {
   "cell_type": "code",
   "execution_count": 5,
   "metadata": {},
   "outputs": [
    {
     "data": {
      "image/png": "[encoded data removed]",
      "text/plain": [
       "<Figure size 800x400 with 3 Axes>"
      ]
     },
     "metadata": {},
     "output_type": "display_data"
    }
   ],
   "source": [
    "# Outlier Checking\n",
    "\n",
    "list_columns = list(df.columns.values)\n",
    "\n",
    "num_rows = 1\n",
    "num_cols = 3\n",
    "\n",
    "fig, ax = plt.subplots(num_rows, num_cols, figsize=(8,4))\n",
    "\n",
    "for i, column_name in enumerate(list_columns):\n",
    "    df.boxplot(column_name, ax=ax.flatten()[i])\n",
    "    \n",
    "\n",
    "plt.tight_layout()\n",
    "plt.show()"
   ]
  },
  {
   "cell_type": "code",
   "execution_count": 6,
   "metadata": {},
   "outputs": [
    {
     "data": {
      "image/png": "[encoded data removed]",
      "text/plain": [
       "<Figure size 800x400 with 3 Axes>"
      ]
     },
     "metadata": {},
     "output_type": "display_data"
    }
   ],
   "source": [
    "# Distribution of Data\n",
    " \n",
    "list_columns = list(df.columns.values)\n",
    "\n",
    "num_rows = 1\n",
    "num_cols = 3\n",
    "\n",
    "fig, ax = plt.subplots(num_rows, num_cols, figsize=(8,4))\n",
    "\n",
    "for i, column_name in enumerate(list_columns):\n",
    "    df[column_name].plot(ax=ax.flatten()[i], kind='kde')\n",
    "    ax.flatten()[i].set_title(column_name)\n",
    "\n",
    "plt.tight_layout()\n",
    "plt.show()"
   ]
  },
  {
   "cell_type": "code",
   "execution_count": 7,
   "metadata": {},
   "outputs": [],
   "source": [
    "df.rename(columns = {'LAST_TO_END':'LAST_TO_END (R)', 'FLIGHT_COUNT':'FLIGHT_COUNT (F)', 'SEG_KM_SUM':'SEG_KM_SUM (M)'}, inplace=True)"
   ]
  },
  {
   "cell_type": "code",
   "execution_count": 8,
   "metadata": {},
   "outputs": [
    {
     "data": {
      "text/html": [
       "<div>\n",
       "<style scoped>\n",
       "    .dataframe tbody tr th:only-of-type {\n",
       "        vertical-align: middle;\n",
       "    }\n",
       "\n",
       "    .dataframe tbody tr th {\n",
       "        vertical-align: top;\n",
       "    }\n",
       "\n",
       "    .dataframe thead th {\n",
       "        text-align: right;\n",
       "    }\n",
       "</style>\n",
       "<table border=\"1\" class=\"dataframe\">\n",
       "  <thead>\n",
       "    <tr style=\"text-align: right;\">\n",
       "      <th></th>\n",
       "      <th>LAST_TO_END (R)</th>\n",
       "      <th>FLIGHT_COUNT (F)</th>\n",
       "      <th>SEG_KM_SUM (M)</th>\n",
       "    </tr>\n",
       "  </thead>\n",
       "  <tbody>\n",
       "    <tr>\n",
       "      <th>0</th>\n",
       "      <td>1</td>\n",
       "      <td>210</td>\n",
       "      <td>580717</td>\n",
       "    </tr>\n",
       "    <tr>\n",
       "      <th>1</th>\n",
       "      <td>7</td>\n",
       "      <td>140</td>\n",
       "      <td>293678</td>\n",
       "    </tr>\n",
       "    <tr>\n",
       "      <th>2</th>\n",
       "      <td>11</td>\n",
       "      <td>135</td>\n",
       "      <td>283712</td>\n",
       "    </tr>\n",
       "    <tr>\n",
       "      <th>3</th>\n",
       "      <td>97</td>\n",
       "      <td>23</td>\n",
       "      <td>281336</td>\n",
       "    </tr>\n",
       "    <tr>\n",
       "      <th>4</th>\n",
       "      <td>5</td>\n",
       "      <td>152</td>\n",
       "      <td>309928</td>\n",
       "    </tr>\n",
       "    <tr>\n",
       "      <th>...</th>\n",
       "      <td>...</td>\n",
       "      <td>...</td>\n",
       "      <td>...</td>\n",
       "    </tr>\n",
       "    <tr>\n",
       "      <th>62983</th>\n",
       "      <td>297</td>\n",
       "      <td>2</td>\n",
       "      <td>1134</td>\n",
       "    </tr>\n",
       "    <tr>\n",
       "      <th>62984</th>\n",
       "      <td>89</td>\n",
       "      <td>4</td>\n",
       "      <td>8016</td>\n",
       "    </tr>\n",
       "    <tr>\n",
       "      <th>62985</th>\n",
       "      <td>29</td>\n",
       "      <td>2</td>\n",
       "      <td>2594</td>\n",
       "    </tr>\n",
       "    <tr>\n",
       "      <th>62986</th>\n",
       "      <td>400</td>\n",
       "      <td>2</td>\n",
       "      <td>3934</td>\n",
       "    </tr>\n",
       "    <tr>\n",
       "      <th>62987</th>\n",
       "      <td>403</td>\n",
       "      <td>2</td>\n",
       "      <td>4222</td>\n",
       "    </tr>\n",
       "  </tbody>\n",
       "</table>\n",
       "<p>62988 rows × 3 columns</p>\n",
       "</div>"
      ],
      "text/plain": [
       "       LAST_TO_END (R)  FLIGHT_COUNT (F)  SEG_KM_SUM (M)\n",
       "0                    1               210          580717\n",
       "1                    7               140          293678\n",
       "2                   11               135          283712\n",
       "3                   97                23          281336\n",
       "4                    5               152          309928\n",
       "...                ...               ...             ...\n",
       "62983              297                 2            1134\n",
       "62984               89                 4            8016\n",
       "62985               29                 2            2594\n",
       "62986              400                 2            3934\n",
       "62987              403                 2            4222\n",
       "\n",
       "[62988 rows x 3 columns]"
      ]
     },
     "execution_count": 8,
     "metadata": {},
     "output_type": "execute_result"
    }
   ],
   "source": [
    "df"
   ]
  },
  {
   "cell_type": "markdown",
   "metadata": {},
   "source": [
    "# Data Pre-processing "
   ]
  },
  {
   "cell_type": "code",
   "execution_count": 9,
   "metadata": {},
   "outputs": [
    {
     "data": {
      "text/html": [
       "<div>\n",
       "<style scoped>\n",
       "    .dataframe tbody tr th:only-of-type {\n",
       "        vertical-align: middle;\n",
       "    }\n",
       "\n",
       "    .dataframe tbody tr th {\n",
       "        vertical-align: top;\n",
       "    }\n",
       "\n",
       "    .dataframe thead th {\n",
       "        text-align: right;\n",
       "    }\n",
       "</style>\n",
       "<table border=\"1\" class=\"dataframe\">\n",
       "  <thead>\n",
       "    <tr style=\"text-align: right;\">\n",
       "      <th></th>\n",
       "      <th>LAST_TO_END (R)</th>\n",
       "      <th>FLIGHT_COUNT (F)</th>\n",
       "      <th>SEG_KM_SUM (M)</th>\n",
       "    </tr>\n",
       "  </thead>\n",
       "  <tbody>\n",
       "    <tr>\n",
       "      <th>LAST_TO_END (R)</th>\n",
       "      <td>1.000000</td>\n",
       "      <td>-0.404999</td>\n",
       "      <td>-0.369509</td>\n",
       "    </tr>\n",
       "    <tr>\n",
       "      <th>FLIGHT_COUNT (F)</th>\n",
       "      <td>-0.404999</td>\n",
       "      <td>1.000000</td>\n",
       "      <td>0.850411</td>\n",
       "    </tr>\n",
       "    <tr>\n",
       "      <th>SEG_KM_SUM (M)</th>\n",
       "      <td>-0.369509</td>\n",
       "      <td>0.850411</td>\n",
       "      <td>1.000000</td>\n",
       "    </tr>\n",
       "  </tbody>\n",
       "</table>\n",
       "</div>"
      ],
      "text/plain": [
       "                  LAST_TO_END (R)  FLIGHT_COUNT (F)  SEG_KM_SUM (M)\n",
       "LAST_TO_END (R)          1.000000         -0.404999       -0.369509\n",
       "FLIGHT_COUNT (F)        -0.404999          1.000000        0.850411\n",
       "SEG_KM_SUM (M)          -0.369509          0.850411        1.000000"
      ]
     },
     "execution_count": 9,
     "metadata": {},
     "output_type": "execute_result"
    }
   ],
   "source": [
    "df.corr()"
   ]
  },
  {
   "cell_type": "code",
   "execution_count": 10,
   "metadata": {},
   "outputs": [],
   "source": [
    "from sklearn.preprocessing import QuantileTransformer\n",
    "\n",
    "quantile_trans = QuantileTransformer(n_quantiles=1000, output_distribution='normal')\n",
    "df_scaled = quantile_trans.fit_transform(df)"
   ]
  },
  {
   "cell_type": "code",
   "execution_count": 11,
   "metadata": {},
   "outputs": [
    {
     "data": {
      "text/html": [
       "<div>\n",
       "<style scoped>\n",
       "    .dataframe tbody tr th:only-of-type {\n",
       "        vertical-align: middle;\n",
       "    }\n",
       "\n",
       "    .dataframe tbody tr th {\n",
       "        vertical-align: top;\n",
       "    }\n",
       "\n",
       "    .dataframe thead th {\n",
       "        text-align: right;\n",
       "    }\n",
       "</style>\n",
       "<table border=\"1\" class=\"dataframe\">\n",
       "  <thead>\n",
       "    <tr style=\"text-align: right;\">\n",
       "      <th></th>\n",
       "      <th>LAST_TO_END (R)</th>\n",
       "      <th>FLIGHT_COUNT (F)</th>\n",
       "      <th>SEG_KM_SUM (M)</th>\n",
       "    </tr>\n",
       "  </thead>\n",
       "  <tbody>\n",
       "    <tr>\n",
       "      <th>0</th>\n",
       "      <td>-5.199338</td>\n",
       "      <td>5.199338</td>\n",
       "      <td>5.199338</td>\n",
       "    </tr>\n",
       "    <tr>\n",
       "      <th>1</th>\n",
       "      <td>-1.418119</td>\n",
       "      <td>3.226932</td>\n",
       "      <td>3.489913</td>\n",
       "    </tr>\n",
       "    <tr>\n",
       "      <th>2</th>\n",
       "      <td>-1.204935</td>\n",
       "      <td>3.193076</td>\n",
       "      <td>3.428931</td>\n",
       "    </tr>\n",
       "    <tr>\n",
       "      <th>3</th>\n",
       "      <td>-0.075345</td>\n",
       "      <td>1.086456</td>\n",
       "      <td>3.416106</td>\n",
       "    </tr>\n",
       "    <tr>\n",
       "      <th>4</th>\n",
       "      <td>-1.566990</td>\n",
       "      <td>3.327632</td>\n",
       "      <td>3.630408</td>\n",
       "    </tr>\n",
       "    <tr>\n",
       "      <th>...</th>\n",
       "      <td>...</td>\n",
       "      <td>...</td>\n",
       "      <td>...</td>\n",
       "    </tr>\n",
       "    <tr>\n",
       "      <th>62983</th>\n",
       "      <td>0.746351</td>\n",
       "      <td>-5.199338</td>\n",
       "      <td>-2.522188</td>\n",
       "    </tr>\n",
       "    <tr>\n",
       "      <th>62984</th>\n",
       "      <td>-0.121995</td>\n",
       "      <td>-0.513491</td>\n",
       "      <td>-0.182557</td>\n",
       "    </tr>\n",
       "    <tr>\n",
       "      <th>62985</th>\n",
       "      <td>-0.702315</td>\n",
       "      <td>-5.199338</td>\n",
       "      <td>-1.379267</td>\n",
       "    </tr>\n",
       "    <tr>\n",
       "      <th>62986</th>\n",
       "      <td>1.038381</td>\n",
       "      <td>-5.199338</td>\n",
       "      <td>-0.884593</td>\n",
       "    </tr>\n",
       "    <tr>\n",
       "      <th>62987</th>\n",
       "      <td>1.050924</td>\n",
       "      <td>-5.199338</td>\n",
       "      <td>-0.784953</td>\n",
       "    </tr>\n",
       "  </tbody>\n",
       "</table>\n",
       "<p>62988 rows × 3 columns</p>\n",
       "</div>"
      ],
      "text/plain": [
       "       LAST_TO_END (R)  FLIGHT_COUNT (F)  SEG_KM_SUM (M)\n",
       "0            -5.199338          5.199338        5.199338\n",
       "1            -1.418119          3.226932        3.489913\n",
       "2            -1.204935          3.193076        3.428931\n",
       "3            -0.075345          1.086456        3.416106\n",
       "4            -1.566990          3.327632        3.630408\n",
       "...                ...               ...             ...\n",
       "62983         0.746351         -5.199338       -2.522188\n",
       "62984        -0.121995         -0.513491       -0.182557\n",
       "62985        -0.702315         -5.199338       -1.379267\n",
       "62986         1.038381         -5.199338       -0.884593\n",
       "62987         1.050924         -5.199338       -0.784953\n",
       "\n",
       "[62988 rows x 3 columns]"
      ]
     },
     "execution_count": 11,
     "metadata": {},
     "output_type": "execute_result"
    }
   ],
   "source": [
    "df_scaled = pd.DataFrame(df_scaled, columns=df.columns)\n",
    "df_scaled"
   ]
  },
  {
   "cell_type": "code",
   "execution_count": 12,
   "metadata": {},
   "outputs": [
    {
     "data": {
      "image/png": "[encoded data removed]",
      "text/plain": [
       "<Figure size 800x400 with 3 Axes>"
      ]
     },
     "metadata": {},
     "output_type": "display_data"
    }
   ],
   "source": [
    "list_columns = list(df_scaled.columns.values)\n",
    "\n",
    "num_rows = 1\n",
    "num_cols = 3\n",
    "\n",
    "fig, ax = plt.subplots(num_rows, num_cols, figsize=(8,4))\n",
    "\n",
    "for i, column_name in enumerate(list_columns):\n",
    "    df_scaled[column_name].plot(ax=ax.flatten()[i], kind='kde')\n",
    "    ax.flatten()[i].set_title(column_name)\n",
    "\n",
    "plt.tight_layout()\n",
    "plt.show()"
   ]
  },
  {
   "cell_type": "code",
   "execution_count": 13,
   "metadata": {},
   "outputs": [
    {
     "data": {
      "image/png": "[encoded data removed]",
      "text/plain": [
       "<Figure size 800x400 with 3 Axes>"
      ]
     },
     "metadata": {},
     "output_type": "display_data"
    }
   ],
   "source": [
    "list_columns = list(df_scaled.columns.values)\n",
    "\n",
    "num_rows = 1\n",
    "num_cols = 3\n",
    "\n",
    "fig, ax = plt.subplots(num_rows, num_cols, figsize=(8, 4))\n",
    "\n",
    "for i, column_name in enumerate(list_columns):\n",
    "    df_scaled.boxplot(column_name, ax=ax.flatten()[i])\n",
    "\n",
    "plt.tight_layout()\n",
    "plt.show()"
   ]
  },
  {
   "cell_type": "code",
   "execution_count": 14,
   "metadata": {},
   "outputs": [
    {
     "name": "stdout",
     "output_type": "stream",
     "text": [
      "Column LAST_TO_END (R) outliers = 1.85\n",
      "Column FLIGHT_COUNT (F) outliers = 16.68\n",
      "Column SEG_KM_SUM (M) outliers = 0.73\n"
     ]
    }
   ],
   "source": [
    "# Outlier Persentation\n",
    "\n",
    "for i, j in df_scaled.items():\n",
    "    q1 = j.quantile(0.25)\n",
    "    q3 = j.quantile(0.75)\n",
    "    inter_q = q3 - q1\n",
    "\n",
    "    j_col = j[(j <= q1 - 1.5 * inter_q) | (j >= q3 + 1.5 * inter_q)]\n",
    "    percent = np.shape(j_col)[0] * 100.0 / np.shape(df)[0]\n",
    "    print(\"Column %s outliers = %.2f\" %(i, percent))"
   ]
  },
  {
   "cell_type": "markdown",
   "metadata": {},
   "source": [
    "# Robust Trimmed K Means\n"
   ]
  },
  {
   "cell_type": "code",
   "execution_count": 17,
   "metadata": {},
   "outputs": [
    {
     "name": "stdout",
     "output_type": "stream",
     "text": [
      "Iteration 100\n",
      "PALM reached maximum number of iterations\n"
     ]
    }
   ],
   "source": [
    "import sys\n",
    "sys.path.append(\"../RTKM\")\n",
    "from RTKM import * \n",
    "from AccuracyMeasures import *\n",
    "from ClusteringMethods import *\n",
    "\n",
    "df_scaled_np = df_scaled.to_numpy()\n",
    "\n",
    "RTKM_data = RTKM(df_scaled_np.T)\n",
    "RTKM_data.perform_clustering(k=3, percent_outliers = 0.10, max_iter = 100, num_members = 2)\n",
    "\n",
    "#pred clusters return cluster id for data index, pred outliers return outlier index\n",
    "pred_clusters, pred_outliers = RTKM_data.return_clusters()"
   ]
  },
  {
   "cell_type": "code",
   "execution_count": 22,
   "metadata": {},
   "outputs": [
    {
     "name": "stdout",
     "output_type": "stream",
     "text": [
      "(62988,)\n",
      "(6303,)\n",
      "[3 3 3 ... 0 0 0]\n",
      "[    0     1     2 ... 62966 62974 62975]\n"
     ]
    }
   ],
   "source": [
    "print(pred_clusters.shape) #semua titik mendapatkan cluster id\n",
    "print(pred_outliers.shape) #jumlah percentage yang terpotong menjadi outliers\n",
    "\n",
    "print(pred_clusters) #return cluster id untuk setiap titik\n",
    "print(pred_outliers) #return index data yang terdeteksi sebagai outliers"
   ]
  },
  {
   "cell_type": "code",
   "execution_count": 23,
   "metadata": {},
   "outputs": [
    {
     "data": {
      "text/html": [
       "<div>\n",
       "<style scoped>\n",
       "    .dataframe tbody tr th:only-of-type {\n",
       "        vertical-align: middle;\n",
       "    }\n",
       "\n",
       "    .dataframe tbody tr th {\n",
       "        vertical-align: top;\n",
       "    }\n",
       "\n",
       "    .dataframe thead th {\n",
       "        text-align: right;\n",
       "    }\n",
       "</style>\n",
       "<table border=\"1\" class=\"dataframe\">\n",
       "  <thead>\n",
       "    <tr style=\"text-align: right;\">\n",
       "      <th></th>\n",
       "      <th>LAST_TO_END (R)</th>\n",
       "      <th>FLIGHT_COUNT (F)</th>\n",
       "      <th>SEG_KM_SUM (M)</th>\n",
       "      <th>cluster_id</th>\n",
       "    </tr>\n",
       "  </thead>\n",
       "  <tbody>\n",
       "    <tr>\n",
       "      <th>0</th>\n",
       "      <td>-5.199338</td>\n",
       "      <td>5.199338</td>\n",
       "      <td>5.199338</td>\n",
       "      <td>3</td>\n",
       "    </tr>\n",
       "    <tr>\n",
       "      <th>1</th>\n",
       "      <td>-1.374878</td>\n",
       "      <td>3.282383</td>\n",
       "      <td>3.182196</td>\n",
       "      <td>3</td>\n",
       "    </tr>\n",
       "    <tr>\n",
       "      <th>2</th>\n",
       "      <td>-1.171890</td>\n",
       "      <td>3.212629</td>\n",
       "      <td>3.172298</td>\n",
       "      <td>3</td>\n",
       "    </tr>\n",
       "    <tr>\n",
       "      <th>3</th>\n",
       "      <td>-0.092972</td>\n",
       "      <td>1.064091</td>\n",
       "      <td>3.169984</td>\n",
       "      <td>3</td>\n",
       "    </tr>\n",
       "    <tr>\n",
       "      <th>4</th>\n",
       "      <td>-1.529558</td>\n",
       "      <td>3.580367</td>\n",
       "      <td>3.199036</td>\n",
       "      <td>3</td>\n",
       "    </tr>\n",
       "    <tr>\n",
       "      <th>...</th>\n",
       "      <td>...</td>\n",
       "      <td>...</td>\n",
       "      <td>...</td>\n",
       "      <td>...</td>\n",
       "    </tr>\n",
       "    <tr>\n",
       "      <th>62983</th>\n",
       "      <td>0.723436</td>\n",
       "      <td>-5.199338</td>\n",
       "      <td>-2.416655</td>\n",
       "      <td>0</td>\n",
       "    </tr>\n",
       "    <tr>\n",
       "      <th>62984</th>\n",
       "      <td>-0.134645</td>\n",
       "      <td>-0.493553</td>\n",
       "      <td>-0.186788</td>\n",
       "      <td>1</td>\n",
       "    </tr>\n",
       "    <tr>\n",
       "      <th>62985</th>\n",
       "      <td>-0.686350</td>\n",
       "      <td>-5.199338</td>\n",
       "      <td>-1.387319</td>\n",
       "      <td>0</td>\n",
       "    </tr>\n",
       "    <tr>\n",
       "      <th>62986</th>\n",
       "      <td>1.018778</td>\n",
       "      <td>-5.199338</td>\n",
       "      <td>-0.877196</td>\n",
       "      <td>0</td>\n",
       "    </tr>\n",
       "    <tr>\n",
       "      <th>62987</th>\n",
       "      <td>1.031509</td>\n",
       "      <td>-5.199338</td>\n",
       "      <td>-0.771965</td>\n",
       "      <td>0</td>\n",
       "    </tr>\n",
       "  </tbody>\n",
       "</table>\n",
       "<p>62988 rows × 4 columns</p>\n",
       "</div>"
      ],
      "text/plain": [
       "       LAST_TO_END (R)  FLIGHT_COUNT (F)  SEG_KM_SUM (M)  cluster_id\n",
       "0            -5.199338          5.199338        5.199338           3\n",
       "1            -1.374878          3.282383        3.182196           3\n",
       "2            -1.171890          3.212629        3.172298           3\n",
       "3            -0.092972          1.064091        3.169984           3\n",
       "4            -1.529558          3.580367        3.199036           3\n",
       "...                ...               ...             ...         ...\n",
       "62983         0.723436         -5.199338       -2.416655           0\n",
       "62984        -0.134645         -0.493553       -0.186788           1\n",
       "62985        -0.686350         -5.199338       -1.387319           0\n",
       "62986         1.018778         -5.199338       -0.877196           0\n",
       "62987         1.031509         -5.199338       -0.771965           0\n",
       "\n",
       "[62988 rows x 4 columns]"
      ]
     },
     "execution_count": 23,
     "metadata": {},
     "output_type": "execute_result"
    }
   ],
   "source": [
    "#Append dataset sehingga mendapatkan id\n",
    "cluster_id_RTKM = pd.DataFrame(pred_clusters, columns=['cluster_id'])\n",
    "\n",
    "RTKM_result = pd.merge(df_scaled, cluster_id_RTKM, left_index=True, right_index=True)\n",
    "\n",
    "RTKM_result"
   ]
  },
  {
   "cell_type": "code",
   "execution_count": 24,
   "metadata": {},
   "outputs": [
    {
     "data": {
      "text/html": [
       "<div>\n",
       "<style scoped>\n",
       "    .dataframe tbody tr th:only-of-type {\n",
       "        vertical-align: middle;\n",
       "    }\n",
       "\n",
       "    .dataframe tbody tr th {\n",
       "        vertical-align: top;\n",
       "    }\n",
       "\n",
       "    .dataframe thead th {\n",
       "        text-align: right;\n",
       "    }\n",
       "</style>\n",
       "<table border=\"1\" class=\"dataframe\">\n",
       "  <thead>\n",
       "    <tr style=\"text-align: right;\">\n",
       "      <th></th>\n",
       "      <th>LAST_TO_END (R)</th>\n",
       "      <th>FLIGHT_COUNT (F)</th>\n",
       "      <th>SEG_KM_SUM (M)</th>\n",
       "      <th>cluster_id</th>\n",
       "    </tr>\n",
       "  </thead>\n",
       "  <tbody>\n",
       "    <tr>\n",
       "      <th>0</th>\n",
       "      <td>-5.199338</td>\n",
       "      <td>5.199338</td>\n",
       "      <td>5.199338</td>\n",
       "      <td>3-out</td>\n",
       "    </tr>\n",
       "    <tr>\n",
       "      <th>1</th>\n",
       "      <td>-1.374878</td>\n",
       "      <td>3.282383</td>\n",
       "      <td>3.182196</td>\n",
       "      <td>3-out</td>\n",
       "    </tr>\n",
       "    <tr>\n",
       "      <th>2</th>\n",
       "      <td>-1.171890</td>\n",
       "      <td>3.212629</td>\n",
       "      <td>3.172298</td>\n",
       "      <td>3-out</td>\n",
       "    </tr>\n",
       "    <tr>\n",
       "      <th>3</th>\n",
       "      <td>-0.092972</td>\n",
       "      <td>1.064091</td>\n",
       "      <td>3.169984</td>\n",
       "      <td>3-out</td>\n",
       "    </tr>\n",
       "    <tr>\n",
       "      <th>4</th>\n",
       "      <td>-1.529558</td>\n",
       "      <td>3.580367</td>\n",
       "      <td>3.199036</td>\n",
       "      <td>3-out</td>\n",
       "    </tr>\n",
       "    <tr>\n",
       "      <th>...</th>\n",
       "      <td>...</td>\n",
       "      <td>...</td>\n",
       "      <td>...</td>\n",
       "      <td>...</td>\n",
       "    </tr>\n",
       "    <tr>\n",
       "      <th>62983</th>\n",
       "      <td>0.723436</td>\n",
       "      <td>-5.199338</td>\n",
       "      <td>-2.416655</td>\n",
       "      <td>0</td>\n",
       "    </tr>\n",
       "    <tr>\n",
       "      <th>62984</th>\n",
       "      <td>-0.134645</td>\n",
       "      <td>-0.493553</td>\n",
       "      <td>-0.186788</td>\n",
       "      <td>1</td>\n",
       "    </tr>\n",
       "    <tr>\n",
       "      <th>62985</th>\n",
       "      <td>-0.686350</td>\n",
       "      <td>-5.199338</td>\n",
       "      <td>-1.387319</td>\n",
       "      <td>0</td>\n",
       "    </tr>\n",
       "    <tr>\n",
       "      <th>62986</th>\n",
       "      <td>1.018778</td>\n",
       "      <td>-5.199338</td>\n",
       "      <td>-0.877196</td>\n",
       "      <td>0</td>\n",
       "    </tr>\n",
       "    <tr>\n",
       "      <th>62987</th>\n",
       "      <td>1.031509</td>\n",
       "      <td>-5.199338</td>\n",
       "      <td>-0.771965</td>\n",
       "      <td>0</td>\n",
       "    </tr>\n",
       "  </tbody>\n",
       "</table>\n",
       "<p>62988 rows × 4 columns</p>\n",
       "</div>"
      ],
      "text/plain": [
       "       LAST_TO_END (R)  FLIGHT_COUNT (F)  SEG_KM_SUM (M) cluster_id\n",
       "0            -5.199338          5.199338        5.199338      3-out\n",
       "1            -1.374878          3.282383        3.182196      3-out\n",
       "2            -1.171890          3.212629        3.172298      3-out\n",
       "3            -0.092972          1.064091        3.169984      3-out\n",
       "4            -1.529558          3.580367        3.199036      3-out\n",
       "...                ...               ...             ...        ...\n",
       "62983         0.723436         -5.199338       -2.416655          0\n",
       "62984        -0.134645         -0.493553       -0.186788          1\n",
       "62985        -0.686350         -5.199338       -1.387319          0\n",
       "62986         1.018778         -5.199338       -0.877196          0\n",
       "62987         1.031509         -5.199338       -0.771965          0\n",
       "\n",
       "[62988 rows x 4 columns]"
      ]
     },
     "execution_count": 24,
     "metadata": {},
     "output_type": "execute_result"
    }
   ],
   "source": [
    "# Create a mask for the indices in the DataFrame that need to be modified\n",
    "mask = np.isin(RTKM_result.index, pred_outliers)\n",
    "\n",
    "# Use np.where to conditionally replace values in cluster_id\n",
    "RTKM_result['cluster_id'] = np.where(mask, RTKM_result['cluster_id'].astype(str) + '-out', RTKM_result['cluster_id'])\n",
    "\n",
    "RTKM_result"
   ]
  },
  {
   "cell_type": "code",
   "execution_count": 25,
   "metadata": {},
   "outputs": [
    {
     "data": {
      "text/html": [
       "<div>\n",
       "<style scoped>\n",
       "    .dataframe tbody tr th:only-of-type {\n",
       "        vertical-align: middle;\n",
       "    }\n",
       "\n",
       "    .dataframe tbody tr th {\n",
       "        vertical-align: top;\n",
       "    }\n",
       "\n",
       "    .dataframe thead th {\n",
       "        text-align: right;\n",
       "    }\n",
       "</style>\n",
       "<table border=\"1\" class=\"dataframe\">\n",
       "  <thead>\n",
       "    <tr style=\"text-align: right;\">\n",
       "      <th></th>\n",
       "      <th>LAST_TO_END (R)</th>\n",
       "      <th>FLIGHT_COUNT (F)</th>\n",
       "      <th>SEG_KM_SUM (M)</th>\n",
       "      <th>cluster_id</th>\n",
       "    </tr>\n",
       "  </thead>\n",
       "  <tbody>\n",
       "    <tr>\n",
       "      <th>230</th>\n",
       "      <td>0.338834</td>\n",
       "      <td>0.412900</td>\n",
       "      <td>2.465248</td>\n",
       "      <td>1</td>\n",
       "    </tr>\n",
       "    <tr>\n",
       "      <th>245</th>\n",
       "      <td>-0.082896</td>\n",
       "      <td>0.412900</td>\n",
       "      <td>2.461500</td>\n",
       "      <td>1</td>\n",
       "    </tr>\n",
       "    <tr>\n",
       "      <th>335</th>\n",
       "      <td>0.140977</td>\n",
       "      <td>0.493553</td>\n",
       "      <td>2.362317</td>\n",
       "      <td>1</td>\n",
       "    </tr>\n",
       "    <tr>\n",
       "      <th>349</th>\n",
       "      <td>0.875354</td>\n",
       "      <td>0.493553</td>\n",
       "      <td>2.309049</td>\n",
       "      <td>1</td>\n",
       "    </tr>\n",
       "    <tr>\n",
       "      <th>357</th>\n",
       "      <td>-0.290058</td>\n",
       "      <td>1.269664</td>\n",
       "      <td>1.969110</td>\n",
       "      <td>1</td>\n",
       "    </tr>\n",
       "    <tr>\n",
       "      <th>...</th>\n",
       "      <td>...</td>\n",
       "      <td>...</td>\n",
       "      <td>...</td>\n",
       "      <td>...</td>\n",
       "    </tr>\n",
       "    <tr>\n",
       "      <th>62983</th>\n",
       "      <td>0.723436</td>\n",
       "      <td>-5.199338</td>\n",
       "      <td>-2.416655</td>\n",
       "      <td>0</td>\n",
       "    </tr>\n",
       "    <tr>\n",
       "      <th>62984</th>\n",
       "      <td>-0.134645</td>\n",
       "      <td>-0.493553</td>\n",
       "      <td>-0.186788</td>\n",
       "      <td>1</td>\n",
       "    </tr>\n",
       "    <tr>\n",
       "      <th>62985</th>\n",
       "      <td>-0.686350</td>\n",
       "      <td>-5.199338</td>\n",
       "      <td>-1.387319</td>\n",
       "      <td>0</td>\n",
       "    </tr>\n",
       "    <tr>\n",
       "      <th>62986</th>\n",
       "      <td>1.018778</td>\n",
       "      <td>-5.199338</td>\n",
       "      <td>-0.877196</td>\n",
       "      <td>0</td>\n",
       "    </tr>\n",
       "    <tr>\n",
       "      <th>62987</th>\n",
       "      <td>1.031509</td>\n",
       "      <td>-5.199338</td>\n",
       "      <td>-0.771965</td>\n",
       "      <td>0</td>\n",
       "    </tr>\n",
       "  </tbody>\n",
       "</table>\n",
       "<p>56685 rows × 4 columns</p>\n",
       "</div>"
      ],
      "text/plain": [
       "       LAST_TO_END (R)  FLIGHT_COUNT (F)  SEG_KM_SUM (M) cluster_id\n",
       "230           0.338834          0.412900        2.465248          1\n",
       "245          -0.082896          0.412900        2.461500          1\n",
       "335           0.140977          0.493553        2.362317          1\n",
       "349           0.875354          0.493553        2.309049          1\n",
       "357          -0.290058          1.269664        1.969110          1\n",
       "...                ...               ...             ...        ...\n",
       "62983         0.723436         -5.199338       -2.416655          0\n",
       "62984        -0.134645         -0.493553       -0.186788          1\n",
       "62985        -0.686350         -5.199338       -1.387319          0\n",
       "62986         1.018778         -5.199338       -0.877196          0\n",
       "62987         1.031509         -5.199338       -0.771965          0\n",
       "\n",
       "[56685 rows x 4 columns]"
      ]
     },
     "execution_count": 25,
     "metadata": {},
     "output_type": "execute_result"
    }
   ],
   "source": [
    "# Use boolean indexing to filter out rows based on indices_to_remove\n",
    "RTKM_result_filtered = RTKM_result[~RTKM_result.index.isin(pred_outliers)]\n",
    "\n",
    "RTKM_result_filtered"
   ]
  },
  {
   "cell_type": "code",
   "execution_count": 26,
   "metadata": {},
   "outputs": [
    {
     "name": "stderr",
     "output_type": "stream",
     "text": [
      "c:\\Users\\jptri\\AppData\\Local\\Programs\\Python\\Python39\\lib\\site-packages\\seaborn\\axisgrid.py:1615: UserWarning: \n",
      "The markers list has fewer values (2) than needed (3) and will cycle, which may produce an uninterpretable plot.\n",
      "  func(x=x, y=y, **kwargs)\n",
      "c:\\Users\\jptri\\AppData\\Local\\Programs\\Python\\Python39\\lib\\site-packages\\seaborn\\axisgrid.py:1615: UserWarning: \n",
      "The markers list has fewer values (2) than needed (3) and will cycle, which may produce an uninterpretable plot.\n",
      "  func(x=x, y=y, **kwargs)\n"
     ]
    },
    {
     "data": {
      "text/plain": [
       "<seaborn.axisgrid.PairGrid at 0x28334e3b280>"
      ]
     },
     "execution_count": 26,
     "metadata": {},
     "output_type": "execute_result"
    },
    {
     "data": {
      "text/plain": [
       "<Figure size 800x800 with 0 Axes>"
      ]
     },
     "metadata": {},
     "output_type": "display_data"
    },
    {
     "data": {
      "image/png": "[encoded data removed]",
      "text/plain": [
       "<Figure size 586.625x500 with 6 Axes>"
      ]
     },
     "metadata": {},
     "output_type": "display_data"
    },
    {
     "data": {
      "text/plain": [
       "<Figure size 800x800 with 0 Axes>"
      ]
     },
     "metadata": {},
     "output_type": "display_data"
    },
    {
     "data": {
      "image/png": "[encoded data removed]",
      "text/plain": [
       "<Figure size 577.986x500 with 6 Axes>"
      ]
     },
     "metadata": {},
     "output_type": "display_data"
    }
   ],
   "source": [
    "from sklearn.decomposition import PCA\n",
    "import seaborn as sns \n",
    "\n",
    "pca = PCA(n_components=2)\n",
    "df_pca = pca.fit_transform(df_scaled)\n",
    "\n",
    "df_pca = pd.DataFrame(df_pca, columns=['PC 1', 'PC2'])\n",
    "\n",
    "#PAIR PLOT with OUTLIERS\n",
    "df_pca['cluster_id'] = RTKM_result.loc[:, RTKM_result.columns.isin(['cluster_id'])]\n",
    "\n",
    "plt.figure(figsize=(8,8))\n",
    "sns.pairplot(data=df_pca, hue='cluster_id', markers=[\"o\", \"D\"])\n",
    "\n",
    "\n",
    "#PAIR PLOT without OUTLIERS\n",
    "df_pca['cluster_id'] = RTKM_result_filtered.loc[:, RTKM_result_filtered.columns.isin(['cluster_id'])]\n",
    "\n",
    "plt.figure(figsize=(8,8))\n",
    "sns.pairplot(data=df_pca, hue='cluster_id', markers=[\"o\", \"D\"])"
   ]
  },
  {
   "cell_type": "markdown",
   "metadata": {},
   "source": [
    "# RTKM FIXED FUNCTION"
   ]
  },
  {
   "cell_type": "code",
   "execution_count": 23,
   "metadata": {},
   "outputs": [],
   "source": [
    "#generate data RTKM untuk comply dengan func silhouette score\n",
    "def generate_data_RTKM(dataframe, k, percent_outliers, num_members):\n",
    "    dataframe_np_transposed = dataframe.to_numpy().T\n",
    "\n",
    "    RTKM_data = RTKM(dataframe_np_transposed)\n",
    "    RTKM_data.perform_clustering(k=k, percent_outliers = percent_outliers, max_iter = 100, num_members = num_members)\n",
    "    print(k, percent_outliers, num_members)\n",
    "    \n",
    "    #pred clusters return cluster id for data index, pred outliers return outlier index\n",
    "    pred_clusters, pred_outliers = RTKM_data.return_clusters()\n",
    "\n",
    "    #Append dataset sehingga mendapatkan id\n",
    "    cluster_id_RTKM = pd.DataFrame(pred_clusters, columns=['cluster_id'])\n",
    "    RTKM_result = pd.merge(df_scaled, cluster_id_RTKM, left_index=True, right_index=True)\n",
    "\n",
    "    # Create a mask for the indices in the DataFrame that need to be modified\n",
    "    mask = np.isin(RTKM_result.index, pred_outliers)\n",
    "\n",
    "    # Use np.where to conditionally replace values in cluster_id\n",
    "    RTKM_result['cluster_id'] = np.where(mask, RTKM_result['cluster_id'].astype(str) + '-out', RTKM_result['cluster_id'])\n",
    "    all_data = RTKM_result\n",
    "\n",
    "    # Use boolean indexing to filter out rows based on indices_to_remove\n",
    "    filtered_data = RTKM_result[~RTKM_result.index.isin(pred_outliers)]\n",
    "    \n",
    "    return filtered_data, all_data"
   ]
  },
  {
   "cell_type": "markdown",
   "metadata": {},
   "source": [
    "### TEST"
   ]
  },
  {
   "cell_type": "code",
   "execution_count": 24,
   "metadata": {},
   "outputs": [
    {
     "name": "stdout",
     "output_type": "stream",
     "text": [
      "Iteration 100\n",
      "PALM reached maximum number of iterations\n",
      "3 0.1 2\n",
      "All data:\n",
      "        LAST_TO_END (R)  FLIGHT_COUNT (F)  SEG_KM_SUM (M) cluster_id\n",
      "0            -5.199338          5.199338        5.199338      3-out\n",
      "1            -1.418119          3.226932        3.489913      3-out\n",
      "2            -1.204935          3.193076        3.428931      3-out\n",
      "3            -0.075345          1.086456        3.416106      3-out\n",
      "4            -1.566990          3.327632        3.630408      3-out\n",
      "...                ...               ...             ...        ...\n",
      "62983         0.746351         -5.199338       -2.522188          0\n",
      "62984        -0.121995         -0.513491       -0.182557          0\n",
      "62985        -0.702315         -5.199338       -1.379267          0\n",
      "62986         1.038381         -5.199338       -0.884593          0\n",
      "62987         1.050924         -5.199338       -0.784953          0\n",
      "\n",
      "[62988 rows x 4 columns]\n",
      "CID ALL: ['3-out' 0]\n",
      "Filtered data:\n",
      "        LAST_TO_END (R)  FLIGHT_COUNT (F)  SEG_KM_SUM (M) cluster_id\n",
      "335           0.148584          0.483658        2.382994          0\n",
      "369          -0.160010          0.320290        2.331745          0\n",
      "542          -0.313694          0.692715        2.142386          0\n",
      "600           0.551076          0.483658        2.136187          0\n",
      "630          -0.046436         -0.134645        1.976943          0\n",
      "...                ...               ...             ...        ...\n",
      "62983         0.746351         -5.199338       -2.522188          0\n",
      "62984        -0.121995         -0.513491       -0.182557          0\n",
      "62985        -0.702315         -5.199338       -1.379267          0\n",
      "62986         1.038381         -5.199338       -0.884593          0\n",
      "62987         1.050924         -5.199338       -0.784953          0\n",
      "\n",
      "[56686 rows x 4 columns]\n",
      "CID FILTERED: [0]\n"
     ]
    }
   ],
   "source": [
    "inliers, all = generate_data_RTKM(df_scaled, 3, 0.10, 2)\n",
    "print(\"All data:\\n\", all)\n",
    "print(\"CID ALL:\", all['cluster_id'].unique())\n",
    "print(\"Filtered data:\\n\", inliers)\n",
    "print(\"CID FILTERED:\", inliers['cluster_id'].unique())"
   ]
  },
  {
   "cell_type": "code",
   "execution_count": 25,
   "metadata": {},
   "outputs": [
    {
     "data": {
      "text/plain": [
       "<seaborn.axisgrid.PairGrid at 0x1e9e7189c10>"
      ]
     },
     "execution_count": 25,
     "metadata": {},
     "output_type": "execute_result"
    },
    {
     "data": {
      "text/plain": [
       "<Figure size 800x800 with 0 Axes>"
      ]
     },
     "metadata": {},
     "output_type": "display_data"
    },
    {
     "data": {
      "image/png": "[encoded data removed]",
      "text/plain": [
       "<Figure size 586.625x500 with 6 Axes>"
      ]
     },
     "metadata": {},
     "output_type": "display_data"
    }
   ],
   "source": [
    "pca = PCA(n_components=2)\n",
    "df_pca = pca.fit_transform(df_scaled)\n",
    "\n",
    "df_pca = pd.DataFrame(df_pca, columns=['PC 1', 'PC2'])\n",
    "\n",
    "#PAIR PLOT with OUTLIERS\n",
    "df_pca['cluster_id'] = all.loc[:, all.columns.isin(['cluster_id'])]\n",
    "\n",
    "plt.figure(figsize=(8,8))\n",
    "sns.pairplot(data=df_pca, hue='cluster_id', markers=[\"o\", \"D\"])"
   ]
  },
  {
   "cell_type": "markdown",
   "metadata": {},
   "source": [
    "## OPTIMAL PERCENTAGE"
   ]
  },
  {
   "cell_type": "code",
   "execution_count": 19,
   "metadata": {},
   "outputs": [
    {
     "name": "stdout",
     "output_type": "stream",
     "text": [
      "PERCENT: 5\n",
      "Iteration 100\n",
      "PALM reached maximum number of iterations\n",
      "2 0.05 2\n",
      "(59834, 4)\n",
      "Invalid data, retrying...\n",
      "Iteration 100\n",
      "PALM reached maximum number of iterations\n",
      "2 0.05 2\n",
      "(59838, 4)\n",
      "Score: 0.7157100851253596\n",
      "PERCENT: 10\n",
      "Iteration 100\n",
      "PALM reached maximum number of iterations\n",
      "2 0.1 2\n",
      "(56685, 4)\n",
      "Score: 0.7251040617611912\n",
      "PERCENT: 15\n",
      "Iteration 100\n",
      "PALM reached maximum number of iterations\n",
      "2 0.15 2\n",
      "(53518, 4)\n",
      "Score: 0.7322866911805452\n",
      "PERCENT: 20\n",
      "Iteration 100\n",
      "PALM reached maximum number of iterations\n",
      "2 0.2 2\n",
      "(50368, 4)\n",
      "Score: 0.08895179341224578\n",
      "PERCENT: 25\n",
      "Iteration 100\n",
      "PALM reached maximum number of iterations\n",
      "2 0.25 2\n",
      "(47192, 4)\n",
      "Invalid data, retrying...\n",
      "Iteration 100\n",
      "PALM reached maximum number of iterations\n",
      "2 0.25 2\n",
      "(47206, 4)\n",
      "Score: 0.08130769751565574\n",
      "PERCENT: 30\n",
      "Iteration 100\n",
      "PALM reached maximum number of iterations\n",
      "2 0.3 2\n",
      "(44076, 4)\n",
      "Score: 0.7504329287463191\n",
      "Best Silhouette Score: 0.7504329287463191\n",
      "Best Percent: 30\n"
     ]
    }
   ],
   "source": [
    "from sklearn.metrics import silhouette_score\n",
    "\n",
    "# Function find optimal RTKM cluster\n",
    "def find_optimal_RTKM(df):\n",
    "    best_score = -1\n",
    "    best_percent = 0\n",
    "    best_cluster = None\n",
    "    best_all = None\n",
    "\n",
    "    for percent in range(5, 35, 5):\n",
    "        print(\"PERCENT:\", percent)\n",
    "\n",
    "        # Jalankan RTKM dengan parameter tertentu\n",
    "        retry_count = 0\n",
    "        max_retries = 3  # Tentukan jumlah maksimum percobaan\n",
    "\n",
    "        while retry_count < max_retries:\n",
    "            inliers, all_data = generate_data_RTKM(df, 2, percent / 100, 2)\n",
    "            inliers_no_id = inliers.drop(['cluster_id'], axis=1)\n",
    "\n",
    "            print(inliers.shape)\n",
    "\n",
    "            # Skip invalid data\n",
    "            if inliers[\"cluster_id\"].nunique() == 1:\n",
    "                print(\"Invalid data, retrying...\")\n",
    "                retry_count += 1\n",
    "                continue\n",
    "\n",
    "            # Hitung skor siluet\n",
    "            score = silhouette_score(inliers_no_id, inliers['cluster_id'])\n",
    "            print(\"Score:\", score)\n",
    "\n",
    "            # Perbarui parameter terbaik jika skor lebih tinggi\n",
    "            if score > best_score:\n",
    "                best_score = score\n",
    "                best_percent = percent\n",
    "                best_cluster = inliers\n",
    "                best_all = all_data\n",
    "\n",
    "            break  # Keluar dari loop retry jika data valid\n",
    "\n",
    "    print(\"Best Silhouette Score:\", best_score)\n",
    "    print(\"Best Percent:\", best_percent)\n",
    "\n",
    "    return best_cluster, best_all\n",
    "\n",
    "optimal_inlier, optimal_cluster = find_optimal_RTKM(df_scaled)"
   ]
  },
  {
   "cell_type": "code",
   "execution_count": 21,
   "metadata": {},
   "outputs": [
    {
     "name": "stderr",
     "output_type": "stream",
     "text": [
      "c:\\Users\\jptri\\AppData\\Local\\Programs\\Python\\Python39\\lib\\site-packages\\seaborn\\axisgrid.py:1615: UserWarning: \n",
      "The markers list has fewer values (2) than needed (3) and will cycle, which may produce an uninterpretable plot.\n",
      "  func(x=x, y=y, **kwargs)\n",
      "c:\\Users\\jptri\\AppData\\Local\\Programs\\Python\\Python39\\lib\\site-packages\\seaborn\\axisgrid.py:1615: UserWarning: \n",
      "The markers list has fewer values (2) than needed (3) and will cycle, which may produce an uninterpretable plot.\n",
      "  func(x=x, y=y, **kwargs)\n"
     ]
    },
    {
     "data": {
      "text/plain": [
       "<seaborn.axisgrid.PairGrid at 0x1e9e0bbad90>"
      ]
     },
     "execution_count": 21,
     "metadata": {},
     "output_type": "execute_result"
    },
    {
     "data": {
      "text/plain": [
       "<Figure size 800x800 with 0 Axes>"
      ]
     },
     "metadata": {},
     "output_type": "display_data"
    },
    {
     "data": {
      "image/png": "[encoded data removed]",
      "text/plain": [
       "<Figure size 586.625x500 with 6 Axes>"
      ]
     },
     "metadata": {},
     "output_type": "display_data"
    }
   ],
   "source": [
    "from sklearn.decomposition import PCA\n",
    "import seaborn as sns \n",
    "\n",
    "pca = PCA(n_components=2)\n",
    "df_pca = pca.fit_transform(df_scaled)\n",
    "\n",
    "df_pca = pd.DataFrame(df_pca, columns=['PC 1', 'PC2'])\n",
    "\n",
    "#PAIR PLOT with OUTLIERS\n",
    "df_pca['cluster_id'] = optimal_cluster.loc[:, optimal_cluster.columns.isin(['cluster_id'])]\n",
    "\n",
    "plt.figure(figsize=(8,8))\n",
    "sns.pairplot(data=df_pca, hue='cluster_id', markers=[\"o\", \"D\"])"
   ]
  },
  {
   "cell_type": "markdown",
   "metadata": {},
   "source": [
    "# ALL PARAMS"
   ]
  },
  {
   "cell_type": "code",
   "execution_count": 107,
   "metadata": {},
   "outputs": [
    {
     "name": "stderr",
     "output_type": "stream",
     "text": [
      "  0%|          | 0/600 [00:00<?, ?it/s]"
     ]
    },
    {
     "name": "stdout",
     "output_type": "stream",
     "text": [
      "1 0.05 1\n",
      "Iteration 100\n",
      "PALM reached maximum number of iterations\n",
      "1 0.05 1\n"
     ]
    },
    {
     "name": "stderr",
     "output_type": "stream",
     "text": [
      "  0%|          | 1/600 [01:03<10:32:35, 63.37s/it]"
     ]
    },
    {
     "name": "stdout",
     "output_type": "stream",
     "text": [
      "Score: 0.7200361567614704\n",
      "1 0.1 1\n",
      "Iteration 100\n",
      "PALM reached maximum number of iterations\n",
      "1 0.1 1\n"
     ]
    },
    {
     "name": "stderr",
     "output_type": "stream",
     "text": [
      "  0%|          | 2/600 [01:52<9:08:33, 55.04s/it] "
     ]
    },
    {
     "name": "stdout",
     "output_type": "stream",
     "text": [
      "Score: 0.7353358365948011\n",
      "1 0.15 1\n",
      "Iteration 100\n",
      "PALM reached maximum number of iterations\n",
      "1 0.15 1\n"
     ]
    },
    {
     "name": "stderr",
     "output_type": "stream",
     "text": [
      "  0%|          | 3/600 [02:36<8:17:46, 50.03s/it]"
     ]
    },
    {
     "name": "stdout",
     "output_type": "stream",
     "text": [
      "Score: 0.7483909723271657\n",
      "1 0.2 1\n",
      "Iteration 100\n",
      "PALM reached maximum number of iterations\n",
      "1 0.2 1\n"
     ]
    },
    {
     "name": "stderr",
     "output_type": "stream",
     "text": [
      "  1%|          | 4/600 [03:15<7:35:03, 45.81s/it]"
     ]
    },
    {
     "name": "stdout",
     "output_type": "stream",
     "text": [
      "Score: 0.4163186167838925\n",
      "1 0.25 1\n",
      "Iteration 100\n",
      "PALM reached maximum number of iterations\n",
      "1 0.25 1\n"
     ]
    },
    {
     "name": "stderr",
     "output_type": "stream",
     "text": [
      "  1%|          | 5/600 [03:50<6:55:27, 41.90s/it]"
     ]
    },
    {
     "name": "stdout",
     "output_type": "stream",
     "text": [
      "Score: 0.4220054601678048\n",
      "1 0.3 1\n",
      "Iteration 100\n",
      "PALM reached maximum number of iterations\n",
      "1 0.3 1\n"
     ]
    },
    {
     "name": "stderr",
     "output_type": "stream",
     "text": [
      "  1%|          | 6/600 [04:21<6:18:02, 38.19s/it]"
     ]
    },
    {
     "name": "stdout",
     "output_type": "stream",
     "text": [
      "Score: 0.4263576897297326\n",
      "1 0.05 2\n",
      "Iteration 100\n",
      "PALM reached maximum number of iterations\n",
      "1 0.05 2\n",
      "Invalid data, retrying...\n",
      "Iteration 100\n",
      "PALM reached maximum number of iterations\n",
      "1 0.05 2\n",
      "Invalid data, retrying...\n",
      "Iteration 100\n",
      "PALM reached maximum number of iterations\n",
      "1 0.05 2\n",
      "Invalid data, retrying...\n"
     ]
    },
    {
     "name": "stderr",
     "output_type": "stream",
     "text": [
      "  1%|          | 7/600 [05:44<8:42:24, 52.86s/it]"
     ]
    },
    {
     "name": "stdout",
     "output_type": "stream",
     "text": [
      "1 0.1 2\n",
      "Iteration 100\n",
      "PALM reached maximum number of iterations\n",
      "1 0.1 2\n",
      "Invalid data, retrying...\n",
      "Iteration 100\n",
      "PALM reached maximum number of iterations\n",
      "1 0.1 2\n",
      "Invalid data, retrying...\n",
      "Iteration 100\n",
      "PALM reached maximum number of iterations\n",
      "1 0.1 2\n",
      "Invalid data, retrying...\n"
     ]
    },
    {
     "name": "stderr",
     "output_type": "stream",
     "text": [
      "  1%|▏         | 8/600 [07:07<10:15:53, 62.42s/it]"
     ]
    },
    {
     "name": "stdout",
     "output_type": "stream",
     "text": [
      "1 0.15 2\n",
      "Iteration 100\n",
      "PALM reached maximum number of iterations\n",
      "1 0.15 2\n",
      "Invalid data, retrying...\n",
      "Iteration 100\n",
      "PALM reached maximum number of iterations\n",
      "1 0.15 2\n",
      "Invalid data, retrying...\n",
      "Iteration 100\n",
      "PALM reached maximum number of iterations\n",
      "1 0.15 2\n",
      "Invalid data, retrying...\n"
     ]
    },
    {
     "name": "stderr",
     "output_type": "stream",
     "text": [
      "  2%|▏         | 9/600 [08:31<11:19:43, 69.01s/it]"
     ]
    },
    {
     "name": "stdout",
     "output_type": "stream",
     "text": [
      "1 0.2 2\n",
      "Iteration 100\n",
      "PALM reached maximum number of iterations\n",
      "1 0.2 2\n",
      "Invalid data, retrying...\n",
      "Iteration 100\n",
      "PALM reached maximum number of iterations\n",
      "1 0.2 2\n",
      "Invalid data, retrying...\n",
      "Iteration 100\n",
      "PALM reached maximum number of iterations\n",
      "1 0.2 2\n",
      "Invalid data, retrying...\n"
     ]
    },
    {
     "name": "stderr",
     "output_type": "stream",
     "text": [
      "  2%|▏         | 10/600 [09:59<12:15:43, 74.82s/it]"
     ]
    },
    {
     "name": "stdout",
     "output_type": "stream",
     "text": [
      "1 0.25 2\n",
      "Iteration 100\n",
      "PALM reached maximum number of iterations\n",
      "1 0.25 2\n",
      "Invalid data, retrying...\n",
      "Iteration 100\n",
      "PALM reached maximum number of iterations\n",
      "1 0.25 2\n",
      "Invalid data, retrying...\n",
      "Iteration 100\n",
      "PALM reached maximum number of iterations\n",
      "1 0.25 2\n",
      "Invalid data, retrying...\n"
     ]
    },
    {
     "name": "stderr",
     "output_type": "stream",
     "text": [
      "  2%|▏         | 11/600 [11:23<12:41:40, 77.59s/it]"
     ]
    },
    {
     "name": "stdout",
     "output_type": "stream",
     "text": [
      "1 0.3 2\n",
      "Iteration 100\n",
      "PALM reached maximum number of iterations\n",
      "1 0.3 2\n",
      "Invalid data, retrying...\n",
      "Iteration 100\n",
      "PALM reached maximum number of iterations\n",
      "1 0.3 2\n",
      "Invalid data, retrying...\n",
      "Iteration 100\n",
      "PALM reached maximum number of iterations\n",
      "1 0.3 2\n",
      "Invalid data, retrying...\n"
     ]
    },
    {
     "name": "stderr",
     "output_type": "stream",
     "text": [
      "  2%|▏         | 12/600 [12:46<12:56:51, 79.27s/it]"
     ]
    },
    {
     "name": "stdout",
     "output_type": "stream",
     "text": [
      "1 0.05 3\n",
      "Iteration 100\n",
      "PALM reached maximum number of iterations\n",
      "1 0.05 3\n",
      "Invalid data, retrying...\n",
      "Iteration 100\n",
      "PALM reached maximum number of iterations\n",
      "1 0.05 3\n",
      "Invalid data, retrying...\n",
      "Iteration 100\n",
      "PALM reached maximum number of iterations\n",
      "1 0.05 3\n"
     ]
    },
    {
     "name": "stderr",
     "output_type": "stream",
     "text": [
      "  2%|▏         | 13/600 [15:01<15:41:36, 96.25s/it]"
     ]
    },
    {
     "name": "stdout",
     "output_type": "stream",
     "text": [
      "Score: -0.30985763966376684\n",
      "1 0.1 3\n",
      "Iteration 100\n",
      "PALM reached maximum number of iterations\n",
      "1 0.1 3\n",
      "Invalid data, retrying...\n",
      "Iteration 100\n",
      "PALM reached maximum number of iterations\n",
      "1 0.1 3\n",
      "Invalid data, retrying...\n",
      "Iteration 100\n",
      "PALM reached maximum number of iterations\n",
      "1 0.1 3\n",
      "Invalid data, retrying...\n"
     ]
    },
    {
     "name": "stderr",
     "output_type": "stream",
     "text": [
      "  2%|▏         | 14/600 [16:25<15:04:31, 92.61s/it]"
     ]
    },
    {
     "name": "stdout",
     "output_type": "stream",
     "text": [
      "1 0.15 3\n",
      "Iteration 100\n",
      "PALM reached maximum number of iterations\n",
      "1 0.15 3\n",
      "Invalid data, retrying...\n",
      "Iteration 100\n",
      "PALM reached maximum number of iterations\n",
      "1 0.15 3\n"
     ]
    },
    {
     "name": "stderr",
     "output_type": "stream",
     "text": [
      "  2%|▎         | 15/600 [18:00<15:09:04, 93.24s/it]"
     ]
    },
    {
     "name": "stdout",
     "output_type": "stream",
     "text": [
      "Score: 0.006550797981001006\n",
      "1 0.2 3\n",
      "Iteration 100\n",
      "PALM reached maximum number of iterations\n",
      "1 0.2 3\n",
      "Invalid data, retrying...\n",
      "Iteration 100\n",
      "PALM reached maximum number of iterations\n",
      "1 0.2 3\n"
     ]
    },
    {
     "name": "stderr",
     "output_type": "stream",
     "text": [
      "  3%|▎         | 16/600 [19:31<15:00:47, 92.55s/it]"
     ]
    },
    {
     "name": "stdout",
     "output_type": "stream",
     "text": [
      "Score: -0.09858704715032973\n",
      "1 0.25 3\n",
      "Iteration 100\n",
      "PALM reached maximum number of iterations\n",
      "1 0.25 3\n",
      "Invalid data, retrying...\n",
      "Iteration 100\n",
      "PALM reached maximum number of iterations\n",
      "1 0.25 3\n",
      "Invalid data, retrying...\n",
      "Iteration 100\n",
      "PALM reached maximum number of iterations\n",
      "1 0.25 3\n",
      "Invalid data, retrying...\n"
     ]
    },
    {
     "name": "stderr",
     "output_type": "stream",
     "text": [
      "  3%|▎         | 17/600 [20:54<14:32:46, 89.82s/it]"
     ]
    },
    {
     "name": "stdout",
     "output_type": "stream",
     "text": [
      "1 0.3 3\n",
      "Iteration 100\n",
      "PALM reached maximum number of iterations\n",
      "1 0.3 3\n",
      "Invalid data, retrying...\n",
      "Iteration 100\n",
      "PALM reached maximum number of iterations\n",
      "1 0.3 3\n",
      "Invalid data, retrying...\n",
      "Iteration 100\n",
      "PALM reached maximum number of iterations\n",
      "1 0.3 3\n",
      "Invalid data, retrying...\n"
     ]
    },
    {
     "name": "stderr",
     "output_type": "stream",
     "text": [
      "  3%|▎         | 18/600 [22:18<14:12:50, 87.92s/it]"
     ]
    },
    {
     "name": "stdout",
     "output_type": "stream",
     "text": [
      "1 0.05 4\n",
      "Iteration 100\n",
      "PALM reached maximum number of iterations\n",
      "1 0.05 4\n"
     ]
    },
    {
     "name": "stderr",
     "output_type": "stream",
     "text": [
      "  3%|▎         | 19/600 [23:35<13:40:22, 84.72s/it]"
     ]
    },
    {
     "name": "stdout",
     "output_type": "stream",
     "text": [
      "Score: -0.29980536000657354\n",
      "1 0.1 4\n",
      "Iteration 100\n",
      "PALM reached maximum number of iterations\n",
      "1 0.1 4\n",
      "Invalid data, retrying...\n",
      "Iteration 100\n",
      "PALM reached maximum number of iterations\n",
      "1 0.1 4\n",
      "Invalid data, retrying...\n",
      "Iteration 100\n",
      "PALM reached maximum number of iterations\n",
      "1 0.1 4\n",
      "Invalid data, retrying...\n"
     ]
    },
    {
     "name": "stderr",
     "output_type": "stream",
     "text": [
      "  3%|▎         | 20/600 [25:03<13:47:51, 85.64s/it]"
     ]
    },
    {
     "name": "stdout",
     "output_type": "stream",
     "text": [
      "1 0.15 4\n",
      "Iteration 100\n",
      "PALM reached maximum number of iterations\n",
      "1 0.15 4\n",
      "Invalid data, retrying...\n",
      "Iteration 100\n",
      "PALM reached maximum number of iterations\n",
      "1 0.15 4\n",
      "Invalid data, retrying...\n",
      "Iteration 100\n",
      "PALM reached maximum number of iterations\n",
      "1 0.15 4\n",
      "Invalid data, retrying...\n"
     ]
    },
    {
     "name": "stderr",
     "output_type": "stream",
     "text": [
      "  4%|▎         | 21/600 [26:27<13:42:14, 85.21s/it]"
     ]
    },
    {
     "name": "stdout",
     "output_type": "stream",
     "text": [
      "1 0.2 4\n",
      "Iteration 100\n",
      "PALM reached maximum number of iterations\n",
      "1 0.2 4\n",
      "Invalid data, retrying...\n",
      "Iteration 100\n",
      "PALM reached maximum number of iterations\n",
      "1 0.2 4\n"
     ]
    },
    {
     "name": "stderr",
     "output_type": "stream",
     "text": [
      "  4%|▎         | 22/600 [27:58<13:57:05, 86.90s/it]"
     ]
    },
    {
     "name": "stdout",
     "output_type": "stream",
     "text": [
      "Score: 0.031846806504958886\n",
      "1 0.25 4\n",
      "Iteration 100\n",
      "PALM reached maximum number of iterations\n",
      "1 0.25 4\n",
      "Invalid data, retrying...\n",
      "Iteration 100\n",
      "PALM reached maximum number of iterations\n",
      "1 0.25 4\n",
      "Invalid data, retrying...\n",
      "Iteration 100\n",
      "PALM reached maximum number of iterations\n",
      "1 0.25 4\n"
     ]
    },
    {
     "name": "stderr",
     "output_type": "stream",
     "text": [
      "  4%|▍         | 23/600 [29:52<15:14:46, 95.12s/it]"
     ]
    },
    {
     "name": "stdout",
     "output_type": "stream",
     "text": [
      "Score: -0.24039539621715925\n",
      "1 0.3 4\n",
      "Iteration 100\n",
      "PALM reached maximum number of iterations\n",
      "1 0.3 4\n",
      "Invalid data, retrying...\n",
      "Iteration 100\n",
      "PALM reached maximum number of iterations\n",
      "1 0.3 4\n",
      "Invalid data, retrying...\n",
      "Iteration 100\n",
      "PALM reached maximum number of iterations\n",
      "1 0.3 4\n",
      "Invalid data, retrying...\n"
     ]
    },
    {
     "name": "stderr",
     "output_type": "stream",
     "text": [
      "  4%|▍         | 24/600 [31:17<14:44:31, 92.14s/it]"
     ]
    },
    {
     "name": "stdout",
     "output_type": "stream",
     "text": [
      "1 0.05 5\n",
      "Iteration 100\n",
      "PALM reached maximum number of iterations\n",
      "1 0.05 5\n",
      "Invalid data, retrying...\n",
      "Iteration 100\n",
      "PALM reached maximum number of iterations\n",
      "1 0.05 5\n",
      "Invalid data, retrying...\n",
      "Iteration 100\n",
      "PALM reached maximum number of iterations\n",
      "1 0.05 5\n",
      "Invalid data, retrying...\n"
     ]
    },
    {
     "name": "stderr",
     "output_type": "stream",
     "text": [
      "  4%|▍         | 25/600 [32:40<14:14:37, 89.18s/it]"
     ]
    },
    {
     "name": "stdout",
     "output_type": "stream",
     "text": [
      "1 0.1 5\n",
      "Iteration 100\n",
      "PALM reached maximum number of iterations\n",
      "1 0.1 5\n",
      "Invalid data, retrying...\n",
      "Iteration 100\n",
      "PALM reached maximum number of iterations\n",
      "1 0.1 5\n",
      "Invalid data, retrying...\n",
      "Iteration 100\n",
      "PALM reached maximum number of iterations\n",
      "1 0.1 5\n",
      "Invalid data, retrying...\n"
     ]
    },
    {
     "name": "stderr",
     "output_type": "stream",
     "text": [
      "  4%|▍         | 26/600 [34:02<13:53:49, 87.16s/it]"
     ]
    },
    {
     "name": "stdout",
     "output_type": "stream",
     "text": [
      "1 0.15 5\n",
      "Iteration 100\n",
      "PALM reached maximum number of iterations\n",
      "1 0.15 5\n"
     ]
    },
    {
     "name": "stderr",
     "output_type": "stream",
     "text": [
      "  4%|▍         | 27/600 [35:08<12:52:05, 80.85s/it]"
     ]
    },
    {
     "name": "stdout",
     "output_type": "stream",
     "text": [
      "Score: -0.3356688093467333\n",
      "1 0.2 5\n",
      "Iteration 100\n",
      "PALM reached maximum number of iterations\n",
      "1 0.2 5\n",
      "Invalid data, retrying...\n",
      "Iteration 100\n",
      "PALM reached maximum number of iterations\n",
      "1 0.2 5\n",
      "Invalid data, retrying...\n",
      "Iteration 100\n",
      "PALM reached maximum number of iterations\n",
      "1 0.2 5\n"
     ]
    },
    {
     "name": "stderr",
     "output_type": "stream",
     "text": [
      "  5%|▍         | 28/600 [37:05<14:34:15, 91.70s/it]"
     ]
    },
    {
     "name": "stdout",
     "output_type": "stream",
     "text": [
      "Score: -0.1688757298641832\n",
      "1 0.25 5\n",
      "Iteration 100\n",
      "PALM reached maximum number of iterations\n",
      "1 0.25 5\n",
      "Invalid data, retrying...\n",
      "Iteration 100\n",
      "PALM reached maximum number of iterations\n",
      "1 0.25 5\n",
      "Invalid data, retrying...\n",
      "Iteration 100\n",
      "PALM reached maximum number of iterations\n",
      "1 0.25 5\n",
      "Invalid data, retrying...\n"
     ]
    },
    {
     "name": "stderr",
     "output_type": "stream",
     "text": [
      "  5%|▍         | 29/600 [38:28<14:07:27, 89.05s/it]"
     ]
    },
    {
     "name": "stdout",
     "output_type": "stream",
     "text": [
      "1 0.3 5\n",
      "Iteration 100\n",
      "PALM reached maximum number of iterations\n",
      "1 0.3 5\n"
     ]
    },
    {
     "name": "stderr",
     "output_type": "stream",
     "text": [
      "  5%|▌         | 30/600 [39:21<12:23:46, 78.29s/it]"
     ]
    },
    {
     "name": "stdout",
     "output_type": "stream",
     "text": [
      "Score: -0.09253993405911677\n",
      "1 0.05 6\n",
      "Iteration 100\n",
      "PALM reached maximum number of iterations\n",
      "1 0.05 6\n"
     ]
    },
    {
     "name": "stderr",
     "output_type": "stream",
     "text": [
      "  5%|▌         | 31/600 [40:37<12:16:13, 77.63s/it]"
     ]
    },
    {
     "name": "stdout",
     "output_type": "stream",
     "text": [
      "Score: 0.04064111336340945\n",
      "1 0.1 6\n",
      "Iteration 100\n",
      "PALM reached maximum number of iterations\n",
      "1 0.1 6\n",
      "Invalid data, retrying...\n",
      "Iteration 100\n",
      "PALM reached maximum number of iterations\n",
      "1 0.1 6\n",
      "Invalid data, retrying...\n",
      "Iteration 100\n",
      "PALM reached maximum number of iterations\n",
      "1 0.1 6\n",
      "Invalid data, retrying...\n"
     ]
    },
    {
     "name": "stderr",
     "output_type": "stream",
     "text": [
      "  5%|▌         | 32/600 [42:00<12:28:37, 79.08s/it]"
     ]
    },
    {
     "name": "stdout",
     "output_type": "stream",
     "text": [
      "1 0.15 6\n",
      "Iteration 100\n",
      "PALM reached maximum number of iterations\n",
      "1 0.15 6\n",
      "Invalid data, retrying...\n",
      "Iteration 100\n",
      "PALM reached maximum number of iterations\n",
      "1 0.15 6\n",
      "Invalid data, retrying...\n",
      "Iteration 100\n",
      "PALM reached maximum number of iterations\n",
      "1 0.15 6\n",
      "Invalid data, retrying...\n"
     ]
    },
    {
     "name": "stderr",
     "output_type": "stream",
     "text": [
      "  6%|▌         | 33/600 [43:22<12:35:22, 79.93s/it]"
     ]
    },
    {
     "name": "stdout",
     "output_type": "stream",
     "text": [
      "1 0.2 6\n",
      "Iteration 100\n",
      "PALM reached maximum number of iterations\n",
      "1 0.2 6\n"
     ]
    },
    {
     "name": "stderr",
     "output_type": "stream",
     "text": [
      "  6%|▌         | 34/600 [44:25<11:46:18, 74.87s/it]"
     ]
    },
    {
     "name": "stdout",
     "output_type": "stream",
     "text": [
      "Score: 0.25601429634676826\n",
      "1 0.25 6\n",
      "Iteration 100\n",
      "PALM reached maximum number of iterations\n",
      "1 0.25 6\n",
      "Invalid data, retrying...\n",
      "Iteration 100\n",
      "PALM reached maximum number of iterations\n",
      "1 0.25 6\n",
      "Invalid data, retrying...\n",
      "Iteration 100\n",
      "PALM reached maximum number of iterations\n",
      "1 0.25 6\n",
      "Invalid data, retrying...\n"
     ]
    },
    {
     "name": "stderr",
     "output_type": "stream",
     "text": [
      "  6%|▌         | 35/600 [45:48<12:08:22, 77.35s/it]"
     ]
    },
    {
     "name": "stdout",
     "output_type": "stream",
     "text": [
      "1 0.3 6\n",
      "Iteration 100\n",
      "PALM reached maximum number of iterations\n",
      "1 0.3 6\n",
      "Invalid data, retrying...\n",
      "Iteration 100\n",
      "PALM reached maximum number of iterations\n",
      "1 0.3 6\n",
      "Invalid data, retrying...\n",
      "Iteration 100\n",
      "PALM reached maximum number of iterations\n",
      "1 0.3 6\n",
      "Invalid data, retrying...\n"
     ]
    },
    {
     "name": "stderr",
     "output_type": "stream",
     "text": [
      "  6%|▌         | 36/600 [47:13<12:28:10, 79.59s/it]"
     ]
    },
    {
     "name": "stdout",
     "output_type": "stream",
     "text": [
      "1 0.05 7\n",
      "Iteration 100\n",
      "PALM reached maximum number of iterations\n",
      "1 0.05 7\n"
     ]
    },
    {
     "name": "stderr",
     "output_type": "stream",
     "text": [
      "  6%|▌         | 37/600 [48:28<12:14:20, 78.26s/it]"
     ]
    },
    {
     "name": "stdout",
     "output_type": "stream",
     "text": [
      "Score: -0.2579602749525927\n",
      "1 0.1 7\n",
      "Iteration 100\n",
      "PALM reached maximum number of iterations\n",
      "1 0.1 7\n",
      "Invalid data, retrying...\n",
      "Iteration 100\n",
      "PALM reached maximum number of iterations\n",
      "1 0.1 7\n",
      "Invalid data, retrying...\n",
      "Iteration 100\n",
      "PALM reached maximum number of iterations\n",
      "1 0.1 7\n",
      "Invalid data, retrying...\n"
     ]
    },
    {
     "name": "stderr",
     "output_type": "stream",
     "text": [
      "  6%|▋         | 38/600 [49:50<12:24:53, 79.52s/it]"
     ]
    },
    {
     "name": "stdout",
     "output_type": "stream",
     "text": [
      "1 0.15 7\n",
      "Iteration 100\n",
      "PALM reached maximum number of iterations\n",
      "1 0.15 7\n",
      "Invalid data, retrying...\n",
      "Iteration 100\n",
      "PALM reached maximum number of iterations\n",
      "1 0.15 7\n",
      "Invalid data, retrying...\n",
      "Iteration 100\n",
      "PALM reached maximum number of iterations\n",
      "1 0.15 7\n",
      "Invalid data, retrying...\n"
     ]
    },
    {
     "name": "stderr",
     "output_type": "stream",
     "text": [
      "  6%|▋         | 39/600 [51:14<12:33:42, 80.61s/it]"
     ]
    },
    {
     "name": "stdout",
     "output_type": "stream",
     "text": [
      "1 0.2 7\n",
      "Iteration 100\n",
      "PALM reached maximum number of iterations\n",
      "1 0.2 7\n"
     ]
    },
    {
     "name": "stderr",
     "output_type": "stream",
     "text": [
      "  7%|▋         | 40/600 [52:16<11:40:26, 75.05s/it]"
     ]
    },
    {
     "name": "stdout",
     "output_type": "stream",
     "text": [
      "Score: -0.2793882043759565\n",
      "1 0.25 7\n",
      "Iteration 100\n",
      "PALM reached maximum number of iterations\n",
      "1 0.25 7\n",
      "Invalid data, retrying...\n",
      "Iteration 100\n",
      "PALM reached maximum number of iterations\n",
      "1 0.25 7\n",
      "Invalid data, retrying...\n",
      "Iteration 100\n",
      "PALM reached maximum number of iterations\n",
      "1 0.25 7\n"
     ]
    },
    {
     "name": "stderr",
     "output_type": "stream",
     "text": [
      "  7%|▋         | 41/600 [54:08<13:24:36, 86.36s/it]"
     ]
    },
    {
     "name": "stdout",
     "output_type": "stream",
     "text": [
      "Score: -0.13569095020220695\n",
      "1 0.3 7\n",
      "Iteration 100\n",
      "PALM reached maximum number of iterations\n",
      "1 0.3 7\n",
      "Invalid data, retrying...\n",
      "Iteration 100\n",
      "PALM reached maximum number of iterations\n",
      "1 0.3 7\n"
     ]
    },
    {
     "name": "stderr",
     "output_type": "stream",
     "text": [
      "  7%|▋         | 42/600 [55:29<13:06:49, 84.60s/it]"
     ]
    },
    {
     "name": "stdout",
     "output_type": "stream",
     "text": [
      "Score: -0.10036131330989227\n",
      "1 0.05 8\n",
      "Iteration 100\n",
      "PALM reached maximum number of iterations\n",
      "1 0.05 8\n"
     ]
    },
    {
     "name": "stderr",
     "output_type": "stream",
     "text": [
      "  7%|▋         | 43/600 [56:44<12:39:53, 81.86s/it]"
     ]
    },
    {
     "name": "stdout",
     "output_type": "stream",
     "text": [
      "Score: -0.06481185046199173\n",
      "1 0.1 8\n",
      "Iteration 100\n",
      "PALM reached maximum number of iterations\n",
      "1 0.1 8\n",
      "Invalid data, retrying...\n",
      "Iteration 100\n",
      "PALM reached maximum number of iterations\n",
      "1 0.1 8\n",
      "Invalid data, retrying...\n",
      "Iteration 100\n",
      "PALM reached maximum number of iterations\n",
      "1 0.1 8\n"
     ]
    },
    {
     "name": "stderr",
     "output_type": "stream",
     "text": [
      "  7%|▋         | 44/600 [58:50<14:38:59, 94.85s/it]"
     ]
    },
    {
     "name": "stdout",
     "output_type": "stream",
     "text": [
      "Score: -0.0875527269847999\n",
      "1 0.15 8\n",
      "Iteration 100\n",
      "PALM reached maximum number of iterations\n",
      "1 0.15 8\n",
      "Invalid data, retrying...\n",
      "Iteration 100\n",
      "PALM reached maximum number of iterations\n",
      "1 0.15 8\n",
      "Invalid data, retrying...\n",
      "Iteration 100\n",
      "PALM reached maximum number of iterations\n",
      "1 0.15 8\n",
      "Invalid data, retrying...\n"
     ]
    },
    {
     "name": "stderr",
     "output_type": "stream",
     "text": [
      "  8%|▊         | 45/600 [1:00:12<14:03:16, 91.16s/it]"
     ]
    },
    {
     "name": "stdout",
     "output_type": "stream",
     "text": [
      "1 0.2 8\n",
      "Iteration 100\n",
      "PALM reached maximum number of iterations\n",
      "1 0.2 8\n",
      "Invalid data, retrying...\n",
      "Iteration 100\n",
      "PALM reached maximum number of iterations\n",
      "1 0.2 8\n",
      "Invalid data, retrying...\n",
      "Iteration 100\n",
      "PALM reached maximum number of iterations\n",
      "1 0.2 8\n"
     ]
    },
    {
     "name": "stderr",
     "output_type": "stream",
     "text": [
      "  8%|▊         | 46/600 [1:02:09<15:12:37, 98.84s/it]"
     ]
    },
    {
     "name": "stdout",
     "output_type": "stream",
     "text": [
      "Score: -0.27974020072225947\n",
      "1 0.25 8\n",
      "Iteration 100\n",
      "PALM reached maximum number of iterations\n",
      "1 0.25 8\n",
      "Invalid data, retrying...\n",
      "Iteration 100\n",
      "PALM reached maximum number of iterations\n",
      "1 0.25 8\n",
      "Invalid data, retrying...\n",
      "Iteration 100\n",
      "PALM reached maximum number of iterations\n",
      "1 0.25 8\n"
     ]
    },
    {
     "name": "stderr",
     "output_type": "stream",
     "text": [
      "  8%|▊         | 47/600 [1:04:01<15:48:11, 102.88s/it]"
     ]
    },
    {
     "name": "stdout",
     "output_type": "stream",
     "text": [
      "Score: -0.07363206598377349\n",
      "1 0.3 8\n",
      "Iteration 100\n",
      "PALM reached maximum number of iterations\n",
      "1 0.3 8\n",
      "Invalid data, retrying...\n",
      "Iteration 100\n",
      "PALM reached maximum number of iterations\n",
      "1 0.3 8\n",
      "Invalid data, retrying...\n",
      "Iteration 100\n",
      "PALM reached maximum number of iterations\n",
      "1 0.3 8\n",
      "Invalid data, retrying...\n"
     ]
    },
    {
     "name": "stderr",
     "output_type": "stream",
     "text": [
      "  8%|▊         | 48/600 [1:05:25<14:54:43, 97.25s/it] "
     ]
    },
    {
     "name": "stdout",
     "output_type": "stream",
     "text": [
      "1 0.05 9\n",
      "Iteration 100\n",
      "PALM reached maximum number of iterations\n",
      "1 0.05 9\n"
     ]
    },
    {
     "name": "stderr",
     "output_type": "stream",
     "text": [
      "  8%|▊         | 49/600 [1:06:42<13:55:57, 91.03s/it]"
     ]
    },
    {
     "name": "stdout",
     "output_type": "stream",
     "text": [
      "Score: -0.17783677614258775\n",
      "1 0.1 9\n",
      "Iteration 100\n",
      "PALM reached maximum number of iterations\n",
      "1 0.1 9\n",
      "Invalid data, retrying...\n",
      "Iteration 100\n",
      "PALM reached maximum number of iterations\n",
      "1 0.1 9\n",
      "Invalid data, retrying...\n",
      "Iteration 100\n",
      "PALM reached maximum number of iterations\n",
      "1 0.1 9\n"
     ]
    },
    {
     "name": "stderr",
     "output_type": "stream",
     "text": [
      "  8%|▊         | 50/600 [1:08:48<15:30:26, 101.50s/it]"
     ]
    },
    {
     "name": "stdout",
     "output_type": "stream",
     "text": [
      "Score: 0.018242529546760117\n",
      "1 0.15 9\n",
      "Iteration 100\n",
      "PALM reached maximum number of iterations\n",
      "1 0.15 9\n"
     ]
    },
    {
     "name": "stderr",
     "output_type": "stream",
     "text": [
      "  8%|▊         | 51/600 [1:09:54<13:53:09, 91.06s/it] "
     ]
    },
    {
     "name": "stdout",
     "output_type": "stream",
     "text": [
      "Score: -0.11217682274390982\n",
      "1 0.2 9\n",
      "Iteration 100\n",
      "PALM reached maximum number of iterations\n",
      "1 0.2 9\n",
      "Invalid data, retrying...\n",
      "Iteration 100\n",
      "PALM reached maximum number of iterations\n",
      "1 0.2 9\n",
      "Invalid data, retrying...\n",
      "Iteration 100\n",
      "PALM reached maximum number of iterations\n",
      "1 0.2 9\n",
      "Invalid data, retrying...\n"
     ]
    },
    {
     "name": "stderr",
     "output_type": "stream",
     "text": [
      "  9%|▊         | 52/600 [1:11:18<13:30:30, 88.74s/it]"
     ]
    },
    {
     "name": "stdout",
     "output_type": "stream",
     "text": [
      "1 0.25 9\n",
      "Iteration 100\n",
      "PALM reached maximum number of iterations\n",
      "1 0.25 9\n",
      "Invalid data, retrying...\n",
      "Iteration 100\n",
      "PALM reached maximum number of iterations\n",
      "1 0.25 9\n",
      "Invalid data, retrying...\n",
      "Iteration 100\n",
      "PALM reached maximum number of iterations\n",
      "1 0.25 9\n",
      "Invalid data, retrying...\n"
     ]
    },
    {
     "name": "stderr",
     "output_type": "stream",
     "text": [
      "  9%|▉         | 53/600 [1:12:42<13:15:43, 87.28s/it]"
     ]
    },
    {
     "name": "stdout",
     "output_type": "stream",
     "text": [
      "1 0.3 9\n",
      "Iteration 100\n",
      "PALM reached maximum number of iterations\n",
      "1 0.3 9\n",
      "Invalid data, retrying...\n",
      "Iteration 100\n",
      "PALM reached maximum number of iterations\n",
      "1 0.3 9\n"
     ]
    },
    {
     "name": "stderr",
     "output_type": "stream",
     "text": [
      "  9%|▉         | 54/600 [1:14:02<12:56:40, 85.35s/it]"
     ]
    },
    {
     "name": "stdout",
     "output_type": "stream",
     "text": [
      "Score: 0.07198145986125382\n",
      "1 0.05 10\n",
      "Iteration 100\n",
      "PALM reached maximum number of iterations\n",
      "1 0.05 10\n",
      "Invalid data, retrying...\n",
      "Iteration 100\n",
      "PALM reached maximum number of iterations\n",
      "1 0.05 10\n",
      "Invalid data, retrying...\n",
      "Iteration 100\n",
      "PALM reached maximum number of iterations\n",
      "1 0.05 10\n"
     ]
    },
    {
     "name": "stderr",
     "output_type": "stream",
     "text": [
      "  9%|▉         | 55/600 [1:16:13<14:57:37, 98.82s/it]"
     ]
    },
    {
     "name": "stdout",
     "output_type": "stream",
     "text": [
      "Score: -0.3232031440499271\n",
      "1 0.1 10\n",
      "Iteration 100\n",
      "PALM reached maximum number of iterations\n",
      "1 0.1 10\n",
      "Invalid data, retrying...\n",
      "Iteration 100\n",
      "PALM reached maximum number of iterations\n",
      "1 0.1 10\n",
      "Invalid data, retrying...\n",
      "Iteration 100\n",
      "PALM reached maximum number of iterations\n",
      "1 0.1 10\n",
      "Invalid data, retrying...\n"
     ]
    },
    {
     "name": "stderr",
     "output_type": "stream",
     "text": [
      "  9%|▉         | 56/600 [1:17:36<14:13:02, 94.09s/it]"
     ]
    },
    {
     "name": "stdout",
     "output_type": "stream",
     "text": [
      "1 0.15 10\n",
      "Iteration 100\n",
      "PALM reached maximum number of iterations\n",
      "1 0.15 10\n",
      "Invalid data, retrying...\n",
      "Iteration 100\n",
      "PALM reached maximum number of iterations\n",
      "1 0.15 10\n",
      "Invalid data, retrying...\n",
      "Iteration 100\n",
      "PALM reached maximum number of iterations\n",
      "1 0.15 10\n",
      "Invalid data, retrying...\n"
     ]
    },
    {
     "name": "stderr",
     "output_type": "stream",
     "text": [
      " 10%|▉         | 57/600 [1:19:00<13:44:38, 91.12s/it]"
     ]
    },
    {
     "name": "stdout",
     "output_type": "stream",
     "text": [
      "1 0.2 10\n",
      "Iteration 100\n",
      "PALM reached maximum number of iterations\n",
      "1 0.2 10\n",
      "Invalid data, retrying...\n",
      "Iteration 100\n",
      "PALM reached maximum number of iterations\n",
      "1 0.2 10\n",
      "Invalid data, retrying...\n",
      "Iteration 100\n",
      "PALM reached maximum number of iterations\n",
      "1 0.2 10\n",
      "Invalid data, retrying...\n"
     ]
    },
    {
     "name": "stderr",
     "output_type": "stream",
     "text": [
      " 10%|▉         | 58/600 [1:20:23<13:21:00, 88.67s/it]"
     ]
    },
    {
     "name": "stdout",
     "output_type": "stream",
     "text": [
      "1 0.25 10\n",
      "Iteration 100\n",
      "PALM reached maximum number of iterations\n",
      "1 0.25 10\n",
      "Invalid data, retrying...\n",
      "Iteration 100\n",
      "PALM reached maximum number of iterations\n",
      "1 0.25 10\n",
      "Invalid data, retrying...\n",
      "Iteration 100\n",
      "PALM reached maximum number of iterations\n",
      "1 0.25 10\n",
      "Invalid data, retrying...\n"
     ]
    },
    {
     "name": "stderr",
     "output_type": "stream",
     "text": [
      " 10%|▉         | 59/600 [1:21:46<13:03:34, 86.90s/it]"
     ]
    },
    {
     "name": "stdout",
     "output_type": "stream",
     "text": [
      "1 0.3 10\n",
      "Iteration 100\n",
      "PALM reached maximum number of iterations\n",
      "1 0.3 10\n",
      "Invalid data, retrying...\n",
      "Iteration 100\n",
      "PALM reached maximum number of iterations\n",
      "1 0.3 10\n"
     ]
    },
    {
     "name": "stderr",
     "output_type": "stream",
     "text": [
      " 10%|█         | 60/600 [1:23:06<12:45:05, 85.01s/it]"
     ]
    },
    {
     "name": "stdout",
     "output_type": "stream",
     "text": [
      "Score: -0.11489009758196644\n",
      "2 0.05 1\n",
      "Iteration 100\n",
      "PALM reached maximum number of iterations\n",
      "2 0.05 1\n"
     ]
    },
    {
     "name": "stderr",
     "output_type": "stream",
     "text": [
      " 10%|█         | 61/600 [1:23:59<11:15:29, 75.19s/it]"
     ]
    },
    {
     "name": "stdout",
     "output_type": "stream",
     "text": [
      "Score: 0.46946351173277917\n",
      "2 0.1 1\n",
      "Iteration 100\n",
      "PALM reached maximum number of iterations\n",
      "2 0.1 1\n"
     ]
    },
    {
     "name": "stderr",
     "output_type": "stream",
     "text": [
      " 10%|█         | 62/600 [1:24:46<9:58:46, 66.78s/it] "
     ]
    },
    {
     "name": "stdout",
     "output_type": "stream",
     "text": [
      "Score: 0.4780088572709762\n",
      "2 0.15 1\n",
      "Iteration 100\n",
      "PALM reached maximum number of iterations\n",
      "2 0.15 1\n"
     ]
    },
    {
     "name": "stderr",
     "output_type": "stream",
     "text": [
      " 10%|█         | 63/600 [1:25:28<8:52:41, 59.52s/it]"
     ]
    },
    {
     "name": "stdout",
     "output_type": "stream",
     "text": [
      "Score: 0.4831478728066204\n",
      "2 0.2 1\n",
      "Iteration 100\n",
      "PALM reached maximum number of iterations\n",
      "2 0.2 1\n"
     ]
    },
    {
     "name": "stderr",
     "output_type": "stream",
     "text": [
      " 11%|█         | 64/600 [1:26:07<7:57:00, 53.40s/it]"
     ]
    },
    {
     "name": "stdout",
     "output_type": "stream",
     "text": [
      "Score: 0.6782822622239256\n",
      "2 0.25 1\n",
      "Iteration 100\n",
      "PALM reached maximum number of iterations\n",
      "2 0.25 1\n"
     ]
    },
    {
     "name": "stderr",
     "output_type": "stream",
     "text": [
      " 11%|█         | 65/600 [1:26:42<7:05:08, 47.68s/it]"
     ]
    },
    {
     "name": "stdout",
     "output_type": "stream",
     "text": [
      "Score: 0.3388340038112716\n",
      "2 0.3 1\n",
      "Iteration 100\n",
      "PALM reached maximum number of iterations\n",
      "2 0.3 1\n"
     ]
    },
    {
     "name": "stderr",
     "output_type": "stream",
     "text": [
      " 11%|█         | 66/600 [1:27:12<6:17:25, 42.41s/it]"
     ]
    },
    {
     "name": "stdout",
     "output_type": "stream",
     "text": [
      "Score: 0.33347203695635674\n",
      "2 0.05 2\n",
      "Iteration 100\n",
      "PALM reached maximum number of iterations\n",
      "2 0.05 2\n",
      "Invalid data, retrying...\n",
      "Iteration 100\n",
      "PALM reached maximum number of iterations\n",
      "2 0.05 2\n"
     ]
    },
    {
     "name": "stderr",
     "output_type": "stream",
     "text": [
      " 11%|█         | 67/600 [1:28:59<9:09:55, 61.91s/it]"
     ]
    },
    {
     "name": "stdout",
     "output_type": "stream",
     "text": [
      "Score: 0.7182177352189429\n",
      "2 0.1 2\n",
      "Iteration 100\n",
      "PALM reached maximum number of iterations\n",
      "2 0.1 2\n"
     ]
    },
    {
     "name": "stderr",
     "output_type": "stream",
     "text": [
      " 11%|█▏        | 68/600 [1:30:12<9:36:32, 65.02s/it]"
     ]
    },
    {
     "name": "stdout",
     "output_type": "stream",
     "text": [
      "Score: 0.7299250993659672\n",
      "2 0.15 2\n",
      "Iteration 100\n",
      "PALM reached maximum number of iterations\n",
      "2 0.15 2\n"
     ]
    },
    {
     "name": "stderr",
     "output_type": "stream",
     "text": [
      " 12%|█▏        | 69/600 [1:31:19<9:41:24, 65.70s/it]"
     ]
    },
    {
     "name": "stdout",
     "output_type": "stream",
     "text": [
      "Score: 0.38874083114809505\n",
      "2 0.2 2\n",
      "Iteration 100\n",
      "PALM reached maximum number of iterations\n",
      "2 0.2 2\n",
      "Invalid data, retrying...\n",
      "Iteration 100\n",
      "PALM reached maximum number of iterations\n",
      "2 0.2 2\n"
     ]
    },
    {
     "name": "stderr",
     "output_type": "stream",
     "text": [
      " 12%|█▏        | 70/600 [1:32:52<10:54:01, 74.04s/it]"
     ]
    },
    {
     "name": "stdout",
     "output_type": "stream",
     "text": [
      "Score: 0.06707810055771467\n",
      "2 0.25 2\n",
      "Iteration 100\n",
      "PALM reached maximum number of iterations\n",
      "2 0.25 2\n",
      "Invalid data, retrying...\n",
      "Iteration 100\n",
      "PALM reached maximum number of iterations\n",
      "2 0.25 2\n"
     ]
    },
    {
     "name": "stderr",
     "output_type": "stream",
     "text": [
      " 12%|█▏        | 71/600 [1:34:21<11:32:41, 78.57s/it]"
     ]
    },
    {
     "name": "stdout",
     "output_type": "stream",
     "text": [
      "Score: 0.7490250099366219\n",
      "2 0.3 2\n",
      "Iteration 100\n",
      "PALM reached maximum number of iterations\n",
      "2 0.3 2\n"
     ]
    },
    {
     "name": "stderr",
     "output_type": "stream",
     "text": [
      " 12%|█▏        | 72/600 [1:35:17<10:31:36, 71.77s/it]"
     ]
    },
    {
     "name": "stdout",
     "output_type": "stream",
     "text": [
      "Score: 0.44857384270589157\n",
      "2 0.05 3\n",
      "Iteration 100\n",
      "PALM reached maximum number of iterations\n",
      "2 0.05 3\n",
      "Invalid data, retrying...\n",
      "Iteration 100\n",
      "PALM reached maximum number of iterations\n",
      "2 0.05 3\n",
      "Invalid data, retrying...\n",
      "Iteration 100\n",
      "PALM reached maximum number of iterations\n",
      "2 0.05 3\n",
      "Invalid data, retrying...\n"
     ]
    },
    {
     "name": "stderr",
     "output_type": "stream",
     "text": [
      " 12%|█▏        | 73/600 [1:36:47<11:18:24, 77.24s/it]"
     ]
    },
    {
     "name": "stdout",
     "output_type": "stream",
     "text": [
      "2 0.1 3\n",
      "Iteration 100\n",
      "PALM reached maximum number of iterations\n",
      "2 0.1 3\n",
      "Invalid data, retrying...\n",
      "Iteration 100\n",
      "PALM reached maximum number of iterations\n",
      "2 0.1 3\n",
      "Invalid data, retrying...\n",
      "Iteration 100\n",
      "PALM reached maximum number of iterations\n",
      "2 0.1 3\n",
      "Invalid data, retrying...\n"
     ]
    },
    {
     "name": "stderr",
     "output_type": "stream",
     "text": [
      " 12%|█▏        | 74/600 [1:38:16<11:47:50, 80.74s/it]"
     ]
    },
    {
     "name": "stdout",
     "output_type": "stream",
     "text": [
      "2 0.15 3\n",
      "Iteration 100\n",
      "PALM reached maximum number of iterations\n",
      "2 0.15 3\n",
      "Invalid data, retrying...\n",
      "Iteration 100\n",
      "PALM reached maximum number of iterations\n",
      "2 0.15 3\n",
      "Invalid data, retrying...\n",
      "Iteration 100\n",
      "PALM reached maximum number of iterations\n",
      "2 0.15 3\n",
      "Invalid data, retrying...\n"
     ]
    },
    {
     "name": "stderr",
     "output_type": "stream",
     "text": [
      " 12%|█▎        | 75/600 [1:39:46<12:10:54, 83.53s/it]"
     ]
    },
    {
     "name": "stdout",
     "output_type": "stream",
     "text": [
      "2 0.2 3\n",
      "Iteration 100\n",
      "PALM reached maximum number of iterations\n",
      "2 0.2 3\n",
      "Invalid data, retrying...\n",
      "Iteration 100\n",
      "PALM reached maximum number of iterations\n",
      "2 0.2 3\n",
      "Invalid data, retrying...\n",
      "Iteration 100\n",
      "PALM reached maximum number of iterations\n",
      "2 0.2 3\n",
      "Invalid data, retrying...\n"
     ]
    },
    {
     "name": "stderr",
     "output_type": "stream",
     "text": [
      " 13%|█▎        | 76/600 [1:41:16<12:25:34, 85.37s/it]"
     ]
    },
    {
     "name": "stdout",
     "output_type": "stream",
     "text": [
      "2 0.25 3\n",
      "Iteration 100\n",
      "PALM reached maximum number of iterations\n",
      "2 0.25 3\n",
      "Invalid data, retrying...\n",
      "Iteration 100\n",
      "PALM reached maximum number of iterations\n",
      "2 0.25 3\n",
      "Invalid data, retrying...\n",
      "Iteration 100\n",
      "PALM reached maximum number of iterations\n",
      "2 0.25 3\n",
      "Invalid data, retrying...\n"
     ]
    },
    {
     "name": "stderr",
     "output_type": "stream",
     "text": [
      " 13%|█▎        | 77/600 [1:42:46<12:36:24, 86.78s/it]"
     ]
    },
    {
     "name": "stdout",
     "output_type": "stream",
     "text": [
      "2 0.3 3\n",
      "Iteration 100\n",
      "PALM reached maximum number of iterations\n",
      "2 0.3 3\n",
      "Invalid data, retrying...\n",
      "Iteration 100\n",
      "PALM reached maximum number of iterations\n",
      "2 0.3 3\n",
      "Invalid data, retrying...\n",
      "Iteration 100\n",
      "PALM reached maximum number of iterations\n",
      "2 0.3 3\n",
      "Invalid data, retrying...\n"
     ]
    },
    {
     "name": "stderr",
     "output_type": "stream",
     "text": [
      " 13%|█▎        | 78/600 [1:44:16<12:43:10, 87.72s/it]"
     ]
    },
    {
     "name": "stdout",
     "output_type": "stream",
     "text": [
      "2 0.05 4\n",
      "Iteration 100\n",
      "PALM reached maximum number of iterations\n",
      "2 0.05 4\n",
      "Invalid data, retrying...\n",
      "Iteration 100\n",
      "PALM reached maximum number of iterations\n",
      "2 0.05 4\n",
      "Invalid data, retrying...\n",
      "Iteration 100\n",
      "PALM reached maximum number of iterations\n",
      "2 0.05 4\n",
      "Invalid data, retrying...\n"
     ]
    },
    {
     "name": "stderr",
     "output_type": "stream",
     "text": [
      " 13%|█▎        | 79/600 [1:45:45<12:45:26, 88.15s/it]"
     ]
    },
    {
     "name": "stdout",
     "output_type": "stream",
     "text": [
      "2 0.1 4\n",
      "Iteration 100\n",
      "PALM reached maximum number of iterations\n",
      "2 0.1 4\n"
     ]
    },
    {
     "name": "stderr",
     "output_type": "stream",
     "text": [
      " 13%|█▎        | 80/600 [1:46:58<12:04:58, 83.65s/it]"
     ]
    },
    {
     "name": "stdout",
     "output_type": "stream",
     "text": [
      "Score: -0.3591061486757474\n",
      "2 0.15 4\n",
      "Iteration 100\n",
      "PALM reached maximum number of iterations\n",
      "2 0.15 4\n"
     ]
    },
    {
     "name": "stderr",
     "output_type": "stream",
     "text": [
      " 14%|█▎        | 81/600 [1:48:06<11:22:58, 78.96s/it]"
     ]
    },
    {
     "name": "stdout",
     "output_type": "stream",
     "text": [
      "Score: 0.6069199467447958\n",
      "2 0.2 4\n",
      "Iteration 100\n",
      "PALM reached maximum number of iterations\n",
      "2 0.2 4\n"
     ]
    },
    {
     "name": "stderr",
     "output_type": "stream",
     "text": [
      " 14%|█▎        | 82/600 [1:49:10<10:42:12, 74.39s/it]"
     ]
    },
    {
     "name": "stdout",
     "output_type": "stream",
     "text": [
      "Score: 0.30454985758696645\n",
      "2 0.25 4\n",
      "Iteration 100\n",
      "PALM reached maximum number of iterations\n",
      "2 0.25 4\n"
     ]
    },
    {
     "name": "stderr",
     "output_type": "stream",
     "text": [
      " 14%|█▍        | 83/600 [1:50:11<10:07:21, 70.49s/it]"
     ]
    },
    {
     "name": "stdout",
     "output_type": "stream",
     "text": [
      "Score: -0.032013490913954605\n",
      "2 0.3 4\n",
      "Iteration 100\n",
      "PALM reached maximum number of iterations\n",
      "2 0.3 4\n"
     ]
    },
    {
     "name": "stderr",
     "output_type": "stream",
     "text": [
      " 14%|█▍        | 84/600 [1:51:10<9:34:40, 66.82s/it] "
     ]
    },
    {
     "name": "stdout",
     "output_type": "stream",
     "text": [
      "Score: -0.08818103024296836\n",
      "2 0.05 5\n",
      "Iteration 100\n",
      "PALM reached maximum number of iterations\n",
      "2 0.05 5\n",
      "Invalid data, retrying...\n",
      "Iteration 100\n",
      "PALM reached maximum number of iterations\n",
      "2 0.05 5\n",
      "Invalid data, retrying...\n",
      "Iteration 100\n",
      "PALM reached maximum number of iterations\n",
      "2 0.05 5\n",
      "Invalid data, retrying...\n"
     ]
    },
    {
     "name": "stderr",
     "output_type": "stream",
     "text": [
      " 14%|█▍        | 85/600 [1:52:41<10:35:23, 74.03s/it]"
     ]
    },
    {
     "name": "stdout",
     "output_type": "stream",
     "text": [
      "2 0.1 5\n",
      "Iteration 100\n",
      "PALM reached maximum number of iterations\n",
      "2 0.1 5\n"
     ]
    },
    {
     "name": "stderr",
     "output_type": "stream",
     "text": [
      " 14%|█▍        | 86/600 [1:53:53<10:31:14, 73.69s/it]"
     ]
    },
    {
     "name": "stdout",
     "output_type": "stream",
     "text": [
      "Score: -0.3486507919171176\n",
      "2 0.15 5\n",
      "Iteration 100\n",
      "PALM reached maximum number of iterations\n",
      "2 0.15 5\n",
      "Invalid data, retrying...\n",
      "Iteration 100\n",
      "PALM reached maximum number of iterations\n",
      "2 0.15 5\n"
     ]
    },
    {
     "name": "stderr",
     "output_type": "stream",
     "text": [
      " 14%|█▍        | 87/600 [1:55:31<11:31:40, 80.90s/it]"
     ]
    },
    {
     "name": "stdout",
     "output_type": "stream",
     "text": [
      "Score: -0.356692461340552\n",
      "2 0.2 5\n",
      "Iteration 100\n",
      "PALM reached maximum number of iterations\n",
      "2 0.2 5\n",
      "Invalid data, retrying...\n",
      "Iteration 100\n",
      "PALM reached maximum number of iterations\n",
      "2 0.2 5\n"
     ]
    },
    {
     "name": "stderr",
     "output_type": "stream",
     "text": [
      " 15%|█▍        | 88/600 [1:57:05<12:03:29, 84.78s/it]"
     ]
    },
    {
     "name": "stdout",
     "output_type": "stream",
     "text": [
      "Score: -0.2562266332531101\n",
      "2 0.25 5\n",
      "Iteration 100\n",
      "PALM reached maximum number of iterations\n",
      "2 0.25 5\n",
      "Invalid data, retrying...\n",
      "Iteration 100\n",
      "PALM reached maximum number of iterations\n",
      "2 0.25 5\n",
      "Invalid data, retrying...\n",
      "Iteration 100\n",
      "PALM reached maximum number of iterations\n",
      "2 0.25 5\n",
      "Invalid data, retrying...\n"
     ]
    },
    {
     "name": "stderr",
     "output_type": "stream",
     "text": [
      " 15%|█▍        | 89/600 [1:58:36<12:17:17, 86.57s/it]"
     ]
    },
    {
     "name": "stdout",
     "output_type": "stream",
     "text": [
      "2 0.3 5\n",
      "Iteration 100\n",
      "PALM reached maximum number of iterations\n",
      "2 0.3 5\n",
      "Invalid data, retrying...\n",
      "Iteration 100\n",
      "PALM reached maximum number of iterations\n",
      "2 0.3 5\n",
      "Invalid data, retrying...\n",
      "Iteration 100\n",
      "PALM reached maximum number of iterations\n",
      "2 0.3 5\n"
     ]
    },
    {
     "name": "stderr",
     "output_type": "stream",
     "text": [
      " 15%|█▌        | 90/600 [2:00:32<13:30:51, 95.39s/it]"
     ]
    },
    {
     "name": "stdout",
     "output_type": "stream",
     "text": [
      "Score: -0.18623472773713431\n",
      "2 0.05 6\n",
      "Iteration 100\n",
      "PALM reached maximum number of iterations\n",
      "2 0.05 6\n"
     ]
    },
    {
     "name": "stderr",
     "output_type": "stream",
     "text": [
      " 15%|█▌        | 91/600 [2:01:50<12:45:33, 90.24s/it]"
     ]
    },
    {
     "name": "stdout",
     "output_type": "stream",
     "text": [
      "Score: -0.2770394328372256\n",
      "2 0.1 6\n",
      "Iteration 100\n",
      "PALM reached maximum number of iterations\n",
      "2 0.1 6\n",
      "Invalid data, retrying...\n",
      "Iteration 100\n",
      "PALM reached maximum number of iterations\n",
      "2 0.1 6\n"
     ]
    },
    {
     "name": "stderr",
     "output_type": "stream",
     "text": [
      " 15%|█▌        | 92/600 [2:03:33<13:15:34, 93.96s/it]"
     ]
    },
    {
     "name": "stdout",
     "output_type": "stream",
     "text": [
      "Score: 0.32242335749783874\n",
      "2 0.15 6\n",
      "Iteration 100\n",
      "PALM reached maximum number of iterations\n",
      "2 0.15 6\n",
      "Invalid data, retrying...\n",
      "Iteration 100\n",
      "PALM reached maximum number of iterations\n",
      "2 0.15 6\n"
     ]
    },
    {
     "name": "stderr",
     "output_type": "stream",
     "text": [
      " 16%|█▌        | 93/600 [2:05:10<13:23:54, 95.14s/it]"
     ]
    },
    {
     "name": "stdout",
     "output_type": "stream",
     "text": [
      "Score: -0.0894930312415831\n",
      "2 0.2 6\n",
      "Iteration 100\n",
      "PALM reached maximum number of iterations\n",
      "2 0.2 6\n",
      "Invalid data, retrying...\n",
      "Iteration 100\n",
      "PALM reached maximum number of iterations\n",
      "2 0.2 6\n"
     ]
    },
    {
     "name": "stderr",
     "output_type": "stream",
     "text": [
      " 16%|█▌        | 94/600 [2:06:45<13:19:43, 94.83s/it]"
     ]
    },
    {
     "name": "stdout",
     "output_type": "stream",
     "text": [
      "Score: 0.1463502762637133\n",
      "2 0.25 6\n",
      "Iteration 100\n",
      "PALM reached maximum number of iterations\n",
      "2 0.25 6\n",
      "Invalid data, retrying...\n",
      "Iteration 100\n",
      "PALM reached maximum number of iterations\n",
      "2 0.25 6\n",
      "Invalid data, retrying...\n",
      "Iteration 100\n",
      "PALM reached maximum number of iterations\n",
      "2 0.25 6\n",
      "Invalid data, retrying...\n"
     ]
    },
    {
     "name": "stderr",
     "output_type": "stream",
     "text": [
      " 16%|█▌        | 95/600 [2:08:15<13:06:22, 93.43s/it]"
     ]
    },
    {
     "name": "stdout",
     "output_type": "stream",
     "text": [
      "2 0.3 6\n",
      "Iteration 100\n",
      "PALM reached maximum number of iterations\n",
      "2 0.3 6\n"
     ]
    },
    {
     "name": "stderr",
     "output_type": "stream",
     "text": [
      " 16%|█▌        | 96/600 [2:09:11<11:30:34, 82.21s/it]"
     ]
    },
    {
     "name": "stdout",
     "output_type": "stream",
     "text": [
      "Score: -0.2502298395665981\n",
      "2 0.05 7\n",
      "Iteration 100\n",
      "PALM reached maximum number of iterations\n",
      "2 0.05 7\n"
     ]
    },
    {
     "name": "stderr",
     "output_type": "stream",
     "text": [
      " 16%|█▌        | 97/600 [2:10:30<11:20:39, 81.19s/it]"
     ]
    },
    {
     "name": "stdout",
     "output_type": "stream",
     "text": [
      "Score: -0.07009066014693383\n",
      "2 0.1 7\n",
      "Iteration 100\n",
      "PALM reached maximum number of iterations\n",
      "2 0.1 7\n"
     ]
    },
    {
     "name": "stderr",
     "output_type": "stream",
     "text": [
      " 16%|█▋        | 98/600 [2:11:43<10:59:32, 78.83s/it]"
     ]
    },
    {
     "name": "stdout",
     "output_type": "stream",
     "text": [
      "Score: -0.254607041138936\n",
      "2 0.15 7\n",
      "Iteration 100\n",
      "PALM reached maximum number of iterations\n",
      "2 0.15 7\n"
     ]
    },
    {
     "name": "stderr",
     "output_type": "stream",
     "text": [
      " 16%|█▋        | 99/600 [2:12:52<10:32:47, 75.78s/it]"
     ]
    },
    {
     "name": "stdout",
     "output_type": "stream",
     "text": [
      "Score: -0.11643197239100708\n",
      "2 0.2 7\n",
      "Iteration 100\n",
      "PALM reached maximum number of iterations\n",
      "2 0.2 7\n",
      "Invalid data, retrying...\n",
      "Iteration 100\n",
      "PALM reached maximum number of iterations\n",
      "2 0.2 7\n"
     ]
    },
    {
     "name": "stderr",
     "output_type": "stream",
     "text": [
      " 17%|█▋        | 100/600 [2:14:25<11:16:06, 81.13s/it]"
     ]
    },
    {
     "name": "stdout",
     "output_type": "stream",
     "text": [
      "Score: -0.257619646767541\n",
      "2 0.25 7\n",
      "Iteration 100\n",
      "PALM reached maximum number of iterations\n",
      "2 0.25 7\n",
      "Invalid data, retrying...\n",
      "Iteration 100\n",
      "PALM reached maximum number of iterations\n",
      "2 0.25 7\n",
      "Invalid data, retrying...\n",
      "Iteration 100\n",
      "PALM reached maximum number of iterations\n",
      "2 0.25 7\n"
     ]
    },
    {
     "name": "stderr",
     "output_type": "stream",
     "text": [
      " 17%|█▋        | 101/600 [2:16:25<12:50:58, 92.70s/it]"
     ]
    },
    {
     "name": "stdout",
     "output_type": "stream",
     "text": [
      "Score: 0.2708685116315704\n",
      "2 0.3 7\n",
      "Iteration 100\n",
      "PALM reached maximum number of iterations\n",
      "2 0.3 7\n",
      "Invalid data, retrying...\n",
      "Iteration 100\n",
      "PALM reached maximum number of iterations\n",
      "2 0.3 7\n"
     ]
    },
    {
     "name": "stderr",
     "output_type": "stream",
     "text": [
      " 17%|█▋        | 102/600 [2:17:51<12:31:53, 90.59s/it]"
     ]
    },
    {
     "name": "stdout",
     "output_type": "stream",
     "text": [
      "Score: 0.03125766507921995\n",
      "2 0.05 8\n",
      "Iteration 100\n",
      "PALM reached maximum number of iterations\n",
      "2 0.05 8\n",
      "Invalid data, retrying...\n",
      "Iteration 100\n",
      "PALM reached maximum number of iterations\n",
      "2 0.05 8\n",
      "Invalid data, retrying...\n",
      "Iteration 100\n",
      "PALM reached maximum number of iterations\n",
      "2 0.05 8\n"
     ]
    },
    {
     "name": "stderr",
     "output_type": "stream",
     "text": [
      " 17%|█▋        | 103/600 [2:20:08<14:28:02, 104.79s/it]"
     ]
    },
    {
     "name": "stdout",
     "output_type": "stream",
     "text": [
      "Score: -0.11787115158600459\n",
      "2 0.1 8\n",
      "Iteration 100\n",
      "PALM reached maximum number of iterations\n",
      "2 0.1 8\n",
      "Invalid data, retrying...\n",
      "Iteration 100\n",
      "PALM reached maximum number of iterations\n",
      "2 0.1 8\n",
      "Invalid data, retrying...\n",
      "Iteration 100\n",
      "PALM reached maximum number of iterations\n",
      "2 0.1 8\n",
      "Invalid data, retrying...\n"
     ]
    },
    {
     "name": "stderr",
     "output_type": "stream",
     "text": [
      " 17%|█▋        | 104/600 [2:21:39<13:51:39, 100.60s/it]"
     ]
    },
    {
     "name": "stdout",
     "output_type": "stream",
     "text": [
      "2 0.15 8\n",
      "Iteration 100\n",
      "PALM reached maximum number of iterations\n",
      "2 0.15 8\n",
      "Invalid data, retrying...\n",
      "Iteration 100\n",
      "PALM reached maximum number of iterations\n",
      "2 0.15 8\n",
      "Invalid data, retrying...\n",
      "Iteration 100\n",
      "PALM reached maximum number of iterations\n",
      "2 0.15 8\n"
     ]
    },
    {
     "name": "stderr",
     "output_type": "stream",
     "text": [
      " 18%|█▊        | 105/600 [2:23:49<15:02:03, 109.34s/it]"
     ]
    },
    {
     "name": "stdout",
     "output_type": "stream",
     "text": [
      "Score: -0.2627228485529702\n",
      "2 0.2 8\n",
      "Iteration 100\n",
      "PALM reached maximum number of iterations\n",
      "2 0.2 8\n",
      "Invalid data, retrying...\n",
      "Iteration 100\n",
      "PALM reached maximum number of iterations\n",
      "2 0.2 8\n",
      "Invalid data, retrying...\n",
      "Iteration 100\n",
      "PALM reached maximum number of iterations\n",
      "2 0.2 8\n"
     ]
    },
    {
     "name": "stderr",
     "output_type": "stream",
     "text": [
      " 18%|█▊        | 106/600 [2:25:53<15:37:35, 113.88s/it]"
     ]
    },
    {
     "name": "stdout",
     "output_type": "stream",
     "text": [
      "Score: -0.21799054939597917\n",
      "2 0.25 8\n",
      "Iteration 100\n",
      "PALM reached maximum number of iterations\n",
      "2 0.25 8\n",
      "Invalid data, retrying...\n",
      "Iteration 100\n",
      "PALM reached maximum number of iterations\n",
      "2 0.25 8\n",
      "Invalid data, retrying...\n",
      "Iteration 100\n",
      "PALM reached maximum number of iterations\n",
      "2 0.25 8\n"
     ]
    },
    {
     "name": "stderr",
     "output_type": "stream",
     "text": [
      " 18%|█▊        | 107/600 [2:27:53<15:50:16, 115.65s/it]"
     ]
    },
    {
     "name": "stdout",
     "output_type": "stream",
     "text": [
      "Score: -0.18023041909658286\n",
      "2 0.3 8\n",
      "Iteration 100\n",
      "PALM reached maximum number of iterations\n",
      "2 0.3 8\n"
     ]
    },
    {
     "name": "stderr",
     "output_type": "stream",
     "text": [
      " 18%|█▊        | 108/600 [2:28:49<13:20:30, 97.62s/it] "
     ]
    },
    {
     "name": "stdout",
     "output_type": "stream",
     "text": [
      "Score: 0.014941806581057123\n",
      "2 0.05 9\n",
      "Iteration 100\n",
      "PALM reached maximum number of iterations\n",
      "2 0.05 9\n",
      "Invalid data, retrying...\n",
      "Iteration 100\n",
      "PALM reached maximum number of iterations\n",
      "2 0.05 9\n",
      "Invalid data, retrying...\n",
      "Iteration 100\n",
      "PALM reached maximum number of iterations\n",
      "2 0.05 9\n",
      "Invalid data, retrying...\n"
     ]
    },
    {
     "name": "stderr",
     "output_type": "stream",
     "text": [
      " 18%|█▊        | 109/600 [2:30:19<13:00:19, 95.35s/it]"
     ]
    },
    {
     "name": "stdout",
     "output_type": "stream",
     "text": [
      "2 0.1 9\n",
      "Iteration 100\n",
      "PALM reached maximum number of iterations\n",
      "2 0.1 9\n",
      "Invalid data, retrying...\n",
      "Iteration 100\n",
      "PALM reached maximum number of iterations\n",
      "2 0.1 9\n",
      "Invalid data, retrying...\n",
      "Iteration 100\n",
      "PALM reached maximum number of iterations\n",
      "2 0.1 9\n",
      "Invalid data, retrying...\n"
     ]
    },
    {
     "name": "stderr",
     "output_type": "stream",
     "text": [
      " 18%|█▊        | 110/600 [2:31:49<12:46:12, 93.82s/it]"
     ]
    },
    {
     "name": "stdout",
     "output_type": "stream",
     "text": [
      "2 0.15 9\n",
      "Iteration 100\n",
      "PALM reached maximum number of iterations\n",
      "2 0.15 9\n"
     ]
    },
    {
     "name": "stderr",
     "output_type": "stream",
     "text": [
      " 18%|█▊        | 111/600 [2:32:58<11:43:09, 86.28s/it]"
     ]
    },
    {
     "name": "stdout",
     "output_type": "stream",
     "text": [
      "Score: -0.16945760027774512\n",
      "2 0.2 9\n",
      "Iteration 100\n",
      "PALM reached maximum number of iterations\n",
      "2 0.2 9\n",
      "Invalid data, retrying...\n",
      "Iteration 100\n",
      "PALM reached maximum number of iterations\n",
      "2 0.2 9\n",
      "Invalid data, retrying...\n",
      "Iteration 100\n",
      "PALM reached maximum number of iterations\n",
      "2 0.2 9\n",
      "Invalid data, retrying...\n"
     ]
    },
    {
     "name": "stderr",
     "output_type": "stream",
     "text": [
      " 19%|█▊        | 112/600 [2:34:41<12:23:50, 91.46s/it]"
     ]
    },
    {
     "name": "stdout",
     "output_type": "stream",
     "text": [
      "2 0.25 9\n",
      "Iteration 100\n",
      "PALM reached maximum number of iterations\n",
      "2 0.25 9\n",
      "Invalid data, retrying...\n",
      "Iteration 100\n",
      "PALM reached maximum number of iterations\n",
      "2 0.25 9\n"
     ]
    },
    {
     "name": "stderr",
     "output_type": "stream",
     "text": [
      " 19%|█▉        | 113/600 [2:36:12<12:19:37, 91.12s/it]"
     ]
    },
    {
     "name": "stdout",
     "output_type": "stream",
     "text": [
      "Score: -0.017163299639878775\n",
      "2 0.3 9\n",
      "Iteration 100\n",
      "PALM reached maximum number of iterations\n",
      "2 0.3 9\n",
      "Invalid data, retrying...\n",
      "Iteration 100\n",
      "PALM reached maximum number of iterations\n",
      "2 0.3 9\n",
      "Invalid data, retrying...\n",
      "Iteration 100\n",
      "PALM reached maximum number of iterations\n",
      "2 0.3 9\n",
      "Invalid data, retrying...\n"
     ]
    },
    {
     "name": "stderr",
     "output_type": "stream",
     "text": [
      " 19%|█▉        | 114/600 [2:37:42<12:16:22, 90.91s/it]"
     ]
    },
    {
     "name": "stdout",
     "output_type": "stream",
     "text": [
      "2 0.05 10\n",
      "Iteration 100\n",
      "PALM reached maximum number of iterations\n",
      "2 0.05 10\n",
      "Invalid data, retrying...\n",
      "Iteration 100\n",
      "PALM reached maximum number of iterations\n",
      "2 0.05 10\n"
     ]
    },
    {
     "name": "stderr",
     "output_type": "stream",
     "text": [
      " 19%|█▉        | 115/600 [2:39:30<12:56:18, 96.04s/it]"
     ]
    },
    {
     "name": "stdout",
     "output_type": "stream",
     "text": [
      "Score: 0.40522178563446043\n",
      "2 0.1 10\n",
      "Iteration 100\n",
      "PALM reached maximum number of iterations\n",
      "2 0.1 10\n",
      "Invalid data, retrying...\n",
      "Iteration 100\n",
      "PALM reached maximum number of iterations\n",
      "2 0.1 10\n",
      "Invalid data, retrying...\n",
      "Iteration 100\n",
      "PALM reached maximum number of iterations\n",
      "2 0.1 10\n",
      "Invalid data, retrying...\n"
     ]
    },
    {
     "name": "stderr",
     "output_type": "stream",
     "text": [
      " 19%|█▉        | 116/600 [2:41:01<12:41:08, 94.36s/it]"
     ]
    },
    {
     "name": "stdout",
     "output_type": "stream",
     "text": [
      "2 0.15 10\n",
      "Iteration 100\n",
      "PALM reached maximum number of iterations\n",
      "2 0.15 10\n"
     ]
    },
    {
     "name": "stderr",
     "output_type": "stream",
     "text": [
      " 20%|█▉        | 117/600 [2:42:09<11:36:13, 86.49s/it]"
     ]
    },
    {
     "name": "stdout",
     "output_type": "stream",
     "text": [
      "Score: -0.21130629916593816\n",
      "2 0.2 10\n",
      "Iteration 100\n",
      "PALM reached maximum number of iterations\n",
      "2 0.2 10\n"
     ]
    },
    {
     "name": "stderr",
     "output_type": "stream",
     "text": [
      " 20%|█▉        | 118/600 [2:43:13<10:40:29, 79.73s/it]"
     ]
    },
    {
     "name": "stdout",
     "output_type": "stream",
     "text": [
      "Score: -0.1403939496309548\n",
      "2 0.25 10\n",
      "Iteration 100\n",
      "PALM reached maximum number of iterations\n",
      "2 0.25 10\n",
      "Invalid data, retrying...\n",
      "Iteration 100\n",
      "PALM reached maximum number of iterations\n",
      "2 0.25 10\n"
     ]
    },
    {
     "name": "stderr",
     "output_type": "stream",
     "text": [
      " 20%|█▉        | 119/600 [2:44:43<11:04:22, 82.87s/it]"
     ]
    },
    {
     "name": "stdout",
     "output_type": "stream",
     "text": [
      "Score: 0.1152851554505457\n",
      "2 0.3 10\n",
      "Iteration 100\n",
      "PALM reached maximum number of iterations\n",
      "2 0.3 10\n"
     ]
    },
    {
     "name": "stderr",
     "output_type": "stream",
     "text": [
      " 20%|██        | 120/600 [2:45:39<9:58:24, 74.80s/it] "
     ]
    },
    {
     "name": "stdout",
     "output_type": "stream",
     "text": [
      "Score: -0.2135645476468826\n",
      "3 0.05 1\n",
      "Iteration 100\n",
      "PALM reached maximum number of iterations\n",
      "3 0.05 1\n"
     ]
    },
    {
     "name": "stderr",
     "output_type": "stream",
     "text": [
      " 20%|██        | 121/600 [2:46:31<9:02:16, 67.93s/it]"
     ]
    },
    {
     "name": "stdout",
     "output_type": "stream",
     "text": [
      "Score: 0.4120396051456418\n",
      "3 0.1 1\n",
      "Iteration 100\n",
      "PALM reached maximum number of iterations\n",
      "3 0.1 1\n"
     ]
    },
    {
     "name": "stderr",
     "output_type": "stream",
     "text": [
      " 20%|██        | 122/600 [2:47:18<8:12:05, 61.77s/it]"
     ]
    },
    {
     "name": "stdout",
     "output_type": "stream",
     "text": [
      "Score: 0.4790774315777222\n",
      "3 0.15 1\n",
      "Iteration 100\n",
      "PALM reached maximum number of iterations\n",
      "3 0.15 1\n"
     ]
    },
    {
     "name": "stderr",
     "output_type": "stream",
     "text": [
      " 20%|██        | 123/600 [2:48:01<7:25:11, 56.00s/it]"
     ]
    },
    {
     "name": "stdout",
     "output_type": "stream",
     "text": [
      "Score: 0.41278005240181453\n",
      "3 0.2 1\n",
      "Iteration 100\n",
      "PALM reached maximum number of iterations\n",
      "3 0.2 1\n"
     ]
    },
    {
     "name": "stderr",
     "output_type": "stream",
     "text": [
      " 21%|██        | 124/600 [2:48:39<6:41:25, 50.60s/it]"
     ]
    },
    {
     "name": "stdout",
     "output_type": "stream",
     "text": [
      "Score: 0.40249638064798754\n",
      "3 0.25 1\n",
      "Iteration 100\n",
      "PALM reached maximum number of iterations\n",
      "3 0.25 1\n"
     ]
    },
    {
     "name": "stderr",
     "output_type": "stream",
     "text": [
      " 21%|██        | 125/600 [2:49:12<6:00:29, 45.54s/it]"
     ]
    },
    {
     "name": "stdout",
     "output_type": "stream",
     "text": [
      "Score: 0.33494484395583235\n",
      "3 0.3 1\n",
      "Iteration 100\n",
      "PALM reached maximum number of iterations\n",
      "3 0.3 1\n"
     ]
    },
    {
     "name": "stderr",
     "output_type": "stream",
     "text": [
      " 21%|██        | 126/600 [2:49:43<5:24:01, 41.02s/it]"
     ]
    },
    {
     "name": "stdout",
     "output_type": "stream",
     "text": [
      "Score: 0.42224403808187705\n",
      "3 0.05 2\n",
      "Iteration 100\n",
      "PALM reached maximum number of iterations\n",
      "3 0.05 2\n"
     ]
    },
    {
     "name": "stderr",
     "output_type": "stream",
     "text": [
      " 21%|██        | 127/600 [2:51:04<6:58:23, 53.07s/it]"
     ]
    },
    {
     "name": "stdout",
     "output_type": "stream",
     "text": [
      "Score: 0.6982536172340138\n",
      "3 0.1 2\n",
      "Iteration 100\n",
      "PALM reached maximum number of iterations\n",
      "3 0.1 2\n"
     ]
    },
    {
     "name": "stderr",
     "output_type": "stream",
     "text": [
      " 21%|██▏       | 128/600 [2:52:19<7:50:10, 59.77s/it]"
     ]
    },
    {
     "name": "stdout",
     "output_type": "stream",
     "text": [
      "Score: 0.7011385454751087\n",
      "3 0.15 2\n",
      "Iteration 100\n",
      "PALM reached maximum number of iterations\n",
      "3 0.15 2\n"
     ]
    },
    {
     "name": "stderr",
     "output_type": "stream",
     "text": [
      " 22%|██▏       | 129/600 [2:53:30<8:15:01, 63.06s/it]"
     ]
    },
    {
     "name": "stdout",
     "output_type": "stream",
     "text": [
      "Score: -0.025142803423694685\n",
      "3 0.2 2\n",
      "Iteration 100\n",
      "PALM reached maximum number of iterations\n",
      "3 0.2 2\n"
     ]
    },
    {
     "name": "stderr",
     "output_type": "stream",
     "text": [
      " 22%|██▏       | 130/600 [2:54:37<8:23:51, 64.32s/it]"
     ]
    },
    {
     "name": "stdout",
     "output_type": "stream",
     "text": [
      "Score: 0.09017455512467706\n",
      "3 0.25 2\n",
      "Iteration 100\n",
      "PALM reached maximum number of iterations\n",
      "3 0.25 2\n"
     ]
    },
    {
     "name": "stderr",
     "output_type": "stream",
     "text": [
      " 22%|██▏       | 131/600 [2:55:39<8:16:03, 63.46s/it]"
     ]
    },
    {
     "name": "stdout",
     "output_type": "stream",
     "text": [
      "Score: 0.4694595677754926\n",
      "3 0.3 2\n",
      "Iteration 100\n",
      "PALM reached maximum number of iterations\n",
      "3 0.3 2\n"
     ]
    },
    {
     "name": "stderr",
     "output_type": "stream",
     "text": [
      " 22%|██▏       | 132/600 [2:56:37<8:02:49, 61.90s/it]"
     ]
    },
    {
     "name": "stdout",
     "output_type": "stream",
     "text": [
      "Score: 0.12785328307521066\n",
      "3 0.05 3\n",
      "Iteration 100\n",
      "PALM reached maximum number of iterations\n",
      "3 0.05 3\n"
     ]
    },
    {
     "name": "stderr",
     "output_type": "stream",
     "text": [
      " 22%|██▏       | 133/600 [2:57:57<8:43:08, 67.21s/it]"
     ]
    },
    {
     "name": "stdout",
     "output_type": "stream",
     "text": [
      "Score: 0.7203541332370774\n",
      "3 0.1 3\n",
      "Iteration 100\n",
      "PALM reached maximum number of iterations\n",
      "3 0.1 3\n"
     ]
    },
    {
     "name": "stderr",
     "output_type": "stream",
     "text": [
      " 22%|██▏       | 134/600 [2:59:11<8:59:21, 69.45s/it]"
     ]
    },
    {
     "name": "stdout",
     "output_type": "stream",
     "text": [
      "Score: 0.7305410765944507\n",
      "3 0.15 3\n",
      "Iteration 100\n",
      "PALM reached maximum number of iterations\n",
      "3 0.15 3\n"
     ]
    },
    {
     "name": "stderr",
     "output_type": "stream",
     "text": [
      " 22%|██▎       | 135/600 [3:00:22<9:00:00, 69.68s/it]"
     ]
    },
    {
     "name": "stdout",
     "output_type": "stream",
     "text": [
      "Score: 0.3890485324288252\n",
      "3 0.2 3\n",
      "Iteration 100\n",
      "PALM reached maximum number of iterations\n",
      "3 0.2 3\n"
     ]
    },
    {
     "name": "stderr",
     "output_type": "stream",
     "text": [
      " 23%|██▎       | 136/600 [3:01:27<8:49:38, 68.49s/it]"
     ]
    },
    {
     "name": "stdout",
     "output_type": "stream",
     "text": [
      "Score: 0.7406106252771938\n",
      "3 0.25 3\n",
      "Iteration 100\n",
      "PALM reached maximum number of iterations\n",
      "3 0.25 3\n",
      "Invalid data, retrying...\n",
      "Iteration 100\n",
      "PALM reached maximum number of iterations\n",
      "3 0.25 3\n",
      "Invalid data, retrying...\n",
      "Iteration 100\n",
      "PALM reached maximum number of iterations\n",
      "3 0.25 3\n"
     ]
    },
    {
     "name": "stderr",
     "output_type": "stream",
     "text": [
      " 23%|██▎       | 137/600 [3:03:35<11:06:17, 86.34s/it]"
     ]
    },
    {
     "name": "stdout",
     "output_type": "stream",
     "text": [
      "Score: 0.745578085908142\n",
      "3 0.3 3\n",
      "Iteration 100\n",
      "PALM reached maximum number of iterations\n",
      "3 0.3 3\n",
      "Invalid data, retrying...\n",
      "Iteration 100\n",
      "PALM reached maximum number of iterations\n",
      "3 0.3 3\n",
      "Invalid data, retrying...\n",
      "Iteration 100\n",
      "PALM reached maximum number of iterations\n",
      "3 0.3 3\n",
      "Invalid data, retrying...\n"
     ]
    },
    {
     "name": "stderr",
     "output_type": "stream",
     "text": [
      " 23%|██▎       | 138/600 [3:05:15<11:36:04, 90.40s/it]"
     ]
    },
    {
     "name": "stdout",
     "output_type": "stream",
     "text": [
      "3 0.05 4\n",
      "Iteration 100\n",
      "PALM reached maximum number of iterations\n",
      "3 0.05 4\n",
      "Invalid data, retrying...\n",
      "Iteration 100\n",
      "PALM reached maximum number of iterations\n",
      "3 0.05 4\n",
      "Invalid data, retrying...\n",
      "Iteration 100\n",
      "PALM reached maximum number of iterations\n",
      "3 0.05 4\n",
      "Invalid data, retrying...\n"
     ]
    },
    {
     "name": "stderr",
     "output_type": "stream",
     "text": [
      " 23%|██▎       | 139/600 [3:06:52<11:49:32, 92.35s/it]"
     ]
    },
    {
     "name": "stdout",
     "output_type": "stream",
     "text": [
      "3 0.1 4\n",
      "Iteration 100\n",
      "PALM reached maximum number of iterations\n",
      "3 0.1 4\n",
      "Invalid data, retrying...\n",
      "Iteration 100\n",
      "PALM reached maximum number of iterations\n",
      "3 0.1 4\n",
      "Invalid data, retrying...\n",
      "Iteration 100\n",
      "PALM reached maximum number of iterations\n",
      "3 0.1 4\n",
      "Invalid data, retrying...\n"
     ]
    },
    {
     "name": "stderr",
     "output_type": "stream",
     "text": [
      " 23%|██▎       | 140/600 [3:08:29<11:58:35, 93.73s/it]"
     ]
    },
    {
     "name": "stdout",
     "output_type": "stream",
     "text": [
      "3 0.15 4\n",
      "Iteration 100\n",
      "PALM reached maximum number of iterations\n",
      "3 0.15 4\n",
      "Invalid data, retrying...\n",
      "Iteration 100\n",
      "PALM reached maximum number of iterations\n",
      "3 0.15 4\n",
      "Invalid data, retrying...\n",
      "Iteration 100\n",
      "PALM reached maximum number of iterations\n",
      "3 0.15 4\n",
      "Invalid data, retrying...\n"
     ]
    },
    {
     "name": "stderr",
     "output_type": "stream",
     "text": [
      " 24%|██▎       | 141/600 [3:10:07<12:06:26, 94.96s/it]"
     ]
    },
    {
     "name": "stdout",
     "output_type": "stream",
     "text": [
      "3 0.2 4\n",
      "Iteration 100\n",
      "PALM reached maximum number of iterations\n",
      "3 0.2 4\n",
      "Invalid data, retrying...\n",
      "Iteration 100\n",
      "PALM reached maximum number of iterations\n",
      "3 0.2 4\n",
      "Invalid data, retrying...\n",
      "Iteration 100\n",
      "PALM reached maximum number of iterations\n",
      "3 0.2 4\n",
      "Invalid data, retrying...\n"
     ]
    },
    {
     "name": "stderr",
     "output_type": "stream",
     "text": [
      " 24%|██▎       | 142/600 [3:11:46<12:13:15, 96.06s/it]"
     ]
    },
    {
     "name": "stdout",
     "output_type": "stream",
     "text": [
      "3 0.25 4\n",
      "Iteration 100\n",
      "PALM reached maximum number of iterations\n",
      "3 0.25 4\n",
      "Invalid data, retrying...\n",
      "Iteration 100\n",
      "PALM reached maximum number of iterations\n",
      "3 0.25 4\n",
      "Invalid data, retrying...\n",
      "Iteration 100\n",
      "PALM reached maximum number of iterations\n",
      "3 0.25 4\n",
      "Invalid data, retrying...\n"
     ]
    },
    {
     "name": "stderr",
     "output_type": "stream",
     "text": [
      " 24%|██▍       | 143/600 [3:13:24<12:16:08, 96.65s/it]"
     ]
    },
    {
     "name": "stdout",
     "output_type": "stream",
     "text": [
      "3 0.3 4\n",
      "Iteration 100\n",
      "PALM reached maximum number of iterations\n",
      "3 0.3 4\n",
      "Invalid data, retrying...\n",
      "Iteration 100\n",
      "PALM reached maximum number of iterations\n",
      "3 0.3 4\n",
      "Invalid data, retrying...\n",
      "Iteration 100\n",
      "PALM reached maximum number of iterations\n",
      "3 0.3 4\n",
      "Invalid data, retrying...\n"
     ]
    },
    {
     "name": "stderr",
     "output_type": "stream",
     "text": [
      " 24%|██▍       | 144/600 [3:15:02<12:17:42, 97.07s/it]"
     ]
    },
    {
     "name": "stdout",
     "output_type": "stream",
     "text": [
      "3 0.05 5\n",
      "Iteration 100\n",
      "PALM reached maximum number of iterations\n",
      "3 0.05 5\n"
     ]
    },
    {
     "name": "stderr",
     "output_type": "stream",
     "text": [
      " 24%|██▍       | 145/600 [3:16:22<11:38:20, 92.09s/it]"
     ]
    },
    {
     "name": "stdout",
     "output_type": "stream",
     "text": [
      "Score: 0.23829671170554595\n",
      "3 0.1 5\n",
      "Iteration 100\n",
      "PALM reached maximum number of iterations\n",
      "3 0.1 5\n",
      "Invalid data, retrying...\n",
      "Iteration 100\n",
      "PALM reached maximum number of iterations\n",
      "3 0.1 5\n",
      "Invalid data, retrying...\n",
      "Iteration 100\n",
      "PALM reached maximum number of iterations\n",
      "3 0.1 5\n",
      "Invalid data, retrying...\n"
     ]
    },
    {
     "name": "stderr",
     "output_type": "stream",
     "text": [
      " 24%|██▍       | 146/600 [3:18:00<11:49:42, 93.79s/it]"
     ]
    },
    {
     "name": "stdout",
     "output_type": "stream",
     "text": [
      "3 0.15 5\n",
      "Iteration 100\n",
      "PALM reached maximum number of iterations\n",
      "3 0.15 5\n"
     ]
    },
    {
     "name": "stderr",
     "output_type": "stream",
     "text": [
      " 24%|██▍       | 147/600 [3:19:11<10:56:29, 86.95s/it]"
     ]
    },
    {
     "name": "stdout",
     "output_type": "stream",
     "text": [
      "Score: -0.1388212539724646\n",
      "3 0.2 5\n",
      "Iteration 100\n",
      "PALM reached maximum number of iterations\n",
      "3 0.2 5\n"
     ]
    },
    {
     "name": "stderr",
     "output_type": "stream",
     "text": [
      " 25%|██▍       | 148/600 [3:20:18<10:09:24, 80.89s/it]"
     ]
    },
    {
     "name": "stdout",
     "output_type": "stream",
     "text": [
      "Score: -0.2953963123167188\n",
      "3 0.25 5\n",
      "Iteration 100\n",
      "PALM reached maximum number of iterations\n",
      "3 0.25 5\n"
     ]
    },
    {
     "name": "stderr",
     "output_type": "stream",
     "text": [
      " 25%|██▍       | 149/600 [3:21:20<9:25:55, 75.29s/it] "
     ]
    },
    {
     "name": "stdout",
     "output_type": "stream",
     "text": [
      "Score: -0.3540805062657417\n",
      "3 0.3 5\n",
      "Iteration 100\n",
      "PALM reached maximum number of iterations\n",
      "3 0.3 5\n",
      "Invalid data, retrying...\n",
      "Iteration 100\n",
      "PALM reached maximum number of iterations\n",
      "3 0.3 5\n",
      "Invalid data, retrying...\n",
      "Iteration 100\n",
      "PALM reached maximum number of iterations\n",
      "3 0.3 5\n",
      "Invalid data, retrying...\n"
     ]
    },
    {
     "name": "stderr",
     "output_type": "stream",
     "text": [
      " 25%|██▌       | 150/600 [3:22:58<10:15:49, 82.11s/it]"
     ]
    },
    {
     "name": "stdout",
     "output_type": "stream",
     "text": [
      "3 0.05 6\n",
      "Iteration 100\n",
      "PALM reached maximum number of iterations\n",
      "3 0.05 6\n",
      "Invalid data, retrying...\n",
      "Iteration 100\n",
      "PALM reached maximum number of iterations\n",
      "3 0.05 6\n"
     ]
    },
    {
     "name": "stderr",
     "output_type": "stream",
     "text": [
      " 25%|██▌       | 151/600 [3:24:51<11:24:26, 91.46s/it]"
     ]
    },
    {
     "name": "stdout",
     "output_type": "stream",
     "text": [
      "Score: -0.3027375138178654\n",
      "3 0.1 6\n",
      "Iteration 100\n",
      "PALM reached maximum number of iterations\n",
      "3 0.1 6\n"
     ]
    },
    {
     "name": "stderr",
     "output_type": "stream",
     "text": [
      " 25%|██▌       | 152/600 [3:26:08<10:51:07, 87.21s/it]"
     ]
    },
    {
     "name": "stdout",
     "output_type": "stream",
     "text": [
      "Score: -0.2972827818953794\n",
      "3 0.15 6\n",
      "Iteration 100\n",
      "PALM reached maximum number of iterations\n",
      "3 0.15 6\n",
      "Invalid data, retrying...\n",
      "Iteration 100\n",
      "PALM reached maximum number of iterations\n",
      "3 0.15 6\n"
     ]
    },
    {
     "name": "stderr",
     "output_type": "stream",
     "text": [
      " 26%|██▌       | 153/600 [3:27:52<11:26:32, 92.15s/it]"
     ]
    },
    {
     "name": "stdout",
     "output_type": "stream",
     "text": [
      "Score: 0.026975115079667947\n",
      "3 0.2 6\n",
      "Iteration 100\n",
      "PALM reached maximum number of iterations\n",
      "3 0.2 6\n"
     ]
    },
    {
     "name": "stderr",
     "output_type": "stream",
     "text": [
      " 26%|██▌       | 154/600 [3:28:59<10:27:55, 84.47s/it]"
     ]
    },
    {
     "name": "stdout",
     "output_type": "stream",
     "text": [
      "Score: -0.2460266577125619\n",
      "3 0.25 6\n",
      "Iteration 100\n",
      "PALM reached maximum number of iterations\n",
      "3 0.25 6\n",
      "Invalid data, retrying...\n",
      "Iteration 100\n",
      "PALM reached maximum number of iterations\n",
      "3 0.25 6\n",
      "Invalid data, retrying...\n",
      "Iteration 100\n",
      "PALM reached maximum number of iterations\n",
      "3 0.25 6\n",
      "Invalid data, retrying...\n"
     ]
    },
    {
     "name": "stderr",
     "output_type": "stream",
     "text": [
      " 26%|██▌       | 155/600 [3:30:36<10:55:42, 88.41s/it]"
     ]
    },
    {
     "name": "stdout",
     "output_type": "stream",
     "text": [
      "3 0.3 6\n",
      "Iteration 100\n",
      "PALM reached maximum number of iterations\n",
      "3 0.3 6\n",
      "Invalid data, retrying...\n",
      "Iteration 100\n",
      "PALM reached maximum number of iterations\n",
      "3 0.3 6\n",
      "Invalid data, retrying...\n",
      "Iteration 100\n",
      "PALM reached maximum number of iterations\n",
      "3 0.3 6\n"
     ]
    },
    {
     "name": "stderr",
     "output_type": "stream",
     "text": [
      " 26%|██▌       | 156/600 [3:32:40<12:12:52, 99.04s/it]"
     ]
    },
    {
     "name": "stdout",
     "output_type": "stream",
     "text": [
      "Score: -0.15184671543620082\n",
      "3 0.05 7\n",
      "Iteration 100\n",
      "PALM reached maximum number of iterations\n",
      "3 0.05 7\n",
      "Invalid data, retrying...\n",
      "Iteration 100\n",
      "PALM reached maximum number of iterations\n",
      "3 0.05 7\n",
      "Invalid data, retrying...\n",
      "Iteration 100\n",
      "PALM reached maximum number of iterations\n",
      "3 0.05 7\n",
      "Invalid data, retrying...\n"
     ]
    },
    {
     "name": "stderr",
     "output_type": "stream",
     "text": [
      " 26%|██▌       | 157/600 [3:34:17<12:07:16, 98.50s/it]"
     ]
    },
    {
     "name": "stdout",
     "output_type": "stream",
     "text": [
      "3 0.1 7\n",
      "Iteration 100\n",
      "PALM reached maximum number of iterations\n",
      "3 0.1 7\n",
      "Invalid data, retrying...\n",
      "Iteration 100\n",
      "PALM reached maximum number of iterations\n",
      "3 0.1 7\n",
      "Invalid data, retrying...\n",
      "Iteration 100\n",
      "PALM reached maximum number of iterations\n",
      "3 0.1 7\n",
      "Invalid data, retrying...\n"
     ]
    },
    {
     "name": "stderr",
     "output_type": "stream",
     "text": [
      " 26%|██▋       | 158/600 [3:35:56<12:05:51, 98.53s/it]"
     ]
    },
    {
     "name": "stdout",
     "output_type": "stream",
     "text": [
      "3 0.15 7\n",
      "Iteration 100\n",
      "PALM reached maximum number of iterations\n",
      "3 0.15 7\n",
      "Invalid data, retrying...\n",
      "Iteration 100\n",
      "PALM reached maximum number of iterations\n",
      "3 0.15 7\n",
      "Invalid data, retrying...\n",
      "Iteration 100\n",
      "PALM reached maximum number of iterations\n",
      "3 0.15 7\n",
      "Invalid data, retrying...\n"
     ]
    },
    {
     "name": "stderr",
     "output_type": "stream",
     "text": [
      " 26%|██▋       | 159/600 [3:37:34<12:02:43, 98.33s/it]"
     ]
    },
    {
     "name": "stdout",
     "output_type": "stream",
     "text": [
      "3 0.2 7\n",
      "Iteration 100\n",
      "PALM reached maximum number of iterations\n",
      "3 0.2 7\n"
     ]
    },
    {
     "name": "stderr",
     "output_type": "stream",
     "text": [
      " 27%|██▋       | 160/600 [3:38:40<10:51:16, 88.81s/it]"
     ]
    },
    {
     "name": "stdout",
     "output_type": "stream",
     "text": [
      "Score: 0.2746989992318081\n",
      "3 0.25 7\n",
      "Iteration 100\n",
      "PALM reached maximum number of iterations\n",
      "3 0.25 7\n"
     ]
    },
    {
     "name": "stderr",
     "output_type": "stream",
     "text": [
      " 27%|██▋       | 161/600 [3:39:42<9:50:35, 80.72s/it] "
     ]
    },
    {
     "name": "stdout",
     "output_type": "stream",
     "text": [
      "Score: -0.30406336387078386\n",
      "3 0.3 7\n",
      "Iteration 100\n",
      "PALM reached maximum number of iterations\n",
      "3 0.3 7\n",
      "Invalid data, retrying...\n",
      "Iteration 100\n",
      "PALM reached maximum number of iterations\n",
      "3 0.3 7\n",
      "Invalid data, retrying...\n",
      "Iteration 100\n",
      "PALM reached maximum number of iterations\n",
      "3 0.3 7\n"
     ]
    },
    {
     "name": "stderr",
     "output_type": "stream",
     "text": [
      " 27%|██▋       | 162/600 [3:41:46<11:23:24, 93.62s/it]"
     ]
    },
    {
     "name": "stdout",
     "output_type": "stream",
     "text": [
      "Score: -0.021333736054942952\n",
      "3 0.05 8\n",
      "Iteration 100\n",
      "PALM reached maximum number of iterations\n",
      "3 0.05 8\n"
     ]
    },
    {
     "name": "stderr",
     "output_type": "stream",
     "text": [
      " 27%|██▋       | 163/600 [3:43:06<10:52:33, 89.60s/it]"
     ]
    },
    {
     "name": "stdout",
     "output_type": "stream",
     "text": [
      "Score: -0.4556777813366684\n",
      "3 0.1 8\n",
      "Iteration 100\n",
      "PALM reached maximum number of iterations\n",
      "3 0.1 8\n"
     ]
    },
    {
     "name": "stderr",
     "output_type": "stream",
     "text": [
      " 27%|██▋       | 164/600 [3:44:21<10:19:52, 85.31s/it]"
     ]
    },
    {
     "name": "stdout",
     "output_type": "stream",
     "text": [
      "Score: -0.32498076829538997\n",
      "3 0.15 8\n",
      "Iteration 100\n",
      "PALM reached maximum number of iterations\n",
      "3 0.15 8\n",
      "Invalid data, retrying...\n",
      "Iteration 100\n",
      "PALM reached maximum number of iterations\n",
      "3 0.15 8\n"
     ]
    },
    {
     "name": "stderr",
     "output_type": "stream",
     "text": [
      " 28%|██▊       | 165/600 [3:46:05<10:57:14, 90.65s/it]"
     ]
    },
    {
     "name": "stdout",
     "output_type": "stream",
     "text": [
      "Score: -0.21102838173642846\n",
      "3 0.2 8\n",
      "Iteration 100\n",
      "PALM reached maximum number of iterations\n",
      "3 0.2 8\n"
     ]
    },
    {
     "name": "stderr",
     "output_type": "stream",
     "text": [
      " 28%|██▊       | 166/600 [3:47:11<10:02:40, 83.32s/it]"
     ]
    },
    {
     "name": "stdout",
     "output_type": "stream",
     "text": [
      "Score: -0.19593333857063042\n",
      "3 0.25 8\n",
      "Iteration 100\n",
      "PALM reached maximum number of iterations\n",
      "3 0.25 8\n"
     ]
    },
    {
     "name": "stderr",
     "output_type": "stream",
     "text": [
      " 28%|██▊       | 167/600 [3:48:13<9:15:28, 76.97s/it] "
     ]
    },
    {
     "name": "stdout",
     "output_type": "stream",
     "text": [
      "Score: -0.2019890211607536\n",
      "3 0.3 8\n",
      "Iteration 100\n",
      "PALM reached maximum number of iterations\n",
      "3 0.3 8\n",
      "Invalid data, retrying...\n",
      "Iteration 100\n",
      "PALM reached maximum number of iterations\n",
      "3 0.3 8\n"
     ]
    },
    {
     "name": "stderr",
     "output_type": "stream",
     "text": [
      " 28%|██▊       | 168/600 [3:49:44<9:43:43, 81.07s/it]"
     ]
    },
    {
     "name": "stdout",
     "output_type": "stream",
     "text": [
      "Score: -0.2212472084383486\n",
      "3 0.05 9\n",
      "Iteration 100\n",
      "PALM reached maximum number of iterations\n",
      "3 0.05 9\n",
      "Invalid data, retrying...\n",
      "Iteration 100\n",
      "PALM reached maximum number of iterations\n",
      "3 0.05 9\n"
     ]
    },
    {
     "name": "stderr",
     "output_type": "stream",
     "text": [
      " 28%|██▊       | 169/600 [3:51:38<10:54:52, 91.17s/it]"
     ]
    },
    {
     "name": "stdout",
     "output_type": "stream",
     "text": [
      "Score: 0.03898177489367254\n",
      "3 0.1 9\n",
      "Iteration 100\n",
      "PALM reached maximum number of iterations\n",
      "3 0.1 9\n"
     ]
    },
    {
     "name": "stderr",
     "output_type": "stream",
     "text": [
      " 28%|██▊       | 170/600 [3:52:54<10:20:31, 86.58s/it]"
     ]
    },
    {
     "name": "stdout",
     "output_type": "stream",
     "text": [
      "Score: -0.14368792732032834\n",
      "3 0.15 9\n",
      "Iteration 100\n",
      "PALM reached maximum number of iterations\n",
      "3 0.15 9\n",
      "Invalid data, retrying...\n",
      "Iteration 100\n",
      "PALM reached maximum number of iterations\n",
      "3 0.15 9\n",
      "Invalid data, retrying...\n",
      "Iteration 100\n",
      "PALM reached maximum number of iterations\n",
      "3 0.15 9\n"
     ]
    },
    {
     "name": "stderr",
     "output_type": "stream",
     "text": [
      " 28%|██▊       | 171/600 [3:55:11<12:06:19, 101.58s/it]"
     ]
    },
    {
     "name": "stdout",
     "output_type": "stream",
     "text": [
      "Score: -0.3598012999019332\n",
      "3 0.2 9\n",
      "Iteration 100\n",
      "PALM reached maximum number of iterations\n",
      "3 0.2 9\n"
     ]
    },
    {
     "name": "stderr",
     "output_type": "stream",
     "text": [
      " 29%|██▊       | 172/600 [3:56:17<10:49:08, 91.00s/it] "
     ]
    },
    {
     "name": "stdout",
     "output_type": "stream",
     "text": [
      "Score: -0.290717594643352\n",
      "3 0.25 9\n",
      "Iteration 100\n",
      "PALM reached maximum number of iterations\n",
      "3 0.25 9\n",
      "Invalid data, retrying...\n",
      "Iteration 100\n",
      "PALM reached maximum number of iterations\n",
      "3 0.25 9\n",
      "Invalid data, retrying...\n",
      "Iteration 100\n",
      "PALM reached maximum number of iterations\n",
      "3 0.25 9\n",
      "Invalid data, retrying...\n"
     ]
    },
    {
     "name": "stderr",
     "output_type": "stream",
     "text": [
      " 29%|██▉       | 173/600 [3:57:57<11:06:36, 93.67s/it]"
     ]
    },
    {
     "name": "stdout",
     "output_type": "stream",
     "text": [
      "3 0.3 9\n",
      "Iteration 100\n",
      "PALM reached maximum number of iterations\n",
      "3 0.3 9\n"
     ]
    },
    {
     "name": "stderr",
     "output_type": "stream",
     "text": [
      " 29%|██▉       | 174/600 [3:58:56<9:50:49, 83.22s/it] "
     ]
    },
    {
     "name": "stdout",
     "output_type": "stream",
     "text": [
      "Score: 0.15330061659353217\n",
      "3 0.05 10\n",
      "Iteration 100\n",
      "PALM reached maximum number of iterations\n",
      "3 0.05 10\n",
      "Invalid data, retrying...\n",
      "Iteration 100\n",
      "PALM reached maximum number of iterations\n",
      "3 0.05 10\n"
     ]
    },
    {
     "name": "stderr",
     "output_type": "stream",
     "text": [
      " 29%|██▉       | 175/600 [4:00:49<10:53:31, 92.26s/it]"
     ]
    },
    {
     "name": "stdout",
     "output_type": "stream",
     "text": [
      "Score: -0.06651914403262546\n",
      "3 0.1 10\n",
      "Iteration 100\n",
      "PALM reached maximum number of iterations\n",
      "3 0.1 10\n",
      "Invalid data, retrying...\n",
      "Iteration 100\n",
      "PALM reached maximum number of iterations\n",
      "3 0.1 10\n"
     ]
    },
    {
     "name": "stderr",
     "output_type": "stream",
     "text": [
      " 29%|██▉       | 176/600 [4:02:39<11:28:58, 97.50s/it]"
     ]
    },
    {
     "name": "stdout",
     "output_type": "stream",
     "text": [
      "Score: 0.12700484260358477\n",
      "3 0.15 10\n",
      "Iteration 100\n",
      "PALM reached maximum number of iterations\n",
      "3 0.15 10\n"
     ]
    },
    {
     "name": "stderr",
     "output_type": "stream",
     "text": [
      " 30%|██▉       | 177/600 [4:03:50<10:31:43, 89.61s/it]"
     ]
    },
    {
     "name": "stdout",
     "output_type": "stream",
     "text": [
      "Score: -0.21834117329942265\n",
      "3 0.2 10\n",
      "Iteration 100\n",
      "PALM reached maximum number of iterations\n",
      "3 0.2 10\n"
     ]
    },
    {
     "name": "stderr",
     "output_type": "stream",
     "text": [
      " 30%|██▉       | 178/600 [4:04:57<9:41:22, 82.66s/it] "
     ]
    },
    {
     "name": "stdout",
     "output_type": "stream",
     "text": [
      "Score: -0.14463718302926798\n",
      "3 0.25 10\n",
      "Iteration 100\n",
      "PALM reached maximum number of iterations\n",
      "3 0.25 10\n"
     ]
    },
    {
     "name": "stderr",
     "output_type": "stream",
     "text": [
      " 30%|██▉       | 179/600 [4:05:59<8:56:58, 76.53s/it]"
     ]
    },
    {
     "name": "stdout",
     "output_type": "stream",
     "text": [
      "Score: 0.09561100681163938\n",
      "3 0.3 10\n",
      "Iteration 100\n",
      "PALM reached maximum number of iterations\n",
      "3 0.3 10\n",
      "Invalid data, retrying...\n",
      "Iteration 100\n",
      "PALM reached maximum number of iterations\n",
      "3 0.3 10\n"
     ]
    },
    {
     "name": "stderr",
     "output_type": "stream",
     "text": [
      " 30%|███       | 180/600 [4:07:29<9:25:29, 80.78s/it]"
     ]
    },
    {
     "name": "stdout",
     "output_type": "stream",
     "text": [
      "Score: -0.0543985327362589\n",
      "4 0.05 1\n",
      "Iteration 100\n",
      "PALM reached maximum number of iterations\n",
      "4 0.05 1\n"
     ]
    },
    {
     "name": "stderr",
     "output_type": "stream",
     "text": [
      " 30%|███       | 181/600 [4:08:20<8:21:22, 71.80s/it]"
     ]
    },
    {
     "name": "stdout",
     "output_type": "stream",
     "text": [
      "Score: 0.3917586881401022\n",
      "4 0.1 1\n",
      "Iteration 100\n",
      "PALM reached maximum number of iterations\n",
      "4 0.1 1\n"
     ]
    },
    {
     "name": "stderr",
     "output_type": "stream",
     "text": [
      " 30%|███       | 182/600 [4:09:07<7:27:53, 64.29s/it]"
     ]
    },
    {
     "name": "stdout",
     "output_type": "stream",
     "text": [
      "Score: 0.36306592591019177\n",
      "4 0.15 1\n",
      "Iteration 100\n",
      "PALM reached maximum number of iterations\n",
      "4 0.15 1\n"
     ]
    },
    {
     "name": "stderr",
     "output_type": "stream",
     "text": [
      " 30%|███       | 183/600 [4:09:50<6:42:45, 57.95s/it]"
     ]
    },
    {
     "name": "stdout",
     "output_type": "stream",
     "text": [
      "Score: 0.33719466488929356\n",
      "4 0.2 1\n",
      "Iteration 100\n",
      "PALM reached maximum number of iterations\n",
      "4 0.2 1\n"
     ]
    },
    {
     "name": "stderr",
     "output_type": "stream",
     "text": [
      " 31%|███       | 184/600 [4:10:28<6:00:06, 51.94s/it]"
     ]
    },
    {
     "name": "stdout",
     "output_type": "stream",
     "text": [
      "Score: 0.37070214091402687\n",
      "4 0.25 1\n",
      "Iteration 100\n",
      "PALM reached maximum number of iterations\n",
      "4 0.25 1\n"
     ]
    },
    {
     "name": "stderr",
     "output_type": "stream",
     "text": [
      " 31%|███       | 185/600 [4:11:03<5:22:56, 46.69s/it]"
     ]
    },
    {
     "name": "stdout",
     "output_type": "stream",
     "text": [
      "Score: 0.3871914721649392\n",
      "4 0.3 1\n",
      "Iteration 100\n",
      "PALM reached maximum number of iterations\n",
      "4 0.3 1\n"
     ]
    },
    {
     "name": "stderr",
     "output_type": "stream",
     "text": [
      " 31%|███       | 186/600 [4:11:34<4:51:04, 42.19s/it]"
     ]
    },
    {
     "name": "stdout",
     "output_type": "stream",
     "text": [
      "Score: 0.6774488241477817\n",
      "4 0.05 2\n",
      "Iteration 100\n",
      "PALM reached maximum number of iterations\n",
      "4 0.05 2\n"
     ]
    },
    {
     "name": "stderr",
     "output_type": "stream",
     "text": [
      " 31%|███       | 187/600 [4:12:58<6:15:39, 54.58s/it]"
     ]
    },
    {
     "name": "stdout",
     "output_type": "stream",
     "text": [
      "Score: 0.698168449927464\n",
      "4 0.1 2\n",
      "Iteration 100\n",
      "PALM reached maximum number of iterations\n",
      "4 0.1 2\n"
     ]
    },
    {
     "name": "stderr",
     "output_type": "stream",
     "text": [
      " 31%|███▏      | 188/600 [4:14:16<7:03:22, 61.66s/it]"
     ]
    },
    {
     "name": "stdout",
     "output_type": "stream",
     "text": [
      "Score: 0.7018717414296346\n",
      "4 0.15 2\n",
      "Iteration 100\n",
      "PALM reached maximum number of iterations\n",
      "4 0.15 2\n"
     ]
    },
    {
     "name": "stderr",
     "output_type": "stream",
     "text": [
      " 32%|███▏      | 189/600 [4:15:29<7:25:07, 64.98s/it]"
     ]
    },
    {
     "name": "stdout",
     "output_type": "stream",
     "text": [
      "Score: 0.41739160233542993\n",
      "4 0.2 2\n",
      "Iteration 100\n",
      "PALM reached maximum number of iterations\n",
      "4 0.2 2\n"
     ]
    },
    {
     "name": "stderr",
     "output_type": "stream",
     "text": [
      " 32%|███▏      | 190/600 [4:16:36<7:28:47, 65.68s/it]"
     ]
    },
    {
     "name": "stdout",
     "output_type": "stream",
     "text": [
      "Score: 0.22298737407903083\n",
      "4 0.25 2\n",
      "Iteration 100\n",
      "PALM reached maximum number of iterations\n",
      "4 0.25 2\n"
     ]
    },
    {
     "name": "stderr",
     "output_type": "stream",
     "text": [
      " 32%|███▏      | 191/600 [4:17:40<7:25:03, 65.29s/it]"
     ]
    },
    {
     "name": "stdout",
     "output_type": "stream",
     "text": [
      "Score: 0.06213567914840108\n",
      "4 0.3 2\n",
      "Iteration 100\n",
      "PALM reached maximum number of iterations\n",
      "4 0.3 2\n"
     ]
    },
    {
     "name": "stderr",
     "output_type": "stream",
     "text": [
      " 32%|███▏      | 192/600 [4:18:41<7:14:37, 63.92s/it]"
     ]
    },
    {
     "name": "stdout",
     "output_type": "stream",
     "text": [
      "Score: 0.055359858164976176\n",
      "4 0.05 3\n",
      "Iteration 100\n",
      "PALM reached maximum number of iterations\n",
      "4 0.05 3\n"
     ]
    },
    {
     "name": "stderr",
     "output_type": "stream",
     "text": [
      " 32%|███▏      | 193/600 [4:20:04<7:51:54, 69.57s/it]"
     ]
    },
    {
     "name": "stdout",
     "output_type": "stream",
     "text": [
      "Score: 0.6981879923335326\n",
      "4 0.1 3\n",
      "Iteration 100\n",
      "PALM reached maximum number of iterations\n",
      "4 0.1 3\n"
     ]
    },
    {
     "name": "stderr",
     "output_type": "stream",
     "text": [
      " 32%|███▏      | 194/600 [4:21:22<8:07:25, 72.03s/it]"
     ]
    },
    {
     "name": "stdout",
     "output_type": "stream",
     "text": [
      "Score: 0.7074704189680945\n",
      "4 0.15 3\n",
      "Iteration 100\n",
      "PALM reached maximum number of iterations\n",
      "4 0.15 3\n"
     ]
    },
    {
     "name": "stderr",
     "output_type": "stream",
     "text": [
      " 32%|███▎      | 195/600 [4:22:34<8:07:47, 72.27s/it]"
     ]
    },
    {
     "name": "stdout",
     "output_type": "stream",
     "text": [
      "Score: -0.014442411292729067\n",
      "4 0.2 3\n",
      "Iteration 100\n",
      "PALM reached maximum number of iterations\n",
      "4 0.2 3\n"
     ]
    },
    {
     "name": "stderr",
     "output_type": "stream",
     "text": [
      " 33%|███▎      | 196/600 [4:23:43<8:00:03, 71.29s/it]"
     ]
    },
    {
     "name": "stdout",
     "output_type": "stream",
     "text": [
      "Score: -0.0812084187671129\n",
      "4 0.25 3\n",
      "Iteration 100\n",
      "PALM reached maximum number of iterations\n",
      "4 0.25 3\n"
     ]
    },
    {
     "name": "stderr",
     "output_type": "stream",
     "text": [
      " 33%|███▎      | 197/600 [4:24:48<7:45:57, 69.37s/it]"
     ]
    },
    {
     "name": "stdout",
     "output_type": "stream",
     "text": [
      "Score: 0.4055267518571168\n",
      "4 0.3 3\n",
      "Iteration 100\n",
      "PALM reached maximum number of iterations\n",
      "4 0.3 3\n",
      "Invalid data, retrying...\n",
      "Iteration 100\n",
      "PALM reached maximum number of iterations\n",
      "4 0.3 3\n"
     ]
    },
    {
     "name": "stderr",
     "output_type": "stream",
     "text": [
      " 33%|███▎      | 198/600 [4:26:25<8:40:16, 77.65s/it]"
     ]
    },
    {
     "name": "stdout",
     "output_type": "stream",
     "text": [
      "Score: 0.5008625700906782\n",
      "4 0.05 4\n",
      "Iteration 100\n",
      "PALM reached maximum number of iterations\n",
      "4 0.05 4\n",
      "Invalid data, retrying...\n",
      "Iteration 100\n",
      "PALM reached maximum number of iterations\n",
      "4 0.05 4\n",
      "Invalid data, retrying...\n",
      "Iteration 100\n",
      "PALM reached maximum number of iterations\n",
      "4 0.05 4\n",
      "Invalid data, retrying...\n"
     ]
    },
    {
     "name": "stderr",
     "output_type": "stream",
     "text": [
      " 33%|███▎      | 199/600 [4:28:12<9:37:06, 86.35s/it]"
     ]
    },
    {
     "name": "stdout",
     "output_type": "stream",
     "text": [
      "4 0.1 4\n",
      "Iteration 100\n",
      "PALM reached maximum number of iterations\n",
      "4 0.1 4\n"
     ]
    },
    {
     "name": "stderr",
     "output_type": "stream",
     "text": [
      " 33%|███▎      | 200/600 [4:29:32<9:22:48, 84.42s/it]"
     ]
    },
    {
     "name": "stdout",
     "output_type": "stream",
     "text": [
      "Score: 0.7287819692410025\n",
      "4 0.15 4\n",
      "Iteration 100\n",
      "PALM reached maximum number of iterations\n",
      "4 0.15 4\n"
     ]
    },
    {
     "name": "stderr",
     "output_type": "stream",
     "text": [
      " 34%|███▎      | 201/600 [4:30:45<8:58:58, 81.05s/it]"
     ]
    },
    {
     "name": "stdout",
     "output_type": "stream",
     "text": [
      "Score: 0.3889389633339721\n",
      "4 0.2 4\n",
      "Iteration 100\n",
      "PALM reached maximum number of iterations\n",
      "4 0.2 4\n",
      "Invalid data, retrying...\n",
      "Iteration 100\n",
      "PALM reached maximum number of iterations\n",
      "4 0.2 4\n",
      "Invalid data, retrying...\n",
      "Iteration 100\n",
      "PALM reached maximum number of iterations\n",
      "4 0.2 4\n",
      "Invalid data, retrying...\n"
     ]
    },
    {
     "name": "stderr",
     "output_type": "stream",
     "text": [
      " 34%|███▎      | 202/600 [4:32:32<9:49:30, 88.87s/it]"
     ]
    },
    {
     "name": "stdout",
     "output_type": "stream",
     "text": [
      "4 0.25 4\n",
      "Iteration 100\n",
      "PALM reached maximum number of iterations\n",
      "4 0.25 4\n"
     ]
    },
    {
     "name": "stderr",
     "output_type": "stream",
     "text": [
      " 34%|███▍      | 203/600 [4:33:37<9:00:03, 81.62s/it]"
     ]
    },
    {
     "name": "stdout",
     "output_type": "stream",
     "text": [
      "Score: 0.031037846047558604\n",
      "4 0.3 4\n",
      "Iteration 100\n",
      "PALM reached maximum number of iterations\n",
      "4 0.3 4\n",
      "Invalid data, retrying...\n",
      "Iteration 100\n",
      "PALM reached maximum number of iterations\n",
      "4 0.3 4\n"
     ]
    },
    {
     "name": "stderr",
     "output_type": "stream",
     "text": [
      " 34%|███▍      | 204/600 [4:35:13<9:27:47, 86.03s/it]"
     ]
    },
    {
     "name": "stdout",
     "output_type": "stream",
     "text": [
      "Score: 0.7482102645410046\n",
      "4 0.05 5\n",
      "Iteration 100\n",
      "PALM reached maximum number of iterations\n",
      "4 0.05 5\n",
      "Invalid data, retrying...\n",
      "Iteration 100\n",
      "PALM reached maximum number of iterations\n",
      "4 0.05 5\n",
      "Invalid data, retrying...\n",
      "Iteration 100\n",
      "PALM reached maximum number of iterations\n",
      "4 0.05 5\n",
      "Invalid data, retrying...\n"
     ]
    },
    {
     "name": "stderr",
     "output_type": "stream",
     "text": [
      " 34%|███▍      | 205/600 [4:36:58<10:03:58, 91.74s/it]"
     ]
    },
    {
     "name": "stdout",
     "output_type": "stream",
     "text": [
      "4 0.1 5\n",
      "Iteration 100\n",
      "PALM reached maximum number of iterations\n",
      "4 0.1 5\n",
      "Invalid data, retrying...\n",
      "Iteration 100\n",
      "PALM reached maximum number of iterations\n",
      "4 0.1 5\n",
      "Invalid data, retrying...\n",
      "Iteration 100\n",
      "PALM reached maximum number of iterations\n",
      "4 0.1 5\n",
      "Invalid data, retrying...\n"
     ]
    },
    {
     "name": "stderr",
     "output_type": "stream",
     "text": [
      " 34%|███▍      | 206/600 [4:38:44<10:30:04, 95.95s/it]"
     ]
    },
    {
     "name": "stdout",
     "output_type": "stream",
     "text": [
      "4 0.15 5\n",
      "Iteration 100\n",
      "PALM reached maximum number of iterations\n",
      "4 0.15 5\n",
      "Invalid data, retrying...\n",
      "Iteration 100\n",
      "PALM reached maximum number of iterations\n",
      "4 0.15 5\n",
      "Invalid data, retrying...\n",
      "Iteration 100\n",
      "PALM reached maximum number of iterations\n",
      "4 0.15 5\n",
      "Invalid data, retrying...\n"
     ]
    },
    {
     "name": "stderr",
     "output_type": "stream",
     "text": [
      " 34%|███▍      | 207/600 [4:40:29<10:46:09, 98.65s/it]"
     ]
    },
    {
     "name": "stdout",
     "output_type": "stream",
     "text": [
      "4 0.2 5\n",
      "Iteration 100\n",
      "PALM reached maximum number of iterations\n",
      "4 0.2 5\n",
      "Invalid data, retrying...\n",
      "Iteration 100\n",
      "PALM reached maximum number of iterations\n",
      "4 0.2 5\n",
      "Invalid data, retrying...\n",
      "Iteration 100\n",
      "PALM reached maximum number of iterations\n",
      "4 0.2 5\n",
      "Invalid data, retrying...\n"
     ]
    },
    {
     "name": "stderr",
     "output_type": "stream",
     "text": [
      " 35%|███▍      | 208/600 [4:42:14<10:57:20, 100.61s/it]"
     ]
    },
    {
     "name": "stdout",
     "output_type": "stream",
     "text": [
      "4 0.25 5\n",
      "Iteration 100\n",
      "PALM reached maximum number of iterations\n",
      "4 0.25 5\n",
      "Invalid data, retrying...\n",
      "Iteration 100\n",
      "PALM reached maximum number of iterations\n",
      "4 0.25 5\n",
      "Invalid data, retrying...\n",
      "Iteration 100\n",
      "PALM reached maximum number of iterations\n",
      "4 0.25 5\n",
      "Invalid data, retrying...\n"
     ]
    },
    {
     "name": "stderr",
     "output_type": "stream",
     "text": [
      " 35%|███▍      | 209/600 [4:43:59<11:04:20, 101.95s/it]"
     ]
    },
    {
     "name": "stdout",
     "output_type": "stream",
     "text": [
      "4 0.3 5\n",
      "Iteration 100\n",
      "PALM reached maximum number of iterations\n",
      "4 0.3 5\n",
      "Invalid data, retrying...\n",
      "Iteration 100\n",
      "PALM reached maximum number of iterations\n",
      "4 0.3 5\n",
      "Invalid data, retrying...\n",
      "Iteration 100\n",
      "PALM reached maximum number of iterations\n",
      "4 0.3 5\n",
      "Invalid data, retrying...\n"
     ]
    },
    {
     "name": "stderr",
     "output_type": "stream",
     "text": [
      " 35%|███▌      | 210/600 [4:45:45<11:09:16, 102.97s/it]"
     ]
    },
    {
     "name": "stdout",
     "output_type": "stream",
     "text": [
      "4 0.05 6\n",
      "Iteration 100\n",
      "PALM reached maximum number of iterations\n",
      "4 0.05 6\n",
      "Invalid data, retrying...\n",
      "Iteration 100\n",
      "PALM reached maximum number of iterations\n",
      "4 0.05 6\n",
      "Invalid data, retrying...\n",
      "Iteration 100\n",
      "PALM reached maximum number of iterations\n",
      "4 0.05 6\n",
      "Invalid data, retrying...\n"
     ]
    },
    {
     "name": "stderr",
     "output_type": "stream",
     "text": [
      " 35%|███▌      | 211/600 [4:47:30<11:13:09, 103.83s/it]"
     ]
    },
    {
     "name": "stdout",
     "output_type": "stream",
     "text": [
      "4 0.1 6\n",
      "Iteration 100\n",
      "PALM reached maximum number of iterations\n",
      "4 0.1 6\n"
     ]
    },
    {
     "name": "stderr",
     "output_type": "stream",
     "text": [
      " 35%|███▌      | 212/600 [4:48:48<10:21:10, 96.06s/it] "
     ]
    },
    {
     "name": "stdout",
     "output_type": "stream",
     "text": [
      "Score: -0.4378429927798647\n",
      "4 0.15 6\n",
      "Iteration 100\n",
      "PALM reached maximum number of iterations\n",
      "4 0.15 6\n"
     ]
    },
    {
     "name": "stderr",
     "output_type": "stream",
     "text": [
      " 36%|███▌      | 213/600 [4:50:02<9:36:01, 89.31s/it] "
     ]
    },
    {
     "name": "stdout",
     "output_type": "stream",
     "text": [
      "Score: -0.027676722132538915\n",
      "4 0.2 6\n",
      "Iteration 100\n",
      "PALM reached maximum number of iterations\n",
      "4 0.2 6\n"
     ]
    },
    {
     "name": "stderr",
     "output_type": "stream",
     "text": [
      " 36%|███▌      | 214/600 [4:51:13<8:59:09, 83.81s/it]"
     ]
    },
    {
     "name": "stdout",
     "output_type": "stream",
     "text": [
      "Score: -0.060700894794611174\n",
      "4 0.25 6\n",
      "Iteration 100\n",
      "PALM reached maximum number of iterations\n",
      "4 0.25 6\n"
     ]
    },
    {
     "name": "stderr",
     "output_type": "stream",
     "text": [
      " 36%|███▌      | 215/600 [4:52:18<8:21:34, 78.17s/it]"
     ]
    },
    {
     "name": "stdout",
     "output_type": "stream",
     "text": [
      "Score: 0.0315945196826978\n",
      "4 0.3 6\n",
      "Iteration 100\n",
      "PALM reached maximum number of iterations\n",
      "4 0.3 6\n",
      "Invalid data, retrying...\n",
      "Iteration 100\n",
      "PALM reached maximum number of iterations\n",
      "4 0.3 6\n"
     ]
    },
    {
     "name": "stderr",
     "output_type": "stream",
     "text": [
      " 36%|███▌      | 216/600 [4:53:55<8:55:54, 83.74s/it]"
     ]
    },
    {
     "name": "stdout",
     "output_type": "stream",
     "text": [
      "Score: -0.24901423098397338\n",
      "4 0.05 7\n",
      "Iteration 100\n",
      "PALM reached maximum number of iterations\n",
      "4 0.05 7\n",
      "Invalid data, retrying...\n",
      "Iteration 100\n",
      "PALM reached maximum number of iterations\n",
      "4 0.05 7\n",
      "Invalid data, retrying...\n",
      "Iteration 100\n",
      "PALM reached maximum number of iterations\n",
      "4 0.05 7\n",
      "Invalid data, retrying...\n"
     ]
    },
    {
     "name": "stderr",
     "output_type": "stream",
     "text": [
      " 36%|███▌      | 217/600 [4:55:40<9:35:10, 90.11s/it]"
     ]
    },
    {
     "name": "stdout",
     "output_type": "stream",
     "text": [
      "4 0.1 7\n",
      "Iteration 100\n",
      "PALM reached maximum number of iterations\n",
      "4 0.1 7\n"
     ]
    },
    {
     "name": "stderr",
     "output_type": "stream",
     "text": [
      " 36%|███▋      | 218/600 [4:56:58<9:11:22, 86.60s/it]"
     ]
    },
    {
     "name": "stdout",
     "output_type": "stream",
     "text": [
      "Score: -0.30501596166678946\n",
      "4 0.15 7\n",
      "Iteration 100\n",
      "PALM reached maximum number of iterations\n",
      "4 0.15 7\n"
     ]
    },
    {
     "name": "stderr",
     "output_type": "stream",
     "text": [
      " 36%|███▋      | 219/600 [4:58:12<8:46:20, 82.89s/it]"
     ]
    },
    {
     "name": "stdout",
     "output_type": "stream",
     "text": [
      "Score: -0.30838853886065787\n",
      "4 0.2 7\n",
      "Iteration 100\n",
      "PALM reached maximum number of iterations\n",
      "4 0.2 7\n",
      "Invalid data, retrying...\n",
      "Iteration 100\n",
      "PALM reached maximum number of iterations\n",
      "4 0.2 7\n",
      "Invalid data, retrying...\n",
      "Iteration 100\n",
      "PALM reached maximum number of iterations\n",
      "4 0.2 7\n"
     ]
    },
    {
     "name": "stderr",
     "output_type": "stream",
     "text": [
      " 37%|███▋      | 220/600 [5:00:33<10:35:38, 100.36s/it]"
     ]
    },
    {
     "name": "stdout",
     "output_type": "stream",
     "text": [
      "Score: -0.2669706201569085\n",
      "4 0.25 7\n",
      "Iteration 100\n",
      "PALM reached maximum number of iterations\n",
      "4 0.25 7\n"
     ]
    },
    {
     "name": "stderr",
     "output_type": "stream",
     "text": [
      " 37%|███▋      | 221/600 [5:01:40<9:29:43, 90.19s/it]  "
     ]
    },
    {
     "name": "stdout",
     "output_type": "stream",
     "text": [
      "Score: 0.10280362058877758\n",
      "4 0.3 7\n",
      "Iteration 100\n",
      "PALM reached maximum number of iterations\n",
      "4 0.3 7\n",
      "Invalid data, retrying...\n",
      "Iteration 100\n",
      "PALM reached maximum number of iterations\n",
      "4 0.3 7\n"
     ]
    },
    {
     "name": "stderr",
     "output_type": "stream",
     "text": [
      " 37%|███▋      | 222/600 [5:03:16<9:39:58, 92.06s/it]"
     ]
    },
    {
     "name": "stdout",
     "output_type": "stream",
     "text": [
      "Score: -0.19593393546727778\n",
      "4 0.05 8\n",
      "Iteration 100\n",
      "PALM reached maximum number of iterations\n",
      "4 0.05 8\n"
     ]
    },
    {
     "name": "stderr",
     "output_type": "stream",
     "text": [
      " 37%|███▋      | 223/600 [5:04:40<9:23:16, 89.65s/it]"
     ]
    },
    {
     "name": "stdout",
     "output_type": "stream",
     "text": [
      "Score: -0.40011646083427194\n",
      "4 0.1 8\n",
      "Iteration 100\n",
      "PALM reached maximum number of iterations\n",
      "4 0.1 8\n",
      "Invalid data, retrying...\n",
      "Iteration 100\n",
      "PALM reached maximum number of iterations\n",
      "4 0.1 8\n"
     ]
    },
    {
     "name": "stderr",
     "output_type": "stream",
     "text": [
      " 37%|███▋      | 224/600 [5:06:34<10:07:09, 96.89s/it]"
     ]
    },
    {
     "name": "stdout",
     "output_type": "stream",
     "text": [
      "Score: -0.3869070831840931\n",
      "4 0.15 8\n",
      "Iteration 100\n",
      "PALM reached maximum number of iterations\n",
      "4 0.15 8\n",
      "Invalid data, retrying...\n",
      "Iteration 100\n",
      "PALM reached maximum number of iterations\n",
      "4 0.15 8\n"
     ]
    },
    {
     "name": "stderr",
     "output_type": "stream",
     "text": [
      " 38%|███▊      | 225/600 [5:08:23<10:28:31, 100.57s/it]"
     ]
    },
    {
     "name": "stdout",
     "output_type": "stream",
     "text": [
      "Score: -0.20189363252497053\n",
      "4 0.2 8\n",
      "Iteration 100\n",
      "PALM reached maximum number of iterations\n",
      "4 0.2 8\n"
     ]
    },
    {
     "name": "stderr",
     "output_type": "stream",
     "text": [
      " 38%|███▊      | 226/600 [5:09:33<9:28:52, 91.26s/it]  "
     ]
    },
    {
     "name": "stdout",
     "output_type": "stream",
     "text": [
      "Score: -0.12451014100267467\n",
      "4 0.25 8\n",
      "Iteration 100\n",
      "PALM reached maximum number of iterations\n",
      "4 0.25 8\n",
      "Invalid data, retrying...\n",
      "Iteration 100\n",
      "PALM reached maximum number of iterations\n",
      "4 0.25 8\n"
     ]
    },
    {
     "name": "stderr",
     "output_type": "stream",
     "text": [
      " 38%|███▊      | 227/600 [5:11:14<9:46:10, 94.29s/it]"
     ]
    },
    {
     "name": "stdout",
     "output_type": "stream",
     "text": [
      "Score: -0.22859502134723367\n",
      "4 0.3 8\n",
      "Iteration 100\n",
      "PALM reached maximum number of iterations\n",
      "4 0.3 8\n"
     ]
    },
    {
     "name": "stderr",
     "output_type": "stream",
     "text": [
      " 38%|███▊      | 228/600 [5:12:15<8:42:57, 84.35s/it]"
     ]
    },
    {
     "name": "stdout",
     "output_type": "stream",
     "text": [
      "Score: -0.18387054116126753\n",
      "4 0.05 9\n",
      "Iteration 100\n",
      "PALM reached maximum number of iterations\n",
      "4 0.05 9\n"
     ]
    },
    {
     "name": "stderr",
     "output_type": "stream",
     "text": [
      " 38%|███▊      | 229/600 [5:13:39<8:41:20, 84.31s/it]"
     ]
    },
    {
     "name": "stdout",
     "output_type": "stream",
     "text": [
      "Score: -0.37243545506964565\n",
      "4 0.1 9\n",
      "Iteration 100\n",
      "PALM reached maximum number of iterations\n",
      "4 0.1 9\n"
     ]
    },
    {
     "name": "stderr",
     "output_type": "stream",
     "text": [
      " 38%|███▊      | 230/600 [5:14:59<8:30:34, 82.80s/it]"
     ]
    },
    {
     "name": "stdout",
     "output_type": "stream",
     "text": [
      "Score: -0.17601448787927818\n",
      "4 0.15 9\n",
      "Iteration 100\n",
      "PALM reached maximum number of iterations\n",
      "4 0.15 9\n",
      "Invalid data, retrying...\n",
      "Iteration 100\n",
      "PALM reached maximum number of iterations\n",
      "4 0.15 9\n"
     ]
    },
    {
     "name": "stderr",
     "output_type": "stream",
     "text": [
      " 38%|███▊      | 231/600 [5:16:47<9:16:49, 90.54s/it]"
     ]
    },
    {
     "name": "stdout",
     "output_type": "stream",
     "text": [
      "Score: 0.11483835273702518\n",
      "4 0.2 9\n",
      "Iteration 100\n",
      "PALM reached maximum number of iterations\n",
      "4 0.2 9\n",
      "Invalid data, retrying...\n",
      "Iteration 100\n",
      "PALM reached maximum number of iterations\n",
      "4 0.2 9\n"
     ]
    },
    {
     "name": "stderr",
     "output_type": "stream",
     "text": [
      " 39%|███▊      | 232/600 [5:18:32<9:40:31, 94.65s/it]"
     ]
    },
    {
     "name": "stdout",
     "output_type": "stream",
     "text": [
      "Score: 0.05075511306666421\n",
      "4 0.25 9\n",
      "Iteration 100\n",
      "PALM reached maximum number of iterations\n",
      "4 0.25 9\n",
      "Invalid data, retrying...\n",
      "Iteration 100\n",
      "PALM reached maximum number of iterations\n",
      "4 0.25 9\n"
     ]
    },
    {
     "name": "stderr",
     "output_type": "stream",
     "text": [
      " 39%|███▉      | 233/600 [5:20:12<9:48:41, 96.24s/it]"
     ]
    },
    {
     "name": "stdout",
     "output_type": "stream",
     "text": [
      "Score: -0.03674499375017325\n",
      "4 0.3 9\n",
      "Iteration 100\n",
      "PALM reached maximum number of iterations\n",
      "4 0.3 9\n"
     ]
    },
    {
     "name": "stderr",
     "output_type": "stream",
     "text": [
      " 39%|███▉      | 234/600 [5:21:13<8:42:39, 85.68s/it]"
     ]
    },
    {
     "name": "stdout",
     "output_type": "stream",
     "text": [
      "Score: -0.19260611821364432\n",
      "4 0.05 10\n",
      "Iteration 100\n",
      "PALM reached maximum number of iterations\n",
      "4 0.05 10\n"
     ]
    },
    {
     "name": "stderr",
     "output_type": "stream",
     "text": [
      " 39%|███▉      | 235/600 [5:22:36<8:36:43, 84.94s/it]"
     ]
    },
    {
     "name": "stdout",
     "output_type": "stream",
     "text": [
      "Score: -0.41235704638835136\n",
      "4 0.1 10\n",
      "Iteration 100\n",
      "PALM reached maximum number of iterations\n",
      "4 0.1 10\n"
     ]
    },
    {
     "name": "stderr",
     "output_type": "stream",
     "text": [
      " 39%|███▉      | 236/600 [5:23:54<8:23:37, 83.02s/it]"
     ]
    },
    {
     "name": "stdout",
     "output_type": "stream",
     "text": [
      "Score: 0.06814440438299\n",
      "4 0.15 10\n",
      "Iteration 100\n",
      "PALM reached maximum number of iterations\n",
      "4 0.15 10\n"
     ]
    },
    {
     "name": "stderr",
     "output_type": "stream",
     "text": [
      " 40%|███▉      | 237/600 [5:25:08<8:05:47, 80.30s/it]"
     ]
    },
    {
     "name": "stdout",
     "output_type": "stream",
     "text": [
      "Score: -0.37043040359412543\n",
      "4 0.2 10\n",
      "Iteration 100\n",
      "PALM reached maximum number of iterations\n",
      "4 0.2 10\n"
     ]
    },
    {
     "name": "stderr",
     "output_type": "stream",
     "text": [
      " 40%|███▉      | 238/600 [5:26:18<7:44:36, 77.01s/it]"
     ]
    },
    {
     "name": "stdout",
     "output_type": "stream",
     "text": [
      "Score: 0.3247012210990945\n",
      "4 0.25 10\n",
      "Iteration 100\n",
      "PALM reached maximum number of iterations\n",
      "4 0.25 10\n",
      "Invalid data, retrying...\n",
      "Iteration 100\n",
      "PALM reached maximum number of iterations\n",
      "4 0.25 10\n"
     ]
    },
    {
     "name": "stderr",
     "output_type": "stream",
     "text": [
      " 40%|███▉      | 239/600 [5:27:58<8:25:27, 84.01s/it]"
     ]
    },
    {
     "name": "stdout",
     "output_type": "stream",
     "text": [
      "Score: -0.22986252040753247\n",
      "4 0.3 10\n",
      "Iteration 100\n",
      "PALM reached maximum number of iterations\n",
      "4 0.3 10\n",
      "Invalid data, retrying...\n",
      "Iteration 100\n",
      "PALM reached maximum number of iterations\n",
      "4 0.3 10\n"
     ]
    },
    {
     "name": "stderr",
     "output_type": "stream",
     "text": [
      " 40%|████      | 240/600 [5:29:34<8:45:31, 87.59s/it]"
     ]
    },
    {
     "name": "stdout",
     "output_type": "stream",
     "text": [
      "Score: -0.30970140831127224\n",
      "5 0.05 1\n",
      "Iteration 100\n",
      "PALM reached maximum number of iterations\n",
      "5 0.05 1\n"
     ]
    },
    {
     "name": "stderr",
     "output_type": "stream",
     "text": [
      " 40%|████      | 241/600 [5:30:25<7:38:47, 76.68s/it]"
     ]
    },
    {
     "name": "stdout",
     "output_type": "stream",
     "text": [
      "Score: 0.3712051772108293\n",
      "5 0.1 1\n",
      "Iteration 100\n",
      "PALM reached maximum number of iterations\n",
      "5 0.1 1\n"
     ]
    },
    {
     "name": "stderr",
     "output_type": "stream",
     "text": [
      " 40%|████      | 242/600 [5:31:11<6:43:16, 67.59s/it]"
     ]
    },
    {
     "name": "stdout",
     "output_type": "stream",
     "text": [
      "Score: 0.3614261379641344\n",
      "5 0.15 1\n",
      "Iteration 100\n",
      "PALM reached maximum number of iterations\n",
      "5 0.15 1\n"
     ]
    },
    {
     "name": "stderr",
     "output_type": "stream",
     "text": [
      " 40%|████      | 243/600 [5:31:54<5:56:38, 59.94s/it]"
     ]
    },
    {
     "name": "stdout",
     "output_type": "stream",
     "text": [
      "Score: 0.35662597197265455\n",
      "5 0.2 1\n",
      "Iteration 100\n",
      "PALM reached maximum number of iterations\n",
      "5 0.2 1\n"
     ]
    },
    {
     "name": "stderr",
     "output_type": "stream",
     "text": [
      " 41%|████      | 244/600 [5:32:33<5:19:58, 53.93s/it]"
     ]
    },
    {
     "name": "stdout",
     "output_type": "stream",
     "text": [
      "Score: 0.3809797721016258\n",
      "5 0.25 1\n",
      "Iteration 100\n",
      "PALM reached maximum number of iterations\n",
      "5 0.25 1\n"
     ]
    },
    {
     "name": "stderr",
     "output_type": "stream",
     "text": [
      " 41%|████      | 245/600 [5:33:08<4:44:38, 48.11s/it]"
     ]
    },
    {
     "name": "stdout",
     "output_type": "stream",
     "text": [
      "Score: 0.3539042336378821\n",
      "5 0.3 1\n",
      "Iteration 100\n",
      "PALM reached maximum number of iterations\n",
      "5 0.3 1\n"
     ]
    },
    {
     "name": "stderr",
     "output_type": "stream",
     "text": [
      " 41%|████      | 246/600 [5:33:38<4:12:38, 42.82s/it]"
     ]
    },
    {
     "name": "stdout",
     "output_type": "stream",
     "text": [
      "Score: 0.3596790187122211\n",
      "5 0.05 2\n",
      "Iteration 100\n",
      "PALM reached maximum number of iterations\n",
      "5 0.05 2\n"
     ]
    },
    {
     "name": "stderr",
     "output_type": "stream",
     "text": [
      " 41%|████      | 247/600 [5:35:03<5:25:15, 55.28s/it]"
     ]
    },
    {
     "name": "stdout",
     "output_type": "stream",
     "text": [
      "Score: 0.14103454526741854\n",
      "5 0.1 2\n",
      "Iteration 100\n",
      "PALM reached maximum number of iterations\n",
      "5 0.1 2\n"
     ]
    },
    {
     "name": "stderr",
     "output_type": "stream",
     "text": [
      " 41%|████▏     | 248/600 [5:36:23<6:07:45, 62.68s/it]"
     ]
    },
    {
     "name": "stdout",
     "output_type": "stream",
     "text": [
      "Score: 0.3816986073685481\n",
      "5 0.15 2\n",
      "Iteration 100\n",
      "PALM reached maximum number of iterations\n",
      "5 0.15 2\n"
     ]
    },
    {
     "name": "stderr",
     "output_type": "stream",
     "text": [
      " 42%|████▏     | 249/600 [5:37:38<6:29:21, 66.56s/it]"
     ]
    },
    {
     "name": "stdout",
     "output_type": "stream",
     "text": [
      "Score: 0.44786667178110084\n",
      "5 0.2 2\n",
      "Iteration 100\n",
      "PALM reached maximum number of iterations\n",
      "5 0.2 2\n"
     ]
    },
    {
     "name": "stderr",
     "output_type": "stream",
     "text": [
      " 42%|████▏     | 250/600 [5:38:48<6:34:03, 67.55s/it]"
     ]
    },
    {
     "name": "stdout",
     "output_type": "stream",
     "text": [
      "Score: 0.25350377532863566\n",
      "5 0.25 2\n",
      "Iteration 100\n",
      "PALM reached maximum number of iterations\n",
      "5 0.25 2\n"
     ]
    },
    {
     "name": "stderr",
     "output_type": "stream",
     "text": [
      " 42%|████▏     | 251/600 [5:39:55<6:30:54, 67.21s/it]"
     ]
    },
    {
     "name": "stdout",
     "output_type": "stream",
     "text": [
      "Score: 0.10955624214874124\n",
      "5 0.3 2\n",
      "Iteration 100\n",
      "PALM reached maximum number of iterations\n",
      "5 0.3 2\n"
     ]
    },
    {
     "name": "stderr",
     "output_type": "stream",
     "text": [
      " 42%|████▏     | 252/600 [5:40:58<6:23:34, 66.13s/it]"
     ]
    },
    {
     "name": "stdout",
     "output_type": "stream",
     "text": [
      "Score: 0.08525290103883607\n",
      "5 0.05 3\n",
      "Iteration 100\n",
      "PALM reached maximum number of iterations\n",
      "5 0.05 3\n"
     ]
    },
    {
     "name": "stderr",
     "output_type": "stream",
     "text": [
      " 42%|████▏     | 253/600 [5:42:23<6:54:51, 71.73s/it]"
     ]
    },
    {
     "name": "stdout",
     "output_type": "stream",
     "text": [
      "Score: 0.6979159491644343\n",
      "5 0.1 3\n",
      "Iteration 100\n",
      "PALM reached maximum number of iterations\n",
      "5 0.1 3\n"
     ]
    },
    {
     "name": "stderr",
     "output_type": "stream",
     "text": [
      " 42%|████▏     | 254/600 [5:43:44<7:08:50, 74.36s/it]"
     ]
    },
    {
     "name": "stdout",
     "output_type": "stream",
     "text": [
      "Score: 0.6982354050197234\n",
      "5 0.15 3\n",
      "Iteration 100\n",
      "PALM reached maximum number of iterations\n",
      "5 0.15 3\n"
     ]
    },
    {
     "name": "stderr",
     "output_type": "stream",
     "text": [
      " 42%|████▎     | 255/600 [5:45:00<7:11:06, 74.98s/it]"
     ]
    },
    {
     "name": "stdout",
     "output_type": "stream",
     "text": [
      "Score: 0.7147202647267664\n",
      "5 0.2 3\n",
      "Iteration 100\n",
      "PALM reached maximum number of iterations\n",
      "5 0.2 3\n"
     ]
    },
    {
     "name": "stderr",
     "output_type": "stream",
     "text": [
      " 43%|████▎     | 256/600 [5:46:12<7:04:38, 74.07s/it]"
     ]
    },
    {
     "name": "stdout",
     "output_type": "stream",
     "text": [
      "Score: 0.06346531090896937\n",
      "5 0.25 3\n",
      "Iteration 100\n",
      "PALM reached maximum number of iterations\n",
      "5 0.25 3\n"
     ]
    },
    {
     "name": "stderr",
     "output_type": "stream",
     "text": [
      " 43%|████▎     | 257/600 [5:47:19<6:52:13, 72.11s/it]"
     ]
    },
    {
     "name": "stdout",
     "output_type": "stream",
     "text": [
      "Score: 0.0019782522437292328\n",
      "5 0.3 3\n",
      "Iteration 100\n",
      "PALM reached maximum number of iterations\n",
      "5 0.3 3\n"
     ]
    },
    {
     "name": "stderr",
     "output_type": "stream",
     "text": [
      " 43%|████▎     | 258/600 [5:48:23<6:36:33, 69.57s/it]"
     ]
    },
    {
     "name": "stdout",
     "output_type": "stream",
     "text": [
      "Score: 0.7522986268647504\n",
      "5 0.05 4\n",
      "Iteration 100\n",
      "PALM reached maximum number of iterations\n",
      "5 0.05 4\n"
     ]
    },
    {
     "name": "stderr",
     "output_type": "stream",
     "text": [
      " 43%|████▎     | 259/600 [5:49:49<7:02:39, 74.37s/it]"
     ]
    },
    {
     "name": "stdout",
     "output_type": "stream",
     "text": [
      "Score: 0.6981679320923523\n",
      "5 0.1 4\n",
      "Iteration 100\n",
      "PALM reached maximum number of iterations\n",
      "5 0.1 4\n"
     ]
    },
    {
     "name": "stderr",
     "output_type": "stream",
     "text": [
      " 43%|████▎     | 260/600 [5:51:10<7:12:49, 76.38s/it]"
     ]
    },
    {
     "name": "stdout",
     "output_type": "stream",
     "text": [
      "Score: 0.7019792986427266\n",
      "5 0.15 4\n",
      "Iteration 100\n",
      "PALM reached maximum number of iterations\n",
      "5 0.15 4\n"
     ]
    },
    {
     "name": "stderr",
     "output_type": "stream",
     "text": [
      " 44%|████▎     | 261/600 [5:52:27<7:13:20, 76.70s/it]"
     ]
    },
    {
     "name": "stdout",
     "output_type": "stream",
     "text": [
      "Score: 0.7199450494377087\n",
      "5 0.2 4\n",
      "Iteration 100\n",
      "PALM reached maximum number of iterations\n",
      "5 0.2 4\n",
      "Invalid data, retrying...\n",
      "Iteration 100\n",
      "PALM reached maximum number of iterations\n",
      "5 0.2 4\n"
     ]
    },
    {
     "name": "stderr",
     "output_type": "stream",
     "text": [
      " 44%|████▎     | 262/600 [5:54:19<8:11:50, 87.31s/it]"
     ]
    },
    {
     "name": "stdout",
     "output_type": "stream",
     "text": [
      "Score: 0.4296777046369321\n",
      "5 0.25 4\n",
      "Iteration 100\n",
      "PALM reached maximum number of iterations\n",
      "5 0.25 4\n"
     ]
    },
    {
     "name": "stderr",
     "output_type": "stream",
     "text": [
      " 44%|████▍     | 263/600 [5:55:26<7:36:20, 81.25s/it]"
     ]
    },
    {
     "name": "stdout",
     "output_type": "stream",
     "text": [
      "Score: 0.715119564033734\n",
      "5 0.3 4\n",
      "Iteration 100\n",
      "PALM reached maximum number of iterations\n",
      "5 0.3 4\n"
     ]
    },
    {
     "name": "stderr",
     "output_type": "stream",
     "text": [
      " 44%|████▍     | 264/600 [5:56:30<7:05:24, 75.97s/it]"
     ]
    },
    {
     "name": "stdout",
     "output_type": "stream",
     "text": [
      "Score: -0.0703035777741372\n",
      "5 0.05 5\n",
      "Iteration 100\n",
      "PALM reached maximum number of iterations\n",
      "5 0.05 5\n"
     ]
    },
    {
     "name": "stderr",
     "output_type": "stream",
     "text": [
      " 44%|████▍     | 265/600 [5:57:55<7:19:34, 78.73s/it]"
     ]
    },
    {
     "name": "stdout",
     "output_type": "stream",
     "text": [
      "Score: 0.7175497993281389\n",
      "5 0.1 5\n",
      "Iteration 100\n",
      "PALM reached maximum number of iterations\n",
      "5 0.1 5\n",
      "Invalid data, retrying...\n",
      "Iteration 100\n",
      "PALM reached maximum number of iterations\n",
      "5 0.1 5\n"
     ]
    },
    {
     "name": "stderr",
     "output_type": "stream",
     "text": [
      " 44%|████▍     | 266/600 [5:59:53<8:24:07, 90.56s/it]"
     ]
    },
    {
     "name": "stdout",
     "output_type": "stream",
     "text": [
      "Score: 0.7273208584254599\n",
      "5 0.15 5\n",
      "Iteration 100\n",
      "PALM reached maximum number of iterations\n",
      "5 0.15 5\n",
      "Invalid data, retrying...\n",
      "Iteration 100\n",
      "PALM reached maximum number of iterations\n",
      "5 0.15 5\n",
      "Invalid data, retrying...\n",
      "Iteration 100\n",
      "PALM reached maximum number of iterations\n",
      "5 0.15 5\n"
     ]
    },
    {
     "name": "stderr",
     "output_type": "stream",
     "text": [
      " 44%|████▍     | 267/600 [6:02:25<10:04:22, 108.90s/it]"
     ]
    },
    {
     "name": "stdout",
     "output_type": "stream",
     "text": [
      "Score: 0.3897794585435611\n",
      "5 0.2 5\n",
      "Iteration 100\n",
      "PALM reached maximum number of iterations\n",
      "5 0.2 5\n",
      "Invalid data, retrying...\n",
      "Iteration 100\n",
      "PALM reached maximum number of iterations\n",
      "5 0.2 5\n"
     ]
    },
    {
     "name": "stderr",
     "output_type": "stream",
     "text": [
      " 45%|████▍     | 268/600 [6:04:16<10:06:36, 109.63s/it]"
     ]
    },
    {
     "name": "stdout",
     "output_type": "stream",
     "text": [
      "Score: 0.41793446914692395\n",
      "5 0.25 5\n",
      "Iteration 100\n",
      "PALM reached maximum number of iterations\n",
      "5 0.25 5\n"
     ]
    },
    {
     "name": "stderr",
     "output_type": "stream",
     "text": [
      " 45%|████▍     | 269/600 [6:05:26<8:59:06, 97.73s/it]  "
     ]
    },
    {
     "name": "stdout",
     "output_type": "stream",
     "text": [
      "Score: 0.06542137719162922\n",
      "5 0.3 5\n",
      "Iteration 100\n",
      "PALM reached maximum number of iterations\n",
      "5 0.3 5\n",
      "Invalid data, retrying...\n",
      "Iteration 100\n",
      "PALM reached maximum number of iterations\n",
      "5 0.3 5\n",
      "Invalid data, retrying...\n",
      "Iteration 100\n",
      "PALM reached maximum number of iterations\n",
      "5 0.3 5\n",
      "Invalid data, retrying...\n"
     ]
    },
    {
     "name": "stderr",
     "output_type": "stream",
     "text": [
      " 45%|████▌     | 270/600 [6:07:22<9:26:57, 103.08s/it]"
     ]
    },
    {
     "name": "stdout",
     "output_type": "stream",
     "text": [
      "5 0.05 6\n",
      "Iteration 100\n",
      "PALM reached maximum number of iterations\n",
      "5 0.05 6\n",
      "Invalid data, retrying...\n",
      "Iteration 100\n",
      "PALM reached maximum number of iterations\n",
      "5 0.05 6\n",
      "Invalid data, retrying...\n",
      "Iteration 100\n",
      "PALM reached maximum number of iterations\n",
      "5 0.05 6\n",
      "Invalid data, retrying...\n"
     ]
    },
    {
     "name": "stderr",
     "output_type": "stream",
     "text": [
      " 45%|████▌     | 271/600 [6:09:15<9:40:59, 105.96s/it]"
     ]
    },
    {
     "name": "stdout",
     "output_type": "stream",
     "text": [
      "5 0.1 6\n",
      "Iteration 100\n",
      "PALM reached maximum number of iterations\n",
      "5 0.1 6\n",
      "Invalid data, retrying...\n",
      "Iteration 100\n",
      "PALM reached maximum number of iterations\n",
      "5 0.1 6\n",
      "Invalid data, retrying...\n",
      "Iteration 100\n",
      "PALM reached maximum number of iterations\n",
      "5 0.1 6\n",
      "Invalid data, retrying...\n"
     ]
    },
    {
     "name": "stderr",
     "output_type": "stream",
     "text": [
      " 45%|████▌     | 272/600 [6:11:11<9:55:36, 108.95s/it]"
     ]
    },
    {
     "name": "stdout",
     "output_type": "stream",
     "text": [
      "5 0.15 6\n",
      "Iteration 100\n",
      "PALM reached maximum number of iterations\n",
      "5 0.15 6\n",
      "Invalid data, retrying...\n",
      "Iteration 100\n",
      "PALM reached maximum number of iterations\n",
      "5 0.15 6\n",
      "Invalid data, retrying...\n",
      "Iteration 100\n",
      "PALM reached maximum number of iterations\n",
      "5 0.15 6\n",
      "Invalid data, retrying...\n"
     ]
    },
    {
     "name": "stderr",
     "output_type": "stream",
     "text": [
      " 46%|████▌     | 273/600 [6:13:04<10:00:22, 110.16s/it]"
     ]
    },
    {
     "name": "stdout",
     "output_type": "stream",
     "text": [
      "5 0.2 6\n",
      "Iteration 100\n",
      "PALM reached maximum number of iterations\n",
      "5 0.2 6\n",
      "Invalid data, retrying...\n",
      "Iteration 100\n",
      "PALM reached maximum number of iterations\n",
      "5 0.2 6\n",
      "Invalid data, retrying...\n",
      "Iteration 100\n",
      "PALM reached maximum number of iterations\n",
      "5 0.2 6\n",
      "Invalid data, retrying...\n"
     ]
    },
    {
     "name": "stderr",
     "output_type": "stream",
     "text": [
      " 46%|████▌     | 274/600 [6:14:56<10:02:17, 110.85s/it]"
     ]
    },
    {
     "name": "stdout",
     "output_type": "stream",
     "text": [
      "5 0.25 6\n",
      "Iteration 100\n",
      "PALM reached maximum number of iterations\n",
      "5 0.25 6\n",
      "Invalid data, retrying...\n",
      "Iteration 100\n",
      "PALM reached maximum number of iterations\n",
      "5 0.25 6\n",
      "Invalid data, retrying...\n",
      "Iteration 100\n",
      "PALM reached maximum number of iterations\n",
      "5 0.25 6\n",
      "Invalid data, retrying...\n"
     ]
    },
    {
     "name": "stderr",
     "output_type": "stream",
     "text": [
      " 46%|████▌     | 275/600 [6:16:49<10:04:18, 111.57s/it]"
     ]
    },
    {
     "name": "stdout",
     "output_type": "stream",
     "text": [
      "5 0.3 6\n",
      "Iteration 100\n",
      "PALM reached maximum number of iterations\n",
      "5 0.3 6\n",
      "Invalid data, retrying...\n",
      "Iteration 100\n",
      "PALM reached maximum number of iterations\n",
      "5 0.3 6\n",
      "Invalid data, retrying...\n",
      "Iteration 100\n",
      "PALM reached maximum number of iterations\n",
      "5 0.3 6\n",
      "Invalid data, retrying...\n"
     ]
    },
    {
     "name": "stderr",
     "output_type": "stream",
     "text": [
      " 46%|████▌     | 276/600 [6:18:41<10:03:20, 111.73s/it]"
     ]
    },
    {
     "name": "stdout",
     "output_type": "stream",
     "text": [
      "5 0.05 7\n",
      "Iteration 100\n",
      "PALM reached maximum number of iterations\n",
      "5 0.05 7\n"
     ]
    },
    {
     "name": "stderr",
     "output_type": "stream",
     "text": [
      " 46%|████▌     | 277/600 [6:20:07<9:20:10, 104.06s/it] "
     ]
    },
    {
     "name": "stdout",
     "output_type": "stream",
     "text": [
      "Score: 0.5002128660830838\n",
      "5 0.1 7\n",
      "Iteration 100\n",
      "PALM reached maximum number of iterations\n",
      "5 0.1 7\n"
     ]
    },
    {
     "name": "stderr",
     "output_type": "stream",
     "text": [
      " 46%|████▋     | 278/600 [6:21:28<8:40:37, 97.01s/it] "
     ]
    },
    {
     "name": "stdout",
     "output_type": "stream",
     "text": [
      "Score: -0.0018752477545399314\n",
      "5 0.15 7\n",
      "Iteration 100\n",
      "PALM reached maximum number of iterations\n",
      "5 0.15 7\n"
     ]
    },
    {
     "name": "stderr",
     "output_type": "stream",
     "text": [
      " 46%|████▋     | 279/600 [6:22:44<8:05:54, 90.82s/it]"
     ]
    },
    {
     "name": "stdout",
     "output_type": "stream",
     "text": [
      "Score: -0.2530817594264236\n",
      "5 0.2 7\n",
      "Iteration 100\n",
      "PALM reached maximum number of iterations\n",
      "5 0.2 7\n"
     ]
    },
    {
     "name": "stderr",
     "output_type": "stream",
     "text": [
      " 47%|████▋     | 280/600 [6:23:56<7:33:54, 85.11s/it]"
     ]
    },
    {
     "name": "stdout",
     "output_type": "stream",
     "text": [
      "Score: 0.026231385733601974\n",
      "5 0.25 7\n",
      "Iteration 100\n",
      "PALM reached maximum number of iterations\n",
      "5 0.25 7\n",
      "Invalid data, retrying...\n",
      "Iteration 100\n",
      "PALM reached maximum number of iterations\n",
      "5 0.25 7\n",
      "Invalid data, retrying...\n",
      "Iteration 100\n",
      "PALM reached maximum number of iterations\n",
      "5 0.25 7\n",
      "Invalid data, retrying...\n"
     ]
    },
    {
     "name": "stderr",
     "output_type": "stream",
     "text": [
      " 47%|████▋     | 281/600 [6:25:50<8:18:49, 93.82s/it]"
     ]
    },
    {
     "name": "stdout",
     "output_type": "stream",
     "text": [
      "5 0.3 7\n",
      "Iteration 100\n",
      "PALM reached maximum number of iterations\n",
      "5 0.3 7\n"
     ]
    },
    {
     "name": "stderr",
     "output_type": "stream",
     "text": [
      " 47%|████▋     | 282/600 [6:26:54<7:28:47, 84.68s/it]"
     ]
    },
    {
     "name": "stdout",
     "output_type": "stream",
     "text": [
      "Score: -0.3119513097716722\n",
      "5 0.05 8\n",
      "Iteration 100\n",
      "PALM reached maximum number of iterations\n",
      "5 0.05 8\n"
     ]
    },
    {
     "name": "stderr",
     "output_type": "stream",
     "text": [
      " 47%|████▋     | 283/600 [6:28:20<7:30:00, 85.18s/it]"
     ]
    },
    {
     "name": "stdout",
     "output_type": "stream",
     "text": [
      "Score: -0.03897778086286195\n",
      "5 0.1 8\n",
      "Iteration 100\n",
      "PALM reached maximum number of iterations\n",
      "5 0.1 8\n"
     ]
    },
    {
     "name": "stderr",
     "output_type": "stream",
     "text": [
      " 47%|████▋     | 284/600 [6:29:41<7:22:31, 84.02s/it]"
     ]
    },
    {
     "name": "stdout",
     "output_type": "stream",
     "text": [
      "Score: -0.3186683631257736\n",
      "5 0.15 8\n",
      "Iteration 100\n",
      "PALM reached maximum number of iterations\n",
      "5 0.15 8\n"
     ]
    },
    {
     "name": "stderr",
     "output_type": "stream",
     "text": [
      " 48%|████▊     | 285/600 [6:30:58<7:09:27, 81.80s/it]"
     ]
    },
    {
     "name": "stdout",
     "output_type": "stream",
     "text": [
      "Score: -0.3261642011649366\n",
      "5 0.2 8\n",
      "Iteration 100\n",
      "PALM reached maximum number of iterations\n",
      "5 0.2 8\n"
     ]
    },
    {
     "name": "stderr",
     "output_type": "stream",
     "text": [
      " 48%|████▊     | 286/600 [6:32:10<6:52:33, 78.83s/it]"
     ]
    },
    {
     "name": "stdout",
     "output_type": "stream",
     "text": [
      "Score: 0.0962373423316667\n",
      "5 0.25 8\n",
      "Iteration 100\n",
      "PALM reached maximum number of iterations\n",
      "5 0.25 8\n",
      "Invalid data, retrying...\n",
      "Iteration 100\n",
      "PALM reached maximum number of iterations\n",
      "5 0.25 8\n",
      "Invalid data, retrying...\n",
      "Iteration 100\n",
      "PALM reached maximum number of iterations\n",
      "5 0.25 8\n"
     ]
    },
    {
     "name": "stderr",
     "output_type": "stream",
     "text": [
      " 48%|████▊     | 287/600 [6:34:34<8:33:12, 98.38s/it]"
     ]
    },
    {
     "name": "stdout",
     "output_type": "stream",
     "text": [
      "Score: 0.03984511458198461\n",
      "5 0.3 8\n",
      "Iteration 100\n",
      "PALM reached maximum number of iterations\n",
      "5 0.3 8\n",
      "Invalid data, retrying...\n",
      "Iteration 100\n",
      "PALM reached maximum number of iterations\n",
      "5 0.3 8\n"
     ]
    },
    {
     "name": "stderr",
     "output_type": "stream",
     "text": [
      " 48%|████▊     | 288/600 [6:36:17<8:39:44, 99.95s/it]"
     ]
    },
    {
     "name": "stdout",
     "output_type": "stream",
     "text": [
      "Score: -0.08744768575489\n",
      "5 0.05 9\n",
      "Iteration 100\n",
      "PALM reached maximum number of iterations\n",
      "5 0.05 9\n",
      "Invalid data, retrying...\n",
      "Iteration 100\n",
      "PALM reached maximum number of iterations\n",
      "5 0.05 9\n"
     ]
    },
    {
     "name": "stderr",
     "output_type": "stream",
     "text": [
      " 48%|████▊     | 289/600 [6:38:21<9:15:19, 107.14s/it]"
     ]
    },
    {
     "name": "stdout",
     "output_type": "stream",
     "text": [
      "Score: -0.16538841529437967\n",
      "5 0.1 9\n",
      "Iteration 100\n",
      "PALM reached maximum number of iterations\n",
      "5 0.1 9\n"
     ]
    },
    {
     "name": "stderr",
     "output_type": "stream",
     "text": [
      " 48%|████▊     | 290/600 [6:39:43<8:33:21, 99.36s/it] "
     ]
    },
    {
     "name": "stdout",
     "output_type": "stream",
     "text": [
      "Score: -0.33609441595808986\n",
      "5 0.15 9\n",
      "Iteration 100\n",
      "PALM reached maximum number of iterations\n",
      "5 0.15 9\n",
      "Invalid data, retrying...\n",
      "Iteration 100\n",
      "PALM reached maximum number of iterations\n",
      "5 0.15 9\n"
     ]
    },
    {
     "name": "stderr",
     "output_type": "stream",
     "text": [
      " 48%|████▊     | 291/600 [6:41:37<8:55:25, 103.97s/it]"
     ]
    },
    {
     "name": "stdout",
     "output_type": "stream",
     "text": [
      "Score: -0.33743618143429727\n",
      "5 0.2 9\n",
      "Iteration 100\n",
      "PALM reached maximum number of iterations\n",
      "5 0.2 9\n",
      "Invalid data, retrying...\n",
      "Iteration 100\n",
      "PALM reached maximum number of iterations\n",
      "5 0.2 9\n"
     ]
    },
    {
     "name": "stderr",
     "output_type": "stream",
     "text": [
      " 49%|████▊     | 292/600 [6:43:27<9:02:55, 105.77s/it]"
     ]
    },
    {
     "name": "stdout",
     "output_type": "stream",
     "text": [
      "Score: -0.1661904513540871\n",
      "5 0.25 9\n",
      "Iteration 100\n",
      "PALM reached maximum number of iterations\n",
      "5 0.25 9\n",
      "Invalid data, retrying...\n",
      "Iteration 100\n",
      "PALM reached maximum number of iterations\n",
      "5 0.25 9\n"
     ]
    },
    {
     "name": "stderr",
     "output_type": "stream",
     "text": [
      " 49%|████▉     | 293/600 [6:45:13<9:01:49, 105.89s/it]"
     ]
    },
    {
     "name": "stdout",
     "output_type": "stream",
     "text": [
      "Score: -0.23582060079491202\n",
      "5 0.3 9\n",
      "Iteration 100\n",
      "PALM reached maximum number of iterations\n",
      "5 0.3 9\n"
     ]
    },
    {
     "name": "stderr",
     "output_type": "stream",
     "text": [
      " 49%|████▉     | 294/600 [6:46:17<7:55:11, 93.17s/it] "
     ]
    },
    {
     "name": "stdout",
     "output_type": "stream",
     "text": [
      "Score: -0.0021780994914753636\n",
      "5 0.05 10\n",
      "Iteration 100\n",
      "PALM reached maximum number of iterations\n",
      "5 0.05 10\n"
     ]
    },
    {
     "name": "stderr",
     "output_type": "stream",
     "text": [
      " 49%|████▉     | 295/600 [6:47:43<7:42:40, 91.02s/it]"
     ]
    },
    {
     "name": "stdout",
     "output_type": "stream",
     "text": [
      "Score: -0.2711006973883276\n",
      "5 0.1 10\n",
      "Iteration 100\n",
      "PALM reached maximum number of iterations\n",
      "5 0.1 10\n"
     ]
    },
    {
     "name": "stderr",
     "output_type": "stream",
     "text": [
      " 49%|████▉     | 296/600 [6:49:04<7:26:30, 88.13s/it]"
     ]
    },
    {
     "name": "stdout",
     "output_type": "stream",
     "text": [
      "Score: 0.11232173058682925\n",
      "5 0.15 10\n",
      "Iteration 100\n",
      "PALM reached maximum number of iterations\n",
      "5 0.15 10\n"
     ]
    },
    {
     "name": "stderr",
     "output_type": "stream",
     "text": [
      " 50%|████▉     | 297/600 [6:50:22<7:08:57, 84.94s/it]"
     ]
    },
    {
     "name": "stdout",
     "output_type": "stream",
     "text": [
      "Score: 0.2177808219482489\n",
      "5 0.2 10\n",
      "Iteration 100\n",
      "PALM reached maximum number of iterations\n",
      "5 0.2 10\n"
     ]
    },
    {
     "name": "stderr",
     "output_type": "stream",
     "text": [
      " 50%|████▉     | 298/600 [6:51:35<6:49:49, 81.42s/it]"
     ]
    },
    {
     "name": "stdout",
     "output_type": "stream",
     "text": [
      "Score: 0.25683078946861365\n",
      "5 0.25 10\n",
      "Iteration 100\n",
      "PALM reached maximum number of iterations\n",
      "5 0.25 10\n"
     ]
    },
    {
     "name": "stderr",
     "output_type": "stream",
     "text": [
      " 50%|████▉     | 299/600 [6:52:43<6:28:27, 77.43s/it]"
     ]
    },
    {
     "name": "stdout",
     "output_type": "stream",
     "text": [
      "Score: -0.2468978028800263\n",
      "5 0.3 10\n",
      "Iteration 100\n",
      "PALM reached maximum number of iterations\n",
      "5 0.3 10\n"
     ]
    },
    {
     "name": "stderr",
     "output_type": "stream",
     "text": [
      " 50%|█████     | 300/600 [6:53:48<6:07:34, 73.51s/it]"
     ]
    },
    {
     "name": "stdout",
     "output_type": "stream",
     "text": [
      "Score: 0.07921704676643668\n",
      "6 0.05 1\n",
      "Iteration 100\n",
      "PALM reached maximum number of iterations\n",
      "6 0.05 1\n"
     ]
    },
    {
     "name": "stderr",
     "output_type": "stream",
     "text": [
      " 50%|█████     | 301/600 [6:54:39<5:33:44, 66.97s/it]"
     ]
    },
    {
     "name": "stdout",
     "output_type": "stream",
     "text": [
      "Score: 0.34512916249498155\n",
      "6 0.1 1\n",
      "Iteration 100\n",
      "PALM reached maximum number of iterations\n",
      "6 0.1 1\n"
     ]
    },
    {
     "name": "stderr",
     "output_type": "stream",
     "text": [
      " 50%|█████     | 302/600 [6:55:27<5:03:19, 61.07s/it]"
     ]
    },
    {
     "name": "stdout",
     "output_type": "stream",
     "text": [
      "Score: 0.32443783331084974\n",
      "6 0.15 1\n",
      "Iteration 100\n",
      "PALM reached maximum number of iterations\n",
      "6 0.15 1\n"
     ]
    },
    {
     "name": "stderr",
     "output_type": "stream",
     "text": [
      " 50%|█████     | 303/600 [6:56:09<4:35:09, 55.59s/it]"
     ]
    },
    {
     "name": "stdout",
     "output_type": "stream",
     "text": [
      "Score: 0.35765784472742945\n",
      "6 0.2 1\n",
      "Iteration 100\n",
      "PALM reached maximum number of iterations\n",
      "6 0.2 1\n"
     ]
    },
    {
     "name": "stderr",
     "output_type": "stream",
     "text": [
      " 51%|█████     | 304/600 [6:56:48<4:08:50, 50.44s/it]"
     ]
    },
    {
     "name": "stdout",
     "output_type": "stream",
     "text": [
      "Score: 0.38610453087932295\n",
      "6 0.25 1\n",
      "Iteration 100\n",
      "PALM reached maximum number of iterations\n",
      "6 0.25 1\n"
     ]
    },
    {
     "name": "stderr",
     "output_type": "stream",
     "text": [
      " 51%|█████     | 305/600 [6:57:22<3:44:31, 45.67s/it]"
     ]
    },
    {
     "name": "stdout",
     "output_type": "stream",
     "text": [
      "Score: 0.31280518204285856\n",
      "6 0.3 1\n",
      "Iteration 100\n",
      "PALM reached maximum number of iterations\n",
      "6 0.3 1\n"
     ]
    },
    {
     "name": "stderr",
     "output_type": "stream",
     "text": [
      " 51%|█████     | 306/600 [6:57:53<3:22:25, 41.31s/it]"
     ]
    },
    {
     "name": "stdout",
     "output_type": "stream",
     "text": [
      "Score: 0.29225694188391477\n",
      "6 0.05 2\n",
      "Iteration 100\n",
      "PALM reached maximum number of iterations\n",
      "6 0.05 2\n"
     ]
    },
    {
     "name": "stderr",
     "output_type": "stream",
     "text": [
      " 51%|█████     | 307/600 [6:59:22<4:30:17, 55.35s/it]"
     ]
    },
    {
     "name": "stdout",
     "output_type": "stream",
     "text": [
      "Score: 0.1674175462947172\n",
      "6 0.1 2\n",
      "Iteration 100\n",
      "PALM reached maximum number of iterations\n",
      "6 0.1 2\n"
     ]
    },
    {
     "name": "stderr",
     "output_type": "stream",
     "text": [
      " 51%|█████▏    | 308/600 [7:00:46<5:11:10, 63.94s/it]"
     ]
    },
    {
     "name": "stdout",
     "output_type": "stream",
     "text": [
      "Score: 0.12757259541041716\n",
      "6 0.15 2\n",
      "Iteration 100\n",
      "PALM reached maximum number of iterations\n",
      "6 0.15 2\n"
     ]
    },
    {
     "name": "stderr",
     "output_type": "stream",
     "text": [
      " 52%|█████▏    | 309/600 [7:02:04<5:30:30, 68.14s/it]"
     ]
    },
    {
     "name": "stdout",
     "output_type": "stream",
     "text": [
      "Score: 0.18443765576182852\n",
      "6 0.2 2\n",
      "Iteration 100\n",
      "PALM reached maximum number of iterations\n",
      "6 0.2 2\n"
     ]
    },
    {
     "name": "stderr",
     "output_type": "stream",
     "text": [
      " 52%|█████▏    | 310/600 [7:03:18<5:38:28, 70.03s/it]"
     ]
    },
    {
     "name": "stdout",
     "output_type": "stream",
     "text": [
      "Score: 0.08572924146682995\n",
      "6 0.25 2\n",
      "Iteration 100\n",
      "PALM reached maximum number of iterations\n",
      "6 0.25 2\n"
     ]
    },
    {
     "name": "stderr",
     "output_type": "stream",
     "text": [
      " 52%|█████▏    | 311/600 [7:04:28<5:36:41, 69.90s/it]"
     ]
    },
    {
     "name": "stdout",
     "output_type": "stream",
     "text": [
      "Score: 0.15420787341004674\n",
      "6 0.3 2\n",
      "Iteration 100\n",
      "PALM reached maximum number of iterations\n",
      "6 0.3 2\n"
     ]
    },
    {
     "name": "stderr",
     "output_type": "stream",
     "text": [
      " 52%|█████▏    | 312/600 [7:05:35<5:31:23, 69.04s/it]"
     ]
    },
    {
     "name": "stdout",
     "output_type": "stream",
     "text": [
      "Score: 0.5055266384682793\n",
      "6 0.05 3\n",
      "Iteration 100\n",
      "PALM reached maximum number of iterations\n",
      "6 0.05 3\n"
     ]
    },
    {
     "name": "stderr",
     "output_type": "stream",
     "text": [
      " 52%|█████▏    | 313/600 [7:07:03<5:58:43, 74.99s/it]"
     ]
    },
    {
     "name": "stdout",
     "output_type": "stream",
     "text": [
      "Score: 0.6979162858644831\n",
      "6 0.1 3\n",
      "Iteration 100\n",
      "PALM reached maximum number of iterations\n",
      "6 0.1 3\n"
     ]
    },
    {
     "name": "stderr",
     "output_type": "stream",
     "text": [
      " 52%|█████▏    | 314/600 [7:08:30<6:13:40, 78.39s/it]"
     ]
    },
    {
     "name": "stdout",
     "output_type": "stream",
     "text": [
      "Score: 0.6982410087370533\n",
      "6 0.15 3\n",
      "Iteration 100\n",
      "PALM reached maximum number of iterations\n",
      "6 0.15 3\n"
     ]
    },
    {
     "name": "stderr",
     "output_type": "stream",
     "text": [
      " 52%|█████▎    | 315/600 [7:09:50<6:15:08, 78.98s/it]"
     ]
    },
    {
     "name": "stdout",
     "output_type": "stream",
     "text": [
      "Score: 0.40595124866601334\n",
      "6 0.2 3\n",
      "Iteration 100\n",
      "PALM reached maximum number of iterations\n",
      "6 0.2 3\n"
     ]
    },
    {
     "name": "stderr",
     "output_type": "stream",
     "text": [
      " 53%|█████▎    | 316/600 [7:11:05<6:07:35, 77.66s/it]"
     ]
    },
    {
     "name": "stdout",
     "output_type": "stream",
     "text": [
      "Score: 0.1772011124611826\n",
      "6 0.25 3\n",
      "Iteration 100\n",
      "PALM reached maximum number of iterations\n",
      "6 0.25 3\n"
     ]
    },
    {
     "name": "stderr",
     "output_type": "stream",
     "text": [
      " 53%|█████▎    | 317/600 [7:12:17<5:58:39, 76.04s/it]"
     ]
    },
    {
     "name": "stdout",
     "output_type": "stream",
     "text": [
      "Score: 0.07059296126482642\n",
      "6 0.3 3\n",
      "Iteration 100\n",
      "PALM reached maximum number of iterations\n",
      "6 0.3 3\n"
     ]
    },
    {
     "name": "stderr",
     "output_type": "stream",
     "text": [
      " 53%|█████▎    | 318/600 [7:13:25<5:45:27, 73.50s/it]"
     ]
    },
    {
     "name": "stdout",
     "output_type": "stream",
     "text": [
      "Score: 0.41888793909275024\n",
      "6 0.05 4\n",
      "Iteration 100\n",
      "PALM reached maximum number of iterations\n",
      "6 0.05 4\n"
     ]
    },
    {
     "name": "stderr",
     "output_type": "stream",
     "text": [
      " 53%|█████▎    | 319/600 [7:14:54<6:06:19, 78.22s/it]"
     ]
    },
    {
     "name": "stdout",
     "output_type": "stream",
     "text": [
      "Score: 0.6982555573305854\n",
      "6 0.1 4\n",
      "Iteration 100\n",
      "PALM reached maximum number of iterations\n",
      "6 0.1 4\n"
     ]
    },
    {
     "name": "stderr",
     "output_type": "stream",
     "text": [
      " 53%|█████▎    | 320/600 [7:16:18<6:12:46, 79.88s/it]"
     ]
    },
    {
     "name": "stdout",
     "output_type": "stream",
     "text": [
      "Score: 0.7094753108342329\n",
      "6 0.15 4\n",
      "Iteration 100\n",
      "PALM reached maximum number of iterations\n",
      "6 0.15 4\n"
     ]
    },
    {
     "name": "stderr",
     "output_type": "stream",
     "text": [
      " 54%|█████▎    | 321/600 [7:17:37<6:10:36, 79.70s/it]"
     ]
    },
    {
     "name": "stdout",
     "output_type": "stream",
     "text": [
      "Score: 0.04755549525672651\n",
      "6 0.2 4\n",
      "Iteration 100\n",
      "PALM reached maximum number of iterations\n",
      "6 0.2 4\n"
     ]
    },
    {
     "name": "stderr",
     "output_type": "stream",
     "text": [
      " 54%|█████▎    | 322/600 [7:18:52<6:02:53, 78.32s/it]"
     ]
    },
    {
     "name": "stdout",
     "output_type": "stream",
     "text": [
      "Score: 0.7285856178806502\n",
      "6 0.25 4\n",
      "Iteration 100\n",
      "PALM reached maximum number of iterations\n",
      "6 0.25 4\n"
     ]
    },
    {
     "name": "stderr",
     "output_type": "stream",
     "text": [
      " 54%|█████▍    | 323/600 [7:20:02<5:50:48, 75.99s/it]"
     ]
    },
    {
     "name": "stdout",
     "output_type": "stream",
     "text": [
      "Score: 0.4203021692038132\n",
      "6 0.3 4\n",
      "Iteration 100\n",
      "PALM reached maximum number of iterations\n",
      "6 0.3 4\n"
     ]
    },
    {
     "name": "stderr",
     "output_type": "stream",
     "text": [
      " 54%|█████▍    | 324/600 [7:21:10<5:37:24, 73.35s/it]"
     ]
    },
    {
     "name": "stdout",
     "output_type": "stream",
     "text": [
      "Score: 0.2450539976597938\n",
      "6 0.05 5\n",
      "Iteration 100\n",
      "PALM reached maximum number of iterations\n",
      "6 0.05 5\n"
     ]
    },
    {
     "name": "stderr",
     "output_type": "stream",
     "text": [
      " 54%|█████▍    | 325/600 [7:22:38<5:57:29, 78.00s/it]"
     ]
    },
    {
     "name": "stdout",
     "output_type": "stream",
     "text": [
      "Score: 0.6981697656980143\n",
      "6 0.1 5\n",
      "Iteration 100\n",
      "PALM reached maximum number of iterations\n",
      "6 0.1 5\n",
      "Invalid data, retrying...\n",
      "6 0.1 5\n",
      "Invalid data, retrying...\n",
      "6 0.1 5\n"
     ]
    },
    {
     "name": "stderr",
     "output_type": "stream",
     "text": [
      " 54%|█████▍    | 326/600 [7:24:57<7:19:42, 96.29s/it]"
     ]
    },
    {
     "name": "stdout",
     "output_type": "stream",
     "text": [
      "Score: 0.7104554547434047\n",
      "6 0.15 5\n",
      "Iteration 100\n",
      "PALM reached maximum number of iterations\n",
      "6 0.15 5\n"
     ]
    },
    {
     "name": "stderr",
     "output_type": "stream",
     "text": [
      " 55%|█████▍    | 327/600 [7:26:16<6:54:09, 91.02s/it]"
     ]
    },
    {
     "name": "stdout",
     "output_type": "stream",
     "text": [
      "Score: -0.03020772719826136\n",
      "6 0.2 5\n",
      "Iteration 100\n",
      "PALM reached maximum number of iterations\n",
      "6 0.2 5\n",
      "Invalid data, retrying...\n",
      "Iteration 100\n",
      "PALM reached maximum number of iterations\n",
      "6 0.2 5\n"
     ]
    },
    {
     "name": "stderr",
     "output_type": "stream",
     "text": [
      " 55%|█████▍    | 328/600 [7:28:13<7:28:09, 98.86s/it]"
     ]
    },
    {
     "name": "stdout",
     "output_type": "stream",
     "text": [
      "Score: 0.4210500127266021\n",
      "6 0.25 5\n",
      "Iteration 100\n",
      "PALM reached maximum number of iterations\n",
      "6 0.25 5\n"
     ]
    },
    {
     "name": "stderr",
     "output_type": "stream",
     "text": [
      " 55%|█████▍    | 329/600 [7:29:24<6:48:08, 90.36s/it]"
     ]
    },
    {
     "name": "stdout",
     "output_type": "stream",
     "text": [
      "Score: 0.4615864597355123\n",
      "6 0.3 5\n",
      "Iteration 100\n",
      "PALM reached maximum number of iterations\n",
      "6 0.3 5\n"
     ]
    },
    {
     "name": "stderr",
     "output_type": "stream",
     "text": [
      " 55%|█████▌    | 330/600 [7:30:31<6:15:46, 83.51s/it]"
     ]
    },
    {
     "name": "stdout",
     "output_type": "stream",
     "text": [
      "Score: 0.5063940522981689\n",
      "6 0.05 6\n",
      "Iteration 100\n",
      "PALM reached maximum number of iterations\n",
      "6 0.05 6\n"
     ]
    },
    {
     "name": "stderr",
     "output_type": "stream",
     "text": [
      " 55%|█████▌    | 331/600 [7:32:00<6:21:05, 85.00s/it]"
     ]
    },
    {
     "name": "stdout",
     "output_type": "stream",
     "text": [
      "Score: 0.71740249729906\n",
      "6 0.1 6\n",
      "Iteration 100\n",
      "PALM reached maximum number of iterations\n",
      "6 0.1 6\n",
      "Invalid data, retrying...\n",
      "Iteration 100\n",
      "PALM reached maximum number of iterations\n",
      "6 0.1 6\n",
      "Invalid data, retrying...\n",
      "Iteration 100\n",
      "PALM reached maximum number of iterations\n",
      "6 0.1 6\n"
     ]
    },
    {
     "name": "stderr",
     "output_type": "stream",
     "text": [
      " 55%|█████▌    | 332/600 [7:34:46<8:07:43, 109.19s/it]"
     ]
    },
    {
     "name": "stdout",
     "output_type": "stream",
     "text": [
      "Score: 0.7280815960191531\n",
      "6 0.15 6\n",
      "Iteration 100\n",
      "PALM reached maximum number of iterations\n",
      "6 0.15 6\n"
     ]
    },
    {
     "name": "stderr",
     "output_type": "stream",
     "text": [
      " 56%|█████▌    | 333/600 [7:36:05<7:26:16, 100.29s/it]"
     ]
    },
    {
     "name": "stdout",
     "output_type": "stream",
     "text": [
      "Score: 0.7334320603507347\n",
      "6 0.2 6\n",
      "Iteration 100\n",
      "PALM reached maximum number of iterations\n",
      "6 0.2 6\n",
      "Invalid data, retrying...\n",
      "Iteration 100\n",
      "PALM reached maximum number of iterations\n",
      "6 0.2 6\n",
      "Invalid data, retrying...\n",
      "Iteration 100\n",
      "PALM reached maximum number of iterations\n",
      "6 0.2 6\n",
      "Invalid data, retrying...\n"
     ]
    },
    {
     "name": "stderr",
     "output_type": "stream",
     "text": [
      " 56%|█████▌    | 334/600 [7:38:10<7:56:51, 107.56s/it]"
     ]
    },
    {
     "name": "stdout",
     "output_type": "stream",
     "text": [
      "6 0.25 6\n",
      "Iteration 100\n",
      "PALM reached maximum number of iterations\n",
      "6 0.25 6\n",
      "Invalid data, retrying...\n",
      "Iteration 100\n",
      "PALM reached maximum number of iterations\n",
      "6 0.25 6\n",
      "Invalid data, retrying...\n",
      "Iteration 100\n",
      "PALM reached maximum number of iterations\n",
      "6 0.25 6\n",
      "Invalid data, retrying...\n"
     ]
    },
    {
     "name": "stderr",
     "output_type": "stream",
     "text": [
      " 56%|█████▌    | 335/600 [7:40:18<8:23:00, 113.89s/it]"
     ]
    },
    {
     "name": "stdout",
     "output_type": "stream",
     "text": [
      "6 0.3 6\n",
      "Iteration 100\n",
      "PALM reached maximum number of iterations\n",
      "6 0.3 6\n",
      "Invalid data, retrying...\n",
      "Iteration 100\n",
      "PALM reached maximum number of iterations\n",
      "6 0.3 6\n",
      "Invalid data, retrying...\n",
      "Iteration 100\n",
      "PALM reached maximum number of iterations\n",
      "6 0.3 6\n",
      "Invalid data, retrying...\n"
     ]
    },
    {
     "name": "stderr",
     "output_type": "stream",
     "text": [
      " 56%|█████▌    | 336/600 [7:42:24<8:36:20, 117.35s/it]"
     ]
    },
    {
     "name": "stdout",
     "output_type": "stream",
     "text": [
      "6 0.05 7\n",
      "Iteration 100\n",
      "PALM reached maximum number of iterations\n",
      "6 0.05 7\n",
      "Invalid data, retrying...\n",
      "Iteration 100\n",
      "PALM reached maximum number of iterations\n",
      "6 0.05 7\n",
      "Invalid data, retrying...\n",
      "Iteration 100\n",
      "PALM reached maximum number of iterations\n",
      "6 0.05 7\n",
      "Invalid data, retrying...\n"
     ]
    },
    {
     "name": "stderr",
     "output_type": "stream",
     "text": [
      " 56%|█████▌    | 337/600 [7:44:26<8:41:04, 118.88s/it]"
     ]
    },
    {
     "name": "stdout",
     "output_type": "stream",
     "text": [
      "6 0.1 7\n",
      "Iteration 100\n",
      "PALM reached maximum number of iterations\n",
      "6 0.1 7\n",
      "Invalid data, retrying...\n",
      "Iteration 100\n",
      "PALM reached maximum number of iterations\n",
      "6 0.1 7\n",
      "Invalid data, retrying...\n",
      "Iteration 100\n",
      "PALM reached maximum number of iterations\n",
      "6 0.1 7\n",
      "Invalid data, retrying...\n"
     ]
    },
    {
     "name": "stderr",
     "output_type": "stream",
     "text": [
      " 56%|█████▋    | 338/600 [7:46:37<8:55:00, 122.52s/it]"
     ]
    },
    {
     "name": "stdout",
     "output_type": "stream",
     "text": [
      "6 0.15 7\n",
      "Iteration 100\n",
      "PALM reached maximum number of iterations\n",
      "6 0.15 7\n",
      "Invalid data, retrying...\n",
      "Iteration 100\n",
      "PALM reached maximum number of iterations\n",
      "6 0.15 7\n",
      "Invalid data, retrying...\n",
      "Iteration 100\n",
      "PALM reached maximum number of iterations\n",
      "6 0.15 7\n",
      "Invalid data, retrying...\n"
     ]
    },
    {
     "name": "stderr",
     "output_type": "stream",
     "text": [
      " 56%|█████▋    | 339/600 [7:48:56<9:14:26, 127.46s/it]"
     ]
    },
    {
     "name": "stdout",
     "output_type": "stream",
     "text": [
      "6 0.2 7\n",
      "Iteration 100\n",
      "PALM reached maximum number of iterations\n",
      "6 0.2 7\n",
      "Invalid data, retrying...\n",
      "Iteration 100\n",
      "PALM reached maximum number of iterations\n",
      "6 0.2 7\n",
      "Invalid data, retrying...\n",
      "Iteration 100\n",
      "PALM reached maximum number of iterations\n",
      "6 0.2 7\n",
      "Invalid data, retrying...\n"
     ]
    },
    {
     "name": "stderr",
     "output_type": "stream",
     "text": [
      " 57%|█████▋    | 340/600 [7:51:04<9:13:03, 127.63s/it]"
     ]
    },
    {
     "name": "stdout",
     "output_type": "stream",
     "text": [
      "6 0.25 7\n",
      "Iteration 100\n",
      "PALM reached maximum number of iterations\n",
      "6 0.25 7\n",
      "Invalid data, retrying...\n",
      "Iteration 100\n",
      "PALM reached maximum number of iterations\n",
      "6 0.25 7\n",
      "Invalid data, retrying...\n",
      "Iteration 100\n",
      "PALM reached maximum number of iterations\n",
      "6 0.25 7\n",
      "Invalid data, retrying...\n"
     ]
    },
    {
     "name": "stderr",
     "output_type": "stream",
     "text": [
      " 57%|█████▋    | 341/600 [7:53:07<9:05:25, 126.35s/it]"
     ]
    },
    {
     "name": "stdout",
     "output_type": "stream",
     "text": [
      "6 0.3 7\n",
      "Iteration 100\n",
      "PALM reached maximum number of iterations\n",
      "6 0.3 7\n",
      "Invalid data, retrying...\n",
      "Iteration 100\n",
      "PALM reached maximum number of iterations\n",
      "6 0.3 7\n",
      "Invalid data, retrying...\n",
      "Iteration 100\n",
      "PALM reached maximum number of iterations\n",
      "6 0.3 7\n",
      "Invalid data, retrying...\n"
     ]
    },
    {
     "name": "stderr",
     "output_type": "stream",
     "text": [
      " 57%|█████▋    | 342/600 [7:55:12<9:00:18, 125.65s/it]"
     ]
    },
    {
     "name": "stdout",
     "output_type": "stream",
     "text": [
      "6 0.05 8\n",
      "Iteration 100\n",
      "PALM reached maximum number of iterations\n",
      "6 0.05 8\n",
      "Invalid data, retrying...\n",
      "Iteration 100\n",
      "PALM reached maximum number of iterations\n",
      "6 0.05 8\n"
     ]
    },
    {
     "name": "stderr",
     "output_type": "stream",
     "text": [
      " 57%|█████▋    | 343/600 [7:57:24<9:06:53, 127.68s/it]"
     ]
    },
    {
     "name": "stdout",
     "output_type": "stream",
     "text": [
      "Score: -0.21918737995201867\n",
      "6 0.1 8\n",
      "Iteration 100\n",
      "PALM reached maximum number of iterations\n",
      "6 0.1 8\n"
     ]
    },
    {
     "name": "stderr",
     "output_type": "stream",
     "text": [
      " 57%|█████▋    | 344/600 [7:58:49<8:10:41, 115.00s/it]"
     ]
    },
    {
     "name": "stdout",
     "output_type": "stream",
     "text": [
      "Score: -0.15657698081547677\n",
      "6 0.15 8\n",
      "Iteration 100\n",
      "PALM reached maximum number of iterations\n",
      "6 0.15 8\n"
     ]
    },
    {
     "name": "stderr",
     "output_type": "stream",
     "text": [
      " 57%|█████▊    | 345/600 [8:00:10<7:24:42, 104.64s/it]"
     ]
    },
    {
     "name": "stdout",
     "output_type": "stream",
     "text": [
      "Score: 0.012934782957196488\n",
      "6 0.2 8\n",
      "Iteration 100\n",
      "PALM reached maximum number of iterations\n",
      "6 0.2 8\n"
     ]
    },
    {
     "name": "stderr",
     "output_type": "stream",
     "text": [
      " 58%|█████▊    | 346/600 [8:01:25<6:46:09, 95.94s/it] "
     ]
    },
    {
     "name": "stdout",
     "output_type": "stream",
     "text": [
      "Score: -0.20143904629157522\n",
      "6 0.25 8\n",
      "Iteration 100\n",
      "PALM reached maximum number of iterations\n",
      "6 0.25 8\n"
     ]
    },
    {
     "name": "stderr",
     "output_type": "stream",
     "text": [
      " 58%|█████▊    | 347/600 [8:02:38<6:14:37, 88.84s/it]"
     ]
    },
    {
     "name": "stdout",
     "output_type": "stream",
     "text": [
      "Score: -0.24763013179105312\n",
      "6 0.3 8\n",
      "Iteration 100\n",
      "PALM reached maximum number of iterations\n",
      "6 0.3 8\n",
      "Invalid data, retrying...\n",
      "Iteration 100\n",
      "PALM reached maximum number of iterations\n",
      "6 0.3 8\n"
     ]
    },
    {
     "name": "stderr",
     "output_type": "stream",
     "text": [
      " 58%|█████▊    | 348/600 [8:04:27<6:39:01, 95.01s/it]"
     ]
    },
    {
     "name": "stdout",
     "output_type": "stream",
     "text": [
      "Score: -0.3563669856947155\n",
      "6 0.05 9\n",
      "Iteration 100\n",
      "PALM reached maximum number of iterations\n",
      "6 0.05 9\n"
     ]
    },
    {
     "name": "stderr",
     "output_type": "stream",
     "text": [
      " 58%|█████▊    | 349/600 [8:05:58<6:32:06, 93.73s/it]"
     ]
    },
    {
     "name": "stdout",
     "output_type": "stream",
     "text": [
      "Score: -0.3075756546513636\n",
      "6 0.1 9\n",
      "Iteration 100\n",
      "PALM reached maximum number of iterations\n",
      "6 0.1 9\n"
     ]
    },
    {
     "name": "stderr",
     "output_type": "stream",
     "text": [
      " 58%|█████▊    | 350/600 [8:07:24<6:20:29, 91.32s/it]"
     ]
    },
    {
     "name": "stdout",
     "output_type": "stream",
     "text": [
      "Score: 0.510442401905742\n",
      "6 0.15 9\n",
      "Iteration 100\n",
      "PALM reached maximum number of iterations\n",
      "6 0.15 9\n"
     ]
    },
    {
     "name": "stderr",
     "output_type": "stream",
     "text": [
      " 58%|█████▊    | 351/600 [8:08:44<6:05:13, 88.00s/it]"
     ]
    },
    {
     "name": "stdout",
     "output_type": "stream",
     "text": [
      "Score: -0.12338834058289823\n",
      "6 0.2 9\n",
      "Iteration 100\n",
      "PALM reached maximum number of iterations\n",
      "6 0.2 9\n"
     ]
    },
    {
     "name": "stderr",
     "output_type": "stream",
     "text": [
      " 59%|█████▊    | 352/600 [8:10:01<5:49:55, 84.66s/it]"
     ]
    },
    {
     "name": "stdout",
     "output_type": "stream",
     "text": [
      "Score: -0.29215945773670693\n",
      "6 0.25 9\n",
      "Iteration 100\n",
      "PALM reached maximum number of iterations\n",
      "6 0.25 9\n"
     ]
    },
    {
     "name": "stderr",
     "output_type": "stream",
     "text": [
      " 59%|█████▉    | 353/600 [8:11:14<5:33:56, 81.12s/it]"
     ]
    },
    {
     "name": "stdout",
     "output_type": "stream",
     "text": [
      "Score: 0.12087599324256577\n",
      "6 0.3 9\n",
      "Iteration 100\n",
      "PALM reached maximum number of iterations\n",
      "6 0.3 9\n",
      "Invalid data, retrying...\n",
      "Iteration 100\n",
      "PALM reached maximum number of iterations\n",
      "6 0.3 9\n"
     ]
    },
    {
     "name": "stderr",
     "output_type": "stream",
     "text": [
      " 59%|█████▉    | 354/600 [8:13:04<6:08:09, 89.80s/it]"
     ]
    },
    {
     "name": "stdout",
     "output_type": "stream",
     "text": [
      "Score: -0.03609069929820793\n",
      "6 0.05 10\n",
      "Iteration 100\n",
      "PALM reached maximum number of iterations\n",
      "6 0.05 10\n"
     ]
    },
    {
     "name": "stderr",
     "output_type": "stream",
     "text": [
      " 59%|█████▉    | 355/600 [8:14:34<6:07:54, 90.10s/it]"
     ]
    },
    {
     "name": "stdout",
     "output_type": "stream",
     "text": [
      "Score: -0.25277192474621635\n",
      "6 0.1 10\n",
      "Iteration 100\n",
      "PALM reached maximum number of iterations\n",
      "6 0.1 10\n"
     ]
    },
    {
     "name": "stderr",
     "output_type": "stream",
     "text": [
      " 59%|█████▉    | 356/600 [8:16:00<6:01:14, 88.83s/it]"
     ]
    },
    {
     "name": "stdout",
     "output_type": "stream",
     "text": [
      "Score: -0.0814835026945855\n",
      "6 0.15 10\n",
      "Iteration 100\n",
      "PALM reached maximum number of iterations\n",
      "6 0.15 10\n"
     ]
    },
    {
     "name": "stderr",
     "output_type": "stream",
     "text": [
      " 60%|█████▉    | 357/600 [8:17:22<5:51:34, 86.81s/it]"
     ]
    },
    {
     "name": "stdout",
     "output_type": "stream",
     "text": [
      "Score: -0.26690120942026707\n",
      "6 0.2 10\n",
      "Iteration 100\n",
      "PALM reached maximum number of iterations\n",
      "6 0.2 10\n"
     ]
    },
    {
     "name": "stderr",
     "output_type": "stream",
     "text": [
      " 60%|█████▉    | 358/600 [8:18:39<5:38:04, 83.82s/it]"
     ]
    },
    {
     "name": "stdout",
     "output_type": "stream",
     "text": [
      "Score: -0.05305845328351143\n",
      "6 0.25 10\n",
      "Iteration 100\n",
      "PALM reached maximum number of iterations\n",
      "6 0.25 10\n"
     ]
    },
    {
     "name": "stderr",
     "output_type": "stream",
     "text": [
      " 60%|█████▉    | 359/600 [8:19:52<5:23:04, 80.43s/it]"
     ]
    },
    {
     "name": "stdout",
     "output_type": "stream",
     "text": [
      "Score: -0.08986441005083129\n",
      "6 0.3 10\n",
      "Iteration 100\n",
      "PALM reached maximum number of iterations\n",
      "6 0.3 10\n"
     ]
    },
    {
     "name": "stderr",
     "output_type": "stream",
     "text": [
      " 60%|██████    | 360/600 [8:21:00<5:06:43, 76.68s/it]"
     ]
    },
    {
     "name": "stdout",
     "output_type": "stream",
     "text": [
      "Score: -0.07237173534532687\n",
      "7 0.05 1\n",
      "Iteration 100\n",
      "PALM reached maximum number of iterations\n",
      "7 0.05 1\n"
     ]
    },
    {
     "name": "stderr",
     "output_type": "stream",
     "text": [
      " 60%|██████    | 361/600 [8:21:52<4:36:34, 69.43s/it]"
     ]
    },
    {
     "name": "stdout",
     "output_type": "stream",
     "text": [
      "Score: 0.3032315422136117\n",
      "7 0.1 1\n",
      "Iteration 100\n",
      "PALM reached maximum number of iterations\n",
      "7 0.1 1\n"
     ]
    },
    {
     "name": "stderr",
     "output_type": "stream",
     "text": [
      " 60%|██████    | 362/600 [8:22:40<4:09:47, 62.97s/it]"
     ]
    },
    {
     "name": "stdout",
     "output_type": "stream",
     "text": [
      "Score: 0.31384411526496897\n",
      "7 0.15 1\n",
      "Iteration 100\n",
      "PALM reached maximum number of iterations\n",
      "7 0.15 1\n"
     ]
    },
    {
     "name": "stderr",
     "output_type": "stream",
     "text": [
      " 60%|██████    | 363/600 [8:23:24<3:45:55, 57.20s/it]"
     ]
    },
    {
     "name": "stdout",
     "output_type": "stream",
     "text": [
      "Score: 0.3370881453407275\n",
      "7 0.2 1\n",
      "Iteration 100\n",
      "PALM reached maximum number of iterations\n",
      "7 0.2 1\n"
     ]
    },
    {
     "name": "stderr",
     "output_type": "stream",
     "text": [
      " 61%|██████    | 364/600 [8:24:03<3:24:05, 51.89s/it]"
     ]
    },
    {
     "name": "stdout",
     "output_type": "stream",
     "text": [
      "Score: 0.2567685919265019\n",
      "7 0.25 1\n",
      "Iteration 100\n",
      "PALM reached maximum number of iterations\n",
      "7 0.25 1\n"
     ]
    },
    {
     "name": "stderr",
     "output_type": "stream",
     "text": [
      " 61%|██████    | 365/600 [8:24:39<3:04:24, 47.08s/it]"
     ]
    },
    {
     "name": "stdout",
     "output_type": "stream",
     "text": [
      "Score: 0.3357534755624679\n",
      "7 0.3 1\n",
      "Iteration 100\n",
      "PALM reached maximum number of iterations\n",
      "7 0.3 1\n"
     ]
    },
    {
     "name": "stderr",
     "output_type": "stream",
     "text": [
      " 61%|██████    | 366/600 [8:25:11<2:45:59, 42.56s/it]"
     ]
    },
    {
     "name": "stdout",
     "output_type": "stream",
     "text": [
      "Score: 0.2863034016632579\n",
      "7 0.05 2\n",
      "Iteration 100\n",
      "PALM reached maximum number of iterations\n",
      "7 0.05 2\n"
     ]
    },
    {
     "name": "stderr",
     "output_type": "stream",
     "text": [
      " 61%|██████    | 367/600 [8:26:42<3:42:00, 57.17s/it]"
     ]
    },
    {
     "name": "stdout",
     "output_type": "stream",
     "text": [
      "Score: 0.07630669185470039\n",
      "7 0.1 2\n",
      "Iteration 100\n",
      "PALM reached maximum number of iterations\n",
      "7 0.1 2\n"
     ]
    },
    {
     "name": "stderr",
     "output_type": "stream",
     "text": [
      " 61%|██████▏   | 368/600 [8:28:09<4:15:38, 66.12s/it]"
     ]
    },
    {
     "name": "stdout",
     "output_type": "stream",
     "text": [
      "Score: 0.14327081282121135\n",
      "7 0.15 2\n",
      "Iteration 100\n",
      "PALM reached maximum number of iterations\n",
      "7 0.15 2\n"
     ]
    },
    {
     "name": "stderr",
     "output_type": "stream",
     "text": [
      " 62%|██████▏   | 369/600 [8:29:32<4:33:14, 70.97s/it]"
     ]
    },
    {
     "name": "stdout",
     "output_type": "stream",
     "text": [
      "Score: 0.12041991685133153\n",
      "7 0.2 2\n",
      "Iteration 100\n",
      "PALM reached maximum number of iterations\n",
      "7 0.2 2\n"
     ]
    },
    {
     "name": "stderr",
     "output_type": "stream",
     "text": [
      " 62%|██████▏   | 370/600 [8:30:49<4:39:42, 72.97s/it]"
     ]
    },
    {
     "name": "stdout",
     "output_type": "stream",
     "text": [
      "Score: 0.04746160496908272\n",
      "7 0.25 2\n",
      "Iteration 100\n",
      "PALM reached maximum number of iterations\n",
      "7 0.25 2\n"
     ]
    },
    {
     "name": "stderr",
     "output_type": "stream",
     "text": [
      " 62%|██████▏   | 371/600 [8:32:11<4:48:53, 75.69s/it]"
     ]
    },
    {
     "name": "stdout",
     "output_type": "stream",
     "text": [
      "Score: 0.24865358289635633\n",
      "7 0.3 2\n",
      "Iteration 100\n",
      "PALM reached maximum number of iterations\n",
      "7 0.3 2\n"
     ]
    },
    {
     "name": "stderr",
     "output_type": "stream",
     "text": [
      " 62%|██████▏   | 372/600 [8:33:22<4:41:55, 74.19s/it]"
     ]
    },
    {
     "name": "stdout",
     "output_type": "stream",
     "text": [
      "Score: -0.06300023333682714\n",
      "7 0.05 3\n",
      "Iteration 100\n",
      "PALM reached maximum number of iterations\n",
      "7 0.05 3\n"
     ]
    },
    {
     "name": "stderr",
     "output_type": "stream",
     "text": [
      " 62%|██████▏   | 373/600 [8:35:06<5:14:44, 83.19s/it]"
     ]
    },
    {
     "name": "stdout",
     "output_type": "stream",
     "text": [
      "Score: 0.45417432181217665\n",
      "7 0.1 3\n",
      "Iteration 100\n",
      "PALM reached maximum number of iterations\n",
      "7 0.1 3\n"
     ]
    },
    {
     "name": "stderr",
     "output_type": "stream",
     "text": [
      " 62%|██████▏   | 374/600 [8:36:33<5:16:57, 84.15s/it]"
     ]
    },
    {
     "name": "stdout",
     "output_type": "stream",
     "text": [
      "Score: 0.11132582542234473\n",
      "7 0.15 3\n",
      "Iteration 100\n",
      "PALM reached maximum number of iterations\n",
      "7 0.15 3\n"
     ]
    },
    {
     "name": "stderr",
     "output_type": "stream",
     "text": [
      " 62%|██████▎   | 375/600 [8:37:54<5:12:52, 83.43s/it]"
     ]
    },
    {
     "name": "stdout",
     "output_type": "stream",
     "text": [
      "Score: 0.0524467571986122\n",
      "7 0.2 3\n",
      "Iteration 100\n",
      "PALM reached maximum number of iterations\n",
      "7 0.2 3\n"
     ]
    },
    {
     "name": "stderr",
     "output_type": "stream",
     "text": [
      " 63%|██████▎   | 376/600 [8:39:11<5:04:03, 81.44s/it]"
     ]
    },
    {
     "name": "stdout",
     "output_type": "stream",
     "text": [
      "Score: 0.05412423539057566\n",
      "7 0.25 3\n",
      "Iteration 100\n",
      "PALM reached maximum number of iterations\n",
      "7 0.25 3\n"
     ]
    },
    {
     "name": "stderr",
     "output_type": "stream",
     "text": [
      " 63%|██████▎   | 377/600 [8:40:25<4:53:50, 79.06s/it]"
     ]
    },
    {
     "name": "stdout",
     "output_type": "stream",
     "text": [
      "Score: 0.4965472245489368\n",
      "7 0.3 3\n",
      "Iteration 100\n",
      "PALM reached maximum number of iterations\n",
      "7 0.3 3\n"
     ]
    },
    {
     "name": "stderr",
     "output_type": "stream",
     "text": [
      " 63%|██████▎   | 378/600 [8:41:34<4:41:49, 76.17s/it]"
     ]
    },
    {
     "name": "stdout",
     "output_type": "stream",
     "text": [
      "Score: 0.16719994940400093\n",
      "7 0.05 4\n",
      "Iteration 100\n",
      "PALM reached maximum number of iterations\n",
      "7 0.05 4\n"
     ]
    },
    {
     "name": "stderr",
     "output_type": "stream",
     "text": [
      " 63%|██████▎   | 379/600 [8:43:06<4:57:37, 80.80s/it]"
     ]
    },
    {
     "name": "stdout",
     "output_type": "stream",
     "text": [
      "Score: 0.6978459375923693\n",
      "7 0.1 4\n",
      "Iteration 100\n",
      "PALM reached maximum number of iterations\n",
      "7 0.1 4\n"
     ]
    },
    {
     "name": "stderr",
     "output_type": "stream",
     "text": [
      " 63%|██████▎   | 380/600 [8:44:33<5:03:42, 82.83s/it]"
     ]
    },
    {
     "name": "stdout",
     "output_type": "stream",
     "text": [
      "Score: 0.6982310350717297\n",
      "7 0.15 4\n",
      "Iteration 100\n",
      "PALM reached maximum number of iterations\n",
      "7 0.15 4\n"
     ]
    },
    {
     "name": "stderr",
     "output_type": "stream",
     "text": [
      " 64%|██████▎   | 381/600 [8:45:55<5:01:00, 82.47s/it]"
     ]
    },
    {
     "name": "stdout",
     "output_type": "stream",
     "text": [
      "Score: 0.3851259888131049\n",
      "7 0.2 4\n",
      "Iteration 100\n",
      "PALM reached maximum number of iterations\n",
      "7 0.2 4\n"
     ]
    },
    {
     "name": "stderr",
     "output_type": "stream",
     "text": [
      " 64%|██████▎   | 382/600 [8:47:14<4:55:55, 81.45s/it]"
     ]
    },
    {
     "name": "stdout",
     "output_type": "stream",
     "text": [
      "Score: -0.004456907626542298\n",
      "7 0.25 4\n",
      "Iteration 100\n",
      "PALM reached maximum number of iterations\n",
      "7 0.25 4\n"
     ]
    },
    {
     "name": "stderr",
     "output_type": "stream",
     "text": [
      " 64%|██████▍   | 383/600 [8:48:26<4:44:22, 78.63s/it]"
     ]
    },
    {
     "name": "stdout",
     "output_type": "stream",
     "text": [
      "Score: 0.3370967222932596\n",
      "7 0.3 4\n",
      "Iteration 100\n",
      "PALM reached maximum number of iterations\n",
      "7 0.3 4\n"
     ]
    },
    {
     "name": "stderr",
     "output_type": "stream",
     "text": [
      " 64%|██████▍   | 384/600 [8:49:35<4:33:03, 75.85s/it]"
     ]
    },
    {
     "name": "stdout",
     "output_type": "stream",
     "text": [
      "Score: 0.20113950272802084\n",
      "7 0.05 5\n",
      "Iteration 100\n",
      "PALM reached maximum number of iterations\n",
      "7 0.05 5\n"
     ]
    },
    {
     "name": "stderr",
     "output_type": "stream",
     "text": [
      " 64%|██████▍   | 385/600 [8:51:09<4:50:29, 81.07s/it]"
     ]
    },
    {
     "name": "stdout",
     "output_type": "stream",
     "text": [
      "Score: 0.6979522387768502\n",
      "7 0.1 5\n",
      "Iteration 100\n",
      "PALM reached maximum number of iterations\n",
      "7 0.1 5\n"
     ]
    },
    {
     "name": "stderr",
     "output_type": "stream",
     "text": [
      " 64%|██████▍   | 386/600 [8:52:35<4:54:51, 82.67s/it]"
     ]
    },
    {
     "name": "stdout",
     "output_type": "stream",
     "text": [
      "Score: 0.6982459977189802\n",
      "7 0.15 5\n",
      "Iteration 100\n",
      "PALM reached maximum number of iterations\n",
      "7 0.15 5\n"
     ]
    },
    {
     "name": "stderr",
     "output_type": "stream",
     "text": [
      " 64%|██████▍   | 387/600 [8:53:57<4:52:11, 82.31s/it]"
     ]
    },
    {
     "name": "stdout",
     "output_type": "stream",
     "text": [
      "Score: 0.3640695397123652\n",
      "7 0.2 5\n",
      "Iteration 100\n",
      "PALM reached maximum number of iterations\n",
      "7 0.2 5\n",
      "Invalid data, retrying...\n",
      "Iteration 100\n",
      "PALM reached maximum number of iterations\n",
      "7 0.2 5\n",
      "Invalid data, retrying...\n",
      "Iteration 100\n",
      "PALM reached maximum number of iterations\n",
      "7 0.2 5\n"
     ]
    },
    {
     "name": "stderr",
     "output_type": "stream",
     "text": [
      " 65%|██████▍   | 388/600 [8:56:41<6:17:31, 106.85s/it]"
     ]
    },
    {
     "name": "stdout",
     "output_type": "stream",
     "text": [
      "Score: 0.13656420291918697\n",
      "7 0.25 5\n",
      "Iteration 100\n",
      "PALM reached maximum number of iterations\n",
      "7 0.25 5\n"
     ]
    },
    {
     "name": "stderr",
     "output_type": "stream",
     "text": [
      " 65%|██████▍   | 389/600 [8:57:52<5:38:34, 96.28s/it] "
     ]
    },
    {
     "name": "stdout",
     "output_type": "stream",
     "text": [
      "Score: 0.37136954381462334\n",
      "7 0.3 5\n",
      "7 0.3 5\n"
     ]
    },
    {
     "name": "stderr",
     "output_type": "stream",
     "text": [
      " 65%|██████▌   | 390/600 [8:58:49<4:55:08, 84.33s/it]"
     ]
    },
    {
     "name": "stdout",
     "output_type": "stream",
     "text": [
      "Score: 0.7269729830140327\n",
      "7 0.05 6\n",
      "Iteration 100\n",
      "PALM reached maximum number of iterations\n",
      "7 0.05 6\n",
      "Invalid data, retrying...\n",
      "Iteration 100\n",
      "PALM reached maximum number of iterations\n",
      "7 0.05 6\n"
     ]
    },
    {
     "name": "stderr",
     "output_type": "stream",
     "text": [
      " 65%|██████▌   | 391/600 [9:01:03<5:45:35, 99.21s/it]"
     ]
    },
    {
     "name": "stdout",
     "output_type": "stream",
     "text": [
      "Score: 0.6981706446713836\n",
      "7 0.1 6\n",
      "7 0.1 6\n",
      "Invalid data, retrying...\n",
      "7 0.1 6\n",
      "Invalid data, retrying...\n",
      "Iteration 100\n",
      "PALM reached maximum number of iterations\n",
      "7 0.1 6\n",
      "Invalid data, retrying...\n"
     ]
    },
    {
     "name": "stderr",
     "output_type": "stream",
     "text": [
      " 65%|██████▌   | 392/600 [9:02:56<5:58:36, 103.44s/it]"
     ]
    },
    {
     "name": "stdout",
     "output_type": "stream",
     "text": [
      "7 0.15 6\n",
      "Iteration 100\n",
      "PALM reached maximum number of iterations\n",
      "7 0.15 6\n"
     ]
    },
    {
     "name": "stderr",
     "output_type": "stream",
     "text": [
      " 66%|██████▌   | 393/600 [9:04:19<5:36:00, 97.39s/it] "
     ]
    },
    {
     "name": "stdout",
     "output_type": "stream",
     "text": [
      "Score: 0.41459085112185085\n",
      "7 0.2 6\n",
      "Iteration 100\n",
      "PALM reached maximum number of iterations\n",
      "7 0.2 6\n",
      "Invalid data, retrying...\n",
      "Iteration 100\n",
      "PALM reached maximum number of iterations\n",
      "7 0.2 6\n"
     ]
    },
    {
     "name": "stderr",
     "output_type": "stream",
     "text": [
      " 66%|██████▌   | 394/600 [9:06:21<5:59:45, 104.78s/it]"
     ]
    },
    {
     "name": "stdout",
     "output_type": "stream",
     "text": [
      "Score: 0.020566279526199414\n",
      "7 0.25 6\n",
      "Iteration 100\n",
      "PALM reached maximum number of iterations\n",
      "7 0.25 6\n"
     ]
    },
    {
     "name": "stderr",
     "output_type": "stream",
     "text": [
      " 66%|██████▌   | 395/600 [9:07:35<5:25:50, 95.37s/it] "
     ]
    },
    {
     "name": "stdout",
     "output_type": "stream",
     "text": [
      "Score: 0.4856939676317291\n",
      "7 0.3 6\n",
      "Iteration 100\n",
      "PALM reached maximum number of iterations\n",
      "7 0.3 6\n",
      "Invalid data, retrying...\n",
      "Iteration 100\n",
      "PALM reached maximum number of iterations\n",
      "7 0.3 6\n",
      "Invalid data, retrying...\n",
      "Iteration 100\n",
      "PALM reached maximum number of iterations\n",
      "7 0.3 6\n"
     ]
    },
    {
     "name": "stderr",
     "output_type": "stream",
     "text": [
      " 66%|██████▌   | 396/600 [9:10:13<6:28:38, 114.31s/it]"
     ]
    },
    {
     "name": "stdout",
     "output_type": "stream",
     "text": [
      "Score: 0.6877092601665163\n",
      "7 0.05 7\n",
      "Iteration 100\n",
      "PALM reached maximum number of iterations\n",
      "7 0.05 7\n",
      "Invalid data, retrying...\n",
      "Iteration 100\n",
      "PALM reached maximum number of iterations\n",
      "7 0.05 7\n",
      "Invalid data, retrying...\n",
      "Iteration 100\n",
      "PALM reached maximum number of iterations\n",
      "7 0.05 7\n"
     ]
    },
    {
     "name": "stderr",
     "output_type": "stream",
     "text": [
      " 66%|██████▌   | 397/600 [9:13:11<7:31:42, 133.51s/it]"
     ]
    },
    {
     "name": "stdout",
     "output_type": "stream",
     "text": [
      "Score: 0.7173413782420954\n",
      "7 0.1 7\n",
      "Iteration 100\n",
      "PALM reached maximum number of iterations\n",
      "7 0.1 7\n",
      "Invalid data, retrying...\n",
      "Iteration 100\n",
      "PALM reached maximum number of iterations\n",
      "7 0.1 7\n"
     ]
    },
    {
     "name": "stderr",
     "output_type": "stream",
     "text": [
      " 66%|██████▋   | 398/600 [9:15:22<7:26:37, 132.66s/it]"
     ]
    },
    {
     "name": "stdout",
     "output_type": "stream",
     "text": [
      "Score: 0.7262549985215139\n",
      "7 0.15 7\n",
      "Iteration 100\n",
      "PALM reached maximum number of iterations\n",
      "7 0.15 7\n",
      "Invalid data, retrying...\n",
      "Iteration 100\n",
      "PALM reached maximum number of iterations\n",
      "7 0.15 7\n"
     ]
    },
    {
     "name": "stderr",
     "output_type": "stream",
     "text": [
      " 66%|██████▋   | 399/600 [9:17:27<7:16:52, 130.41s/it]"
     ]
    },
    {
     "name": "stdout",
     "output_type": "stream",
     "text": [
      "Score: 0.7333074554999767\n",
      "7 0.2 7\n",
      "Iteration 100\n",
      "PALM reached maximum number of iterations\n",
      "7 0.2 7\n",
      "Invalid data, retrying...\n",
      "Iteration 100\n",
      "PALM reached maximum number of iterations\n",
      "7 0.2 7\n",
      "Invalid data, retrying...\n",
      "Iteration 100\n",
      "PALM reached maximum number of iterations\n",
      "7 0.2 7\n",
      "Invalid data, retrying...\n"
     ]
    },
    {
     "name": "stderr",
     "output_type": "stream",
     "text": [
      " 67%|██████▋   | 400/600 [9:19:38<7:14:39, 130.40s/it]"
     ]
    },
    {
     "name": "stdout",
     "output_type": "stream",
     "text": [
      "7 0.25 7\n",
      "Iteration 100\n",
      "PALM reached maximum number of iterations\n",
      "7 0.25 7\n",
      "Invalid data, retrying...\n",
      "Iteration 100\n",
      "PALM reached maximum number of iterations\n",
      "7 0.25 7\n",
      "Invalid data, retrying...\n",
      "Iteration 100\n",
      "PALM reached maximum number of iterations\n",
      "7 0.25 7\n",
      "Invalid data, retrying...\n"
     ]
    },
    {
     "name": "stderr",
     "output_type": "stream",
     "text": [
      " 67%|██████▋   | 401/600 [9:21:49<7:13:48, 130.79s/it]"
     ]
    },
    {
     "name": "stdout",
     "output_type": "stream",
     "text": [
      "7 0.3 7\n",
      "Iteration 100\n",
      "PALM reached maximum number of iterations\n",
      "7 0.3 7\n",
      "Invalid data, retrying...\n",
      "Iteration 100\n",
      "PALM reached maximum number of iterations\n",
      "7 0.3 7\n",
      "Invalid data, retrying...\n",
      "Iteration 100\n",
      "PALM reached maximum number of iterations\n",
      "7 0.3 7\n"
     ]
    },
    {
     "name": "stderr",
     "output_type": "stream",
     "text": [
      " 67%|██████▋   | 402/600 [9:24:27<7:38:29, 138.94s/it]"
     ]
    },
    {
     "name": "stdout",
     "output_type": "stream",
     "text": [
      "Score: 0.7327900596067244\n",
      "7 0.05 8\n",
      "Iteration 100\n",
      "PALM reached maximum number of iterations\n",
      "7 0.05 8\n",
      "Invalid data, retrying...\n",
      "Iteration 100\n",
      "PALM reached maximum number of iterations\n",
      "7 0.05 8\n",
      "Invalid data, retrying...\n",
      "Iteration 100\n",
      "PALM reached maximum number of iterations\n",
      "7 0.05 8\n",
      "Invalid data, retrying...\n"
     ]
    },
    {
     "name": "stderr",
     "output_type": "stream",
     "text": [
      " 67%|██████▋   | 403/600 [9:26:37<7:27:17, 136.23s/it]"
     ]
    },
    {
     "name": "stdout",
     "output_type": "stream",
     "text": [
      "7 0.1 8\n",
      "Iteration 100\n",
      "PALM reached maximum number of iterations\n",
      "7 0.1 8\n",
      "Invalid data, retrying...\n",
      "Iteration 100\n",
      "PALM reached maximum number of iterations\n",
      "7 0.1 8\n",
      "Invalid data, retrying...\n",
      "Iteration 100\n",
      "PALM reached maximum number of iterations\n",
      "7 0.1 8\n",
      "Invalid data, retrying...\n"
     ]
    },
    {
     "name": "stderr",
     "output_type": "stream",
     "text": [
      " 67%|██████▋   | 404/600 [9:28:47<7:18:30, 134.24s/it]"
     ]
    },
    {
     "name": "stdout",
     "output_type": "stream",
     "text": [
      "7 0.15 8\n",
      "Iteration 100\n",
      "PALM reached maximum number of iterations\n",
      "7 0.15 8\n",
      "Invalid data, retrying...\n",
      "Iteration 100\n",
      "PALM reached maximum number of iterations\n",
      "7 0.15 8\n",
      "Invalid data, retrying...\n",
      "Iteration 100\n",
      "PALM reached maximum number of iterations\n",
      "7 0.15 8\n",
      "Invalid data, retrying...\n"
     ]
    },
    {
     "name": "stderr",
     "output_type": "stream",
     "text": [
      " 68%|██████▊   | 405/600 [9:30:56<7:11:08, 132.66s/it]"
     ]
    },
    {
     "name": "stdout",
     "output_type": "stream",
     "text": [
      "7 0.2 8\n",
      "Iteration 100\n",
      "PALM reached maximum number of iterations\n",
      "7 0.2 8\n",
      "Invalid data, retrying...\n",
      "Iteration 100\n",
      "PALM reached maximum number of iterations\n",
      "7 0.2 8\n",
      "Invalid data, retrying...\n",
      "Iteration 100\n",
      "PALM reached maximum number of iterations\n",
      "7 0.2 8\n",
      "Invalid data, retrying...\n"
     ]
    },
    {
     "name": "stderr",
     "output_type": "stream",
     "text": [
      " 68%|██████▊   | 406/600 [9:33:05<7:05:38, 131.64s/it]"
     ]
    },
    {
     "name": "stdout",
     "output_type": "stream",
     "text": [
      "7 0.25 8\n",
      "Iteration 100\n",
      "PALM reached maximum number of iterations\n",
      "7 0.25 8\n",
      "Invalid data, retrying...\n",
      "Iteration 100\n",
      "PALM reached maximum number of iterations\n",
      "7 0.25 8\n",
      "Invalid data, retrying...\n",
      "Iteration 100\n",
      "PALM reached maximum number of iterations\n",
      "7 0.25 8\n",
      "Invalid data, retrying...\n"
     ]
    },
    {
     "name": "stderr",
     "output_type": "stream",
     "text": [
      " 68%|██████▊   | 407/600 [9:35:14<7:01:12, 130.95s/it]"
     ]
    },
    {
     "name": "stdout",
     "output_type": "stream",
     "text": [
      "7 0.3 8\n",
      "Iteration 100\n",
      "PALM reached maximum number of iterations\n",
      "7 0.3 8\n",
      "Invalid data, retrying...\n",
      "Iteration 100\n",
      "PALM reached maximum number of iterations\n",
      "7 0.3 8\n",
      "Invalid data, retrying...\n",
      "Iteration 100\n",
      "PALM reached maximum number of iterations\n",
      "7 0.3 8\n",
      "Invalid data, retrying...\n"
     ]
    },
    {
     "name": "stderr",
     "output_type": "stream",
     "text": [
      " 68%|██████▊   | 408/600 [9:37:25<6:58:48, 130.88s/it]"
     ]
    },
    {
     "name": "stdout",
     "output_type": "stream",
     "text": [
      "7 0.05 9\n",
      "Iteration 100\n",
      "PALM reached maximum number of iterations\n",
      "7 0.05 9\n"
     ]
    },
    {
     "name": "stderr",
     "output_type": "stream",
     "text": [
      " 68%|██████▊   | 409/600 [9:38:57<6:19:16, 119.14s/it]"
     ]
    },
    {
     "name": "stdout",
     "output_type": "stream",
     "text": [
      "Score: -0.6430223994481449\n",
      "7 0.1 9\n",
      "Iteration 100\n",
      "PALM reached maximum number of iterations\n",
      "7 0.1 9\n"
     ]
    },
    {
     "name": "stderr",
     "output_type": "stream",
     "text": [
      " 68%|██████▊   | 410/600 [9:40:25<5:47:31, 109.75s/it]"
     ]
    },
    {
     "name": "stdout",
     "output_type": "stream",
     "text": [
      "Score: -0.43624248196983967\n",
      "7 0.15 9\n",
      "Iteration 100\n",
      "PALM reached maximum number of iterations\n",
      "7 0.15 9\n"
     ]
    },
    {
     "name": "stderr",
     "output_type": "stream",
     "text": [
      " 68%|██████▊   | 411/600 [9:41:47<5:19:17, 101.36s/it]"
     ]
    },
    {
     "name": "stdout",
     "output_type": "stream",
     "text": [
      "Score: 0.07432269420684644\n",
      "7 0.2 9\n",
      "Iteration 100\n",
      "PALM reached maximum number of iterations\n",
      "7 0.2 9\n"
     ]
    },
    {
     "name": "stderr",
     "output_type": "stream",
     "text": [
      " 69%|██████▊   | 412/600 [9:43:05<4:55:41, 94.37s/it] "
     ]
    },
    {
     "name": "stdout",
     "output_type": "stream",
     "text": [
      "Score: -0.3870534078958001\n",
      "7 0.25 9\n",
      "Iteration 100\n",
      "PALM reached maximum number of iterations\n",
      "7 0.25 9\n"
     ]
    },
    {
     "name": "stderr",
     "output_type": "stream",
     "text": [
      " 69%|██████▉   | 413/600 [9:44:18<4:34:27, 88.06s/it]"
     ]
    },
    {
     "name": "stdout",
     "output_type": "stream",
     "text": [
      "Score: -0.01146928921477133\n",
      "7 0.3 9\n",
      "Iteration 100\n",
      "PALM reached maximum number of iterations\n",
      "7 0.3 9\n"
     ]
    },
    {
     "name": "stderr",
     "output_type": "stream",
     "text": [
      " 69%|██████▉   | 414/600 [9:45:27<4:15:21, 82.37s/it]"
     ]
    },
    {
     "name": "stdout",
     "output_type": "stream",
     "text": [
      "Score: 0.1280485245841424\n",
      "7 0.05 10\n",
      "Iteration 100\n",
      "PALM reached maximum number of iterations\n",
      "7 0.05 10\n"
     ]
    },
    {
     "name": "stderr",
     "output_type": "stream",
     "text": [
      " 69%|██████▉   | 415/600 [9:46:59<4:22:53, 85.26s/it]"
     ]
    },
    {
     "name": "stdout",
     "output_type": "stream",
     "text": [
      "Score: -0.4793471697249293\n",
      "7 0.1 10\n",
      "Iteration 100\n",
      "PALM reached maximum number of iterations\n",
      "7 0.1 10\n",
      "Invalid data, retrying...\n",
      "Iteration 100\n",
      "PALM reached maximum number of iterations\n",
      "7 0.1 10\n"
     ]
    },
    {
     "name": "stderr",
     "output_type": "stream",
     "text": [
      " 69%|██████▉   | 416/600 [9:49:09<5:02:33, 98.66s/it]"
     ]
    },
    {
     "name": "stdout",
     "output_type": "stream",
     "text": [
      "Score: -0.476546331332526\n",
      "7 0.15 10\n",
      "Iteration 100\n",
      "PALM reached maximum number of iterations\n",
      "7 0.15 10\n"
     ]
    },
    {
     "name": "stderr",
     "output_type": "stream",
     "text": [
      " 70%|██████▉   | 417/600 [9:50:32<4:46:22, 93.90s/it]"
     ]
    },
    {
     "name": "stdout",
     "output_type": "stream",
     "text": [
      "Score: -0.33813997018041486\n",
      "7 0.2 10\n",
      "Iteration 100\n",
      "PALM reached maximum number of iterations\n",
      "7 0.2 10\n"
     ]
    },
    {
     "name": "stderr",
     "output_type": "stream",
     "text": [
      " 70%|██████▉   | 418/600 [9:51:49<4:29:29, 88.85s/it]"
     ]
    },
    {
     "name": "stdout",
     "output_type": "stream",
     "text": [
      "Score: 0.30454985758696645\n",
      "7 0.25 10\n",
      "Iteration 100\n",
      "PALM reached maximum number of iterations\n",
      "7 0.25 10\n"
     ]
    },
    {
     "name": "stderr",
     "output_type": "stream",
     "text": [
      " 70%|██████▉   | 419/600 [9:53:02<4:13:40, 84.09s/it]"
     ]
    },
    {
     "name": "stdout",
     "output_type": "stream",
     "text": [
      "Score: -0.2490411819242571\n",
      "7 0.3 10\n",
      "Iteration 100\n",
      "PALM reached maximum number of iterations\n",
      "7 0.3 10\n",
      "Invalid data, retrying...\n",
      "Iteration 100\n",
      "PALM reached maximum number of iterations\n",
      "7 0.3 10\n"
     ]
    },
    {
     "name": "stderr",
     "output_type": "stream",
     "text": [
      " 70%|███████   | 420/600 [9:54:54<4:37:38, 92.55s/it]"
     ]
    },
    {
     "name": "stdout",
     "output_type": "stream",
     "text": [
      "Score: -0.07581828178431917\n",
      "8 0.05 1\n",
      "Iteration 100\n",
      "PALM reached maximum number of iterations\n",
      "8 0.05 1\n"
     ]
    },
    {
     "name": "stderr",
     "output_type": "stream",
     "text": [
      " 70%|███████   | 421/600 [9:55:46<3:59:26, 80.26s/it]"
     ]
    },
    {
     "name": "stdout",
     "output_type": "stream",
     "text": [
      "Score: 0.3426091515049475\n",
      "8 0.1 1\n",
      "Iteration 100\n",
      "PALM reached maximum number of iterations\n",
      "8 0.1 1\n"
     ]
    },
    {
     "name": "stderr",
     "output_type": "stream",
     "text": [
      " 70%|███████   | 422/600 [9:56:32<3:28:16, 70.21s/it]"
     ]
    },
    {
     "name": "stdout",
     "output_type": "stream",
     "text": [
      "Score: 0.30838599419525453\n",
      "8 0.15 1\n",
      "Iteration 100\n",
      "PALM reached maximum number of iterations\n",
      "8 0.15 1\n"
     ]
    },
    {
     "name": "stderr",
     "output_type": "stream",
     "text": [
      " 70%|███████   | 423/600 [9:57:16<3:03:53, 62.34s/it]"
     ]
    },
    {
     "name": "stdout",
     "output_type": "stream",
     "text": [
      "Score: 0.31073142668370113\n",
      "8 0.2 1\n",
      "Iteration 100\n",
      "PALM reached maximum number of iterations\n",
      "8 0.2 1\n"
     ]
    },
    {
     "name": "stderr",
     "output_type": "stream",
     "text": [
      " 71%|███████   | 424/600 [9:57:55<2:42:06, 55.26s/it]"
     ]
    },
    {
     "name": "stdout",
     "output_type": "stream",
     "text": [
      "Score: 0.33800868754314595\n",
      "8 0.25 1\n",
      "Iteration 100\n",
      "PALM reached maximum number of iterations\n",
      "8 0.25 1\n"
     ]
    },
    {
     "name": "stderr",
     "output_type": "stream",
     "text": [
      " 71%|███████   | 425/600 [9:58:30<2:23:00, 49.03s/it]"
     ]
    },
    {
     "name": "stdout",
     "output_type": "stream",
     "text": [
      "Score: 0.32735755890520407\n",
      "8 0.3 1\n",
      "Iteration 100\n",
      "PALM reached maximum number of iterations\n",
      "8 0.3 1\n"
     ]
    },
    {
     "name": "stderr",
     "output_type": "stream",
     "text": [
      " 71%|███████   | 426/600 [9:59:01<2:06:55, 43.76s/it]"
     ]
    },
    {
     "name": "stdout",
     "output_type": "stream",
     "text": [
      "Score: 0.3307847874419878\n",
      "8 0.05 2\n",
      "Iteration 100\n",
      "PALM reached maximum number of iterations\n",
      "8 0.05 2\n"
     ]
    },
    {
     "name": "stderr",
     "output_type": "stream",
     "text": [
      " 71%|███████   | 427/600 [10:00:33<2:47:24, 58.06s/it]"
     ]
    },
    {
     "name": "stdout",
     "output_type": "stream",
     "text": [
      "Score: 0.10591479095727059\n",
      "8 0.1 2\n",
      "Iteration 100\n",
      "PALM reached maximum number of iterations\n",
      "8 0.1 2\n"
     ]
    },
    {
     "name": "stderr",
     "output_type": "stream",
     "text": [
      " 71%|███████▏  | 428/600 [10:02:00<3:11:21, 66.75s/it]"
     ]
    },
    {
     "name": "stdout",
     "output_type": "stream",
     "text": [
      "Score: 0.09461229654087644\n",
      "8 0.15 2\n",
      "Iteration 100\n",
      "PALM reached maximum number of iterations\n",
      "8 0.15 2\n"
     ]
    },
    {
     "name": "stderr",
     "output_type": "stream",
     "text": [
      " 72%|███████▏  | 429/600 [10:03:22<3:24:03, 71.60s/it]"
     ]
    },
    {
     "name": "stdout",
     "output_type": "stream",
     "text": [
      "Score: 0.03850902388118871\n",
      "8 0.2 2\n",
      "Iteration 100\n",
      "PALM reached maximum number of iterations\n",
      "8 0.2 2\n"
     ]
    },
    {
     "name": "stderr",
     "output_type": "stream",
     "text": [
      " 72%|███████▏  | 430/600 [10:04:41<3:28:53, 73.73s/it]"
     ]
    },
    {
     "name": "stdout",
     "output_type": "stream",
     "text": [
      "Score: 0.10493231721295222\n",
      "8 0.25 2\n",
      "Iteration 100\n",
      "PALM reached maximum number of iterations\n",
      "8 0.25 2\n"
     ]
    },
    {
     "name": "stderr",
     "output_type": "stream",
     "text": [
      " 72%|███████▏  | 431/600 [10:05:57<3:29:35, 74.41s/it]"
     ]
    },
    {
     "name": "stdout",
     "output_type": "stream",
     "text": [
      "Score: 0.10746430137885805\n",
      "8 0.3 2\n",
      "Iteration 100\n",
      "PALM reached maximum number of iterations\n",
      "8 0.3 2\n"
     ]
    },
    {
     "name": "stderr",
     "output_type": "stream",
     "text": [
      " 72%|███████▏  | 432/600 [10:07:08<3:25:04, 73.24s/it]"
     ]
    },
    {
     "name": "stdout",
     "output_type": "stream",
     "text": [
      "Score: 0.10700454635571974\n",
      "8 0.05 3\n",
      "Iteration 100\n",
      "PALM reached maximum number of iterations\n",
      "8 0.05 3\n"
     ]
    },
    {
     "name": "stderr",
     "output_type": "stream",
     "text": [
      " 72%|███████▏  | 433/600 [10:08:42<3:41:21, 79.53s/it]"
     ]
    },
    {
     "name": "stdout",
     "output_type": "stream",
     "text": [
      "Score: 0.46048485609169093\n",
      "8 0.1 3\n",
      "Iteration 100\n",
      "PALM reached maximum number of iterations\n",
      "8 0.1 3\n"
     ]
    },
    {
     "name": "stderr",
     "output_type": "stream",
     "text": [
      " 72%|███████▏  | 434/600 [10:10:12<3:48:29, 82.59s/it]"
     ]
    },
    {
     "name": "stdout",
     "output_type": "stream",
     "text": [
      "Score: 0.09979405843086396\n",
      "8 0.15 3\n",
      "Iteration 100\n",
      "PALM reached maximum number of iterations\n",
      "8 0.15 3\n"
     ]
    },
    {
     "name": "stderr",
     "output_type": "stream",
     "text": [
      " 72%|███████▎  | 435/600 [10:11:35<3:47:52, 82.86s/it]"
     ]
    },
    {
     "name": "stdout",
     "output_type": "stream",
     "text": [
      "Score: 0.06957687548377159\n",
      "8 0.2 3\n",
      "Iteration 100\n",
      "PALM reached maximum number of iterations\n",
      "8 0.2 3\n"
     ]
    },
    {
     "name": "stderr",
     "output_type": "stream",
     "text": [
      " 73%|███████▎  | 436/600 [10:12:54<3:43:04, 81.61s/it]"
     ]
    },
    {
     "name": "stdout",
     "output_type": "stream",
     "text": [
      "Score: 0.13328490648947114\n",
      "8 0.25 3\n",
      "Iteration 100\n",
      "PALM reached maximum number of iterations\n",
      "8 0.25 3\n"
     ]
    },
    {
     "name": "stderr",
     "output_type": "stream",
     "text": [
      " 73%|███████▎  | 437/600 [10:14:09<3:36:42, 79.77s/it]"
     ]
    },
    {
     "name": "stdout",
     "output_type": "stream",
     "text": [
      "Score: 0.10430308983411794\n",
      "8 0.3 3\n",
      "Iteration 100\n",
      "PALM reached maximum number of iterations\n",
      "8 0.3 3\n"
     ]
    },
    {
     "name": "stderr",
     "output_type": "stream",
     "text": [
      " 73%|███████▎  | 438/600 [10:15:20<3:27:55, 77.01s/it]"
     ]
    },
    {
     "name": "stdout",
     "output_type": "stream",
     "text": [
      "Score: -0.06743289282373063\n",
      "8 0.05 4\n",
      "Iteration 100\n",
      "PALM reached maximum number of iterations\n",
      "8 0.05 4\n"
     ]
    },
    {
     "name": "stderr",
     "output_type": "stream",
     "text": [
      " 73%|███████▎  | 439/600 [10:16:54<3:40:12, 82.06s/it]"
     ]
    },
    {
     "name": "stdout",
     "output_type": "stream",
     "text": [
      "Score: 0.6978424204990592\n",
      "8 0.1 4\n",
      "Iteration 100\n",
      "PALM reached maximum number of iterations\n",
      "8 0.1 4\n"
     ]
    },
    {
     "name": "stderr",
     "output_type": "stream",
     "text": [
      " 73%|███████▎  | 440/600 [10:18:23<3:44:51, 84.32s/it]"
     ]
    },
    {
     "name": "stdout",
     "output_type": "stream",
     "text": [
      "Score: 0.6982272320042375\n",
      "8 0.15 4\n",
      "Iteration 100\n",
      "PALM reached maximum number of iterations\n",
      "8 0.15 4\n"
     ]
    },
    {
     "name": "stderr",
     "output_type": "stream",
     "text": [
      " 74%|███████▎  | 441/600 [10:19:48<3:43:51, 84.47s/it]"
     ]
    },
    {
     "name": "stdout",
     "output_type": "stream",
     "text": [
      "Score: 0.7047847261783255\n",
      "8 0.2 4\n",
      "Iteration 100\n",
      "PALM reached maximum number of iterations\n",
      "8 0.2 4\n"
     ]
    },
    {
     "name": "stderr",
     "output_type": "stream",
     "text": [
      " 74%|███████▎  | 442/600 [10:21:07<3:37:56, 82.77s/it]"
     ]
    },
    {
     "name": "stdout",
     "output_type": "stream",
     "text": [
      "Score: 0.3609246357013083\n",
      "8 0.25 4\n",
      "Iteration 100\n",
      "PALM reached maximum number of iterations\n",
      "8 0.25 4\n"
     ]
    },
    {
     "name": "stderr",
     "output_type": "stream",
     "text": [
      " 74%|███████▍  | 443/600 [10:22:22<3:30:40, 80.51s/it]"
     ]
    },
    {
     "name": "stdout",
     "output_type": "stream",
     "text": [
      "Score: 0.4777093070185689\n",
      "8 0.3 4\n",
      "Iteration 100\n",
      "PALM reached maximum number of iterations\n",
      "8 0.3 4\n"
     ]
    },
    {
     "name": "stderr",
     "output_type": "stream",
     "text": [
      " 74%|███████▍  | 444/600 [10:23:34<3:22:51, 78.02s/it]"
     ]
    },
    {
     "name": "stdout",
     "output_type": "stream",
     "text": [
      "Score: 0.5890765574497089\n",
      "8 0.05 5\n",
      "Iteration 100\n",
      "PALM reached maximum number of iterations\n",
      "8 0.05 5\n"
     ]
    },
    {
     "name": "stderr",
     "output_type": "stream",
     "text": [
      " 74%|███████▍  | 445/600 [10:25:08<3:33:21, 82.59s/it]"
     ]
    },
    {
     "name": "stdout",
     "output_type": "stream",
     "text": [
      "Score: 0.6978426599691889\n",
      "8 0.1 5\n",
      "Iteration 100\n",
      "PALM reached maximum number of iterations\n",
      "8 0.1 5\n"
     ]
    },
    {
     "name": "stderr",
     "output_type": "stream",
     "text": [
      " 74%|███████▍  | 446/600 [10:26:37<3:36:59, 84.54s/it]"
     ]
    },
    {
     "name": "stdout",
     "output_type": "stream",
     "text": [
      "Score: 0.6982277869496543\n",
      "8 0.15 5\n",
      "Iteration 100\n",
      "PALM reached maximum number of iterations\n",
      "8 0.15 5\n"
     ]
    },
    {
     "name": "stderr",
     "output_type": "stream",
     "text": [
      " 74%|███████▍  | 447/600 [10:28:00<3:34:51, 84.26s/it]"
     ]
    },
    {
     "name": "stdout",
     "output_type": "stream",
     "text": [
      "Score: -0.008415424111207496\n",
      "8 0.2 5\n",
      "Iteration 100\n",
      "PALM reached maximum number of iterations\n",
      "8 0.2 5\n"
     ]
    },
    {
     "name": "stderr",
     "output_type": "stream",
     "text": [
      " 75%|███████▍  | 448/600 [10:29:20<3:30:00, 82.90s/it]"
     ]
    },
    {
     "name": "stdout",
     "output_type": "stream",
     "text": [
      "Score: 0.3575806126157353\n",
      "8 0.25 5\n",
      "Iteration 100\n",
      "PALM reached maximum number of iterations\n",
      "8 0.25 5\n"
     ]
    },
    {
     "name": "stderr",
     "output_type": "stream",
     "text": [
      " 75%|███████▍  | 449/600 [10:30:37<3:23:50, 81.00s/it]"
     ]
    },
    {
     "name": "stdout",
     "output_type": "stream",
     "text": [
      "Score: 0.4075710805652563\n",
      "8 0.3 5\n",
      "Iteration 100\n",
      "PALM reached maximum number of iterations\n",
      "8 0.3 5\n"
     ]
    },
    {
     "name": "stderr",
     "output_type": "stream",
     "text": [
      " 75%|███████▌  | 450/600 [10:31:49<3:16:07, 78.45s/it]"
     ]
    },
    {
     "name": "stdout",
     "output_type": "stream",
     "text": [
      "Score: 0.7502241659561876\n",
      "8 0.05 6\n",
      "Iteration 100\n",
      "PALM reached maximum number of iterations\n",
      "8 0.05 6\n"
     ]
    },
    {
     "name": "stderr",
     "output_type": "stream",
     "text": [
      " 75%|███████▌  | 451/600 [10:33:23<3:26:12, 83.03s/it]"
     ]
    },
    {
     "name": "stdout",
     "output_type": "stream",
     "text": [
      "Score: 0.6979184226466432\n",
      "8 0.1 6\n",
      "Iteration 100\n",
      "PALM reached maximum number of iterations\n",
      "8 0.1 6\n"
     ]
    },
    {
     "name": "stderr",
     "output_type": "stream",
     "text": [
      " 75%|███████▌  | 452/600 [10:34:56<3:32:12, 86.03s/it]"
     ]
    },
    {
     "name": "stdout",
     "output_type": "stream",
     "text": [
      "Score: 0.4930514991172136\n",
      "8 0.15 6\n",
      "Iteration 100\n",
      "PALM reached maximum number of iterations\n",
      "8 0.15 6\n"
     ]
    },
    {
     "name": "stderr",
     "output_type": "stream",
     "text": [
      " 76%|███████▌  | 453/600 [10:36:24<3:32:07, 86.58s/it]"
     ]
    },
    {
     "name": "stdout",
     "output_type": "stream",
     "text": [
      "Score: 0.38006717598139955\n",
      "8 0.2 6\n",
      "Iteration 100\n",
      "PALM reached maximum number of iterations\n",
      "8 0.2 6\n",
      "Invalid data, retrying...\n",
      "Iteration 100\n",
      "PALM reached maximum number of iterations\n",
      "8 0.2 6\n",
      "Invalid data, retrying...\n",
      "Iteration 100\n",
      "PALM reached maximum number of iterations\n",
      "8 0.2 6\n"
     ]
    },
    {
     "name": "stderr",
     "output_type": "stream",
     "text": [
      " 76%|███████▌  | 454/600 [10:39:26<4:40:37, 115.33s/it]"
     ]
    },
    {
     "name": "stdout",
     "output_type": "stream",
     "text": [
      "Score: 0.04898983290261856\n",
      "8 0.25 6\n",
      "Iteration 100\n",
      "PALM reached maximum number of iterations\n",
      "8 0.25 6\n"
     ]
    },
    {
     "name": "stderr",
     "output_type": "stream",
     "text": [
      " 76%|███████▌  | 455/600 [10:40:53<4:17:57, 106.74s/it]"
     ]
    },
    {
     "name": "stdout",
     "output_type": "stream",
     "text": [
      "Score: 0.3477795165063819\n",
      "8 0.3 6\n",
      "Iteration 100\n",
      "PALM reached maximum number of iterations\n",
      "8 0.3 6\n",
      "Invalid data, retrying...\n",
      "Iteration 100\n",
      "PALM reached maximum number of iterations\n",
      "8 0.3 6\n"
     ]
    },
    {
     "name": "stderr",
     "output_type": "stream",
     "text": [
      " 76%|███████▌  | 456/600 [10:42:57<4:29:05, 112.12s/it]"
     ]
    },
    {
     "name": "stdout",
     "output_type": "stream",
     "text": [
      "Score: -0.20004105195886515\n",
      "8 0.05 7\n",
      "8 0.05 7\n",
      "Invalid data, retrying...\n",
      "Iteration 100\n",
      "PALM reached maximum number of iterations\n",
      "8 0.05 7\n"
     ]
    },
    {
     "name": "stderr",
     "output_type": "stream",
     "text": [
      " 76%|███████▌  | 457/600 [10:45:08<4:40:42, 117.78s/it]"
     ]
    },
    {
     "name": "stdout",
     "output_type": "stream",
     "text": [
      "Score: 0.7078687255048149\n",
      "8 0.1 7\n",
      "Iteration 100\n",
      "PALM reached maximum number of iterations\n",
      "8 0.1 7\n",
      "Invalid data, retrying...\n",
      "Iteration 100\n",
      "PALM reached maximum number of iterations\n",
      "8 0.1 7\n"
     ]
    },
    {
     "name": "stderr",
     "output_type": "stream",
     "text": [
      " 76%|███████▋  | 458/600 [10:47:23<4:50:46, 122.86s/it]"
     ]
    },
    {
     "name": "stdout",
     "output_type": "stream",
     "text": [
      "Score: 0.697979559659962\n",
      "8 0.15 7\n",
      "Iteration 100\n",
      "PALM reached maximum number of iterations\n",
      "8 0.15 7\n",
      "Invalid data, retrying...\n",
      "Iteration 100\n",
      "PALM reached maximum number of iterations\n",
      "8 0.15 7\n"
     ]
    },
    {
     "name": "stderr",
     "output_type": "stream",
     "text": [
      " 76%|███████▋  | 459/600 [10:49:35<4:54:45, 125.43s/it]"
     ]
    },
    {
     "name": "stdout",
     "output_type": "stream",
     "text": [
      "Score: -0.05903058036183238\n",
      "8 0.2 7\n",
      "Iteration 100\n",
      "PALM reached maximum number of iterations\n",
      "8 0.2 7\n"
     ]
    },
    {
     "name": "stderr",
     "output_type": "stream",
     "text": [
      " 77%|███████▋  | 460/600 [10:50:52<4:19:05, 111.04s/it]"
     ]
    },
    {
     "name": "stdout",
     "output_type": "stream",
     "text": [
      "Score: -0.21588476736584505\n",
      "8 0.25 7\n",
      "Iteration 100\n",
      "PALM reached maximum number of iterations\n",
      "8 0.25 7\n",
      "Invalid data, retrying...\n",
      "Iteration 100\n",
      "PALM reached maximum number of iterations\n",
      "8 0.25 7\n"
     ]
    },
    {
     "name": "stderr",
     "output_type": "stream",
     "text": [
      " 77%|███████▋  | 461/600 [10:52:54<4:25:03, 114.42s/it]"
     ]
    },
    {
     "name": "stdout",
     "output_type": "stream",
     "text": [
      "Score: 0.4348029753434539\n",
      "8 0.3 7\n",
      "Iteration 100\n",
      "PALM reached maximum number of iterations\n",
      "8 0.3 7\n"
     ]
    },
    {
     "name": "stderr",
     "output_type": "stream",
     "text": [
      " 77%|███████▋  | 462/600 [10:54:04<3:52:18, 101.01s/it]"
     ]
    },
    {
     "name": "stdout",
     "output_type": "stream",
     "text": [
      "Score: -0.2584752079105669\n",
      "8 0.05 8\n",
      "Iteration 100\n",
      "PALM reached maximum number of iterations\n",
      "8 0.05 8\n"
     ]
    },
    {
     "name": "stderr",
     "output_type": "stream",
     "text": [
      " 77%|███████▋  | 463/600 [10:55:37<3:45:07, 98.59s/it] "
     ]
    },
    {
     "name": "stdout",
     "output_type": "stream",
     "text": [
      "Score: 0.7168181609448738\n",
      "8 0.1 8\n",
      "Iteration 100\n",
      "PALM reached maximum number of iterations\n",
      "8 0.1 8\n",
      "Invalid data, retrying...\n",
      "Iteration 100\n",
      "PALM reached maximum number of iterations\n",
      "8 0.1 8\n",
      "Invalid data, retrying...\n",
      "Iteration 100\n",
      "PALM reached maximum number of iterations\n",
      "8 0.1 8\n",
      "Invalid data, retrying...\n"
     ]
    },
    {
     "name": "stderr",
     "output_type": "stream",
     "text": [
      " 77%|███████▋  | 464/600 [10:57:55<4:10:31, 110.53s/it]"
     ]
    },
    {
     "name": "stdout",
     "output_type": "stream",
     "text": [
      "8 0.15 8\n",
      "Iteration 100\n",
      "PALM reached maximum number of iterations\n",
      "8 0.15 8\n",
      "Invalid data, retrying...\n",
      "8 0.15 8\n",
      "Invalid data, retrying...\n",
      "Iteration 100\n",
      "PALM reached maximum number of iterations\n",
      "8 0.15 8\n",
      "Invalid data, retrying...\n"
     ]
    },
    {
     "name": "stderr",
     "output_type": "stream",
     "text": [
      " 78%|███████▊  | 465/600 [11:00:06<4:22:09, 116.52s/it]"
     ]
    },
    {
     "name": "stdout",
     "output_type": "stream",
     "text": [
      "8 0.2 8\n",
      "Iteration 100\n",
      "PALM reached maximum number of iterations\n",
      "8 0.2 8\n",
      "Invalid data, retrying...\n",
      "Iteration 100\n",
      "PALM reached maximum number of iterations\n",
      "8 0.2 8\n",
      "Invalid data, retrying...\n",
      "Iteration 100\n",
      "PALM reached maximum number of iterations\n",
      "8 0.2 8\n",
      "Invalid data, retrying...\n"
     ]
    },
    {
     "name": "stderr",
     "output_type": "stream",
     "text": [
      " 78%|███████▊  | 466/600 [11:02:26<4:35:44, 123.47s/it]"
     ]
    },
    {
     "name": "stdout",
     "output_type": "stream",
     "text": [
      "8 0.25 8\n",
      "Iteration 100\n",
      "PALM reached maximum number of iterations\n",
      "8 0.25 8\n",
      "Invalid data, retrying...\n",
      "Iteration 100\n",
      "PALM reached maximum number of iterations\n",
      "8 0.25 8\n"
     ]
    },
    {
     "name": "stderr",
     "output_type": "stream",
     "text": [
      " 78%|███████▊  | 467/600 [11:04:29<4:33:24, 123.34s/it]"
     ]
    },
    {
     "name": "stdout",
     "output_type": "stream",
     "text": [
      "Score: 0.7432641764714972\n",
      "8 0.3 8\n",
      "Iteration 100\n",
      "PALM reached maximum number of iterations\n",
      "8 0.3 8\n",
      "Invalid data, retrying...\n",
      "Iteration 100\n",
      "PALM reached maximum number of iterations\n",
      "8 0.3 8\n",
      "Invalid data, retrying...\n",
      "Iteration 100\n",
      "PALM reached maximum number of iterations\n",
      "8 0.3 8\n"
     ]
    },
    {
     "name": "stderr",
     "output_type": "stream",
     "text": [
      " 78%|███████▊  | 468/600 [11:07:13<4:58:21, 135.62s/it]"
     ]
    },
    {
     "name": "stdout",
     "output_type": "stream",
     "text": [
      "Score: 0.761746472405897\n",
      "8 0.05 9\n",
      "Iteration 100\n",
      "PALM reached maximum number of iterations\n",
      "8 0.05 9\n",
      "Invalid data, retrying...\n",
      "Iteration 100\n",
      "PALM reached maximum number of iterations\n",
      "8 0.05 9\n",
      "Invalid data, retrying...\n",
      "Iteration 100\n",
      "PALM reached maximum number of iterations\n",
      "8 0.05 9\n",
      "Invalid data, retrying...\n"
     ]
    },
    {
     "name": "stderr",
     "output_type": "stream",
     "text": [
      " 78%|███████▊  | 469/600 [11:09:29<4:56:35, 135.84s/it]"
     ]
    },
    {
     "name": "stdout",
     "output_type": "stream",
     "text": [
      "8 0.1 9\n",
      "Iteration 100\n",
      "PALM reached maximum number of iterations\n",
      "8 0.1 9\n",
      "Invalid data, retrying...\n",
      "Iteration 100\n",
      "PALM reached maximum number of iterations\n",
      "8 0.1 9\n",
      "Invalid data, retrying...\n",
      "Iteration 100\n",
      "PALM reached maximum number of iterations\n",
      "8 0.1 9\n",
      "Invalid data, retrying...\n"
     ]
    },
    {
     "name": "stderr",
     "output_type": "stream",
     "text": [
      " 78%|███████▊  | 470/600 [11:14:31<6:41:59, 185.54s/it]"
     ]
    },
    {
     "name": "stdout",
     "output_type": "stream",
     "text": [
      "8 0.15 9\n",
      "Iteration 100\n",
      "PALM reached maximum number of iterations\n",
      "8 0.15 9\n",
      "Invalid data, retrying...\n",
      "Iteration 100\n",
      "PALM reached maximum number of iterations\n",
      "8 0.15 9\n",
      "Invalid data, retrying...\n",
      "Iteration 100\n",
      "PALM reached maximum number of iterations\n",
      "8 0.15 9\n",
      "Invalid data, retrying...\n"
     ]
    },
    {
     "name": "stderr",
     "output_type": "stream",
     "text": [
      " 78%|███████▊  | 471/600 [11:19:57<8:09:46, 227.80s/it]"
     ]
    },
    {
     "name": "stdout",
     "output_type": "stream",
     "text": [
      "8 0.2 9\n",
      "Iteration 100\n",
      "PALM reached maximum number of iterations\n",
      "8 0.2 9\n",
      "Invalid data, retrying...\n",
      "Iteration 100\n",
      "PALM reached maximum number of iterations\n",
      "8 0.2 9\n",
      "Invalid data, retrying...\n",
      "Iteration 100\n",
      "PALM reached maximum number of iterations\n",
      "8 0.2 9\n",
      "Invalid data, retrying...\n"
     ]
    },
    {
     "name": "stderr",
     "output_type": "stream",
     "text": [
      " 79%|███████▊  | 472/600 [11:25:04<8:56:48, 251.63s/it]"
     ]
    },
    {
     "name": "stdout",
     "output_type": "stream",
     "text": [
      "8 0.25 9\n",
      "Iteration 100\n",
      "PALM reached maximum number of iterations\n",
      "8 0.25 9\n",
      "Invalid data, retrying...\n",
      "Iteration 100\n",
      "PALM reached maximum number of iterations\n",
      "8 0.25 9\n",
      "Invalid data, retrying...\n",
      "Iteration 100\n",
      "PALM reached maximum number of iterations\n",
      "8 0.25 9\n",
      "Invalid data, retrying...\n"
     ]
    },
    {
     "name": "stderr",
     "output_type": "stream",
     "text": [
      " 79%|███████▉  | 473/600 [11:27:40<7:51:26, 222.73s/it]"
     ]
    },
    {
     "name": "stdout",
     "output_type": "stream",
     "text": [
      "8 0.3 9\n",
      "Iteration 100\n",
      "PALM reached maximum number of iterations\n",
      "8 0.3 9\n",
      "Invalid data, retrying...\n",
      "Iteration 100\n",
      "PALM reached maximum number of iterations\n",
      "8 0.3 9\n",
      "Invalid data, retrying...\n",
      "Iteration 100\n",
      "PALM reached maximum number of iterations\n",
      "8 0.3 9\n",
      "Invalid data, retrying...\n"
     ]
    },
    {
     "name": "stderr",
     "output_type": "stream",
     "text": [
      " 79%|███████▉  | 474/600 [11:30:07<7:00:25, 200.20s/it]"
     ]
    },
    {
     "name": "stdout",
     "output_type": "stream",
     "text": [
      "8 0.05 10\n",
      "Iteration 100\n",
      "PALM reached maximum number of iterations\n",
      "8 0.05 10\n"
     ]
    },
    {
     "name": "stderr",
     "output_type": "stream",
     "text": [
      " 79%|███████▉  | 475/600 [11:31:44<5:52:19, 169.11s/it]"
     ]
    },
    {
     "name": "stdout",
     "output_type": "stream",
     "text": [
      "Score: -0.31923705707124245\n",
      "8 0.1 10\n",
      "Iteration 100\n",
      "PALM reached maximum number of iterations\n",
      "8 0.1 10\n"
     ]
    },
    {
     "name": "stderr",
     "output_type": "stream",
     "text": [
      " 79%|███████▉  | 476/600 [11:33:20<5:04:06, 147.15s/it]"
     ]
    },
    {
     "name": "stdout",
     "output_type": "stream",
     "text": [
      "Score: -0.08870354725028166\n",
      "8 0.15 10\n",
      "Iteration 100\n",
      "PALM reached maximum number of iterations\n",
      "8 0.15 10\n"
     ]
    },
    {
     "name": "stderr",
     "output_type": "stream",
     "text": [
      " 80%|███████▉  | 477/600 [11:34:51<4:27:00, 130.25s/it]"
     ]
    },
    {
     "name": "stdout",
     "output_type": "stream",
     "text": [
      "Score: -0.4646424102301736\n",
      "8 0.2 10\n",
      "Iteration 100\n",
      "PALM reached maximum number of iterations\n",
      "8 0.2 10\n"
     ]
    },
    {
     "name": "stderr",
     "output_type": "stream",
     "text": [
      " 80%|███████▉  | 478/600 [11:36:16<3:57:37, 116.86s/it]"
     ]
    },
    {
     "name": "stdout",
     "output_type": "stream",
     "text": [
      "Score: 0.10527995611029689\n",
      "8 0.25 10\n",
      "Iteration 100\n",
      "PALM reached maximum number of iterations\n",
      "8 0.25 10\n"
     ]
    },
    {
     "name": "stderr",
     "output_type": "stream",
     "text": [
      " 80%|███████▉  | 479/600 [11:37:40<3:35:44, 106.98s/it]"
     ]
    },
    {
     "name": "stdout",
     "output_type": "stream",
     "text": [
      "Score: -0.06269614590059286\n",
      "8 0.3 10\n",
      "Iteration 100\n",
      "PALM reached maximum number of iterations\n",
      "8 0.3 10\n"
     ]
    },
    {
     "name": "stderr",
     "output_type": "stream",
     "text": [
      " 80%|████████  | 480/600 [11:38:54<3:14:21, 97.18s/it] "
     ]
    },
    {
     "name": "stdout",
     "output_type": "stream",
     "text": [
      "Score: -0.21702776105102953\n",
      "9 0.05 1\n",
      "Iteration 100\n",
      "PALM reached maximum number of iterations\n",
      "9 0.05 1\n"
     ]
    },
    {
     "name": "stderr",
     "output_type": "stream",
     "text": [
      " 80%|████████  | 481/600 [11:39:48<2:46:52, 84.14s/it]"
     ]
    },
    {
     "name": "stdout",
     "output_type": "stream",
     "text": [
      "Score: 0.3425797458501296\n",
      "9 0.1 1\n",
      "Iteration 100\n",
      "PALM reached maximum number of iterations\n",
      "9 0.1 1\n"
     ]
    },
    {
     "name": "stderr",
     "output_type": "stream",
     "text": [
      " 80%|████████  | 482/600 [11:40:35<2:23:42, 73.08s/it]"
     ]
    },
    {
     "name": "stdout",
     "output_type": "stream",
     "text": [
      "Score: 0.29718530771117124\n",
      "9 0.15 1\n",
      "Iteration 100\n",
      "PALM reached maximum number of iterations\n",
      "9 0.15 1\n"
     ]
    },
    {
     "name": "stderr",
     "output_type": "stream",
     "text": [
      " 80%|████████  | 483/600 [11:41:21<2:06:09, 64.69s/it]"
     ]
    },
    {
     "name": "stdout",
     "output_type": "stream",
     "text": [
      "Score: 0.30312082693533493\n",
      "9 0.2 1\n",
      "Iteration 100\n",
      "PALM reached maximum number of iterations\n",
      "9 0.2 1\n"
     ]
    },
    {
     "name": "stderr",
     "output_type": "stream",
     "text": [
      " 81%|████████  | 484/600 [11:42:05<1:53:21, 58.63s/it]"
     ]
    },
    {
     "name": "stdout",
     "output_type": "stream",
     "text": [
      "Score: 0.3374095816908068\n",
      "9 0.25 1\n",
      "Iteration 100\n",
      "PALM reached maximum number of iterations\n",
      "9 0.25 1\n"
     ]
    },
    {
     "name": "stderr",
     "output_type": "stream",
     "text": [
      " 81%|████████  | 485/600 [11:42:46<1:42:16, 53.36s/it]"
     ]
    },
    {
     "name": "stdout",
     "output_type": "stream",
     "text": [
      "Score: 0.3195764591116764\n",
      "9 0.3 1\n",
      "Iteration 100\n",
      "PALM reached maximum number of iterations\n",
      "9 0.3 1\n"
     ]
    },
    {
     "name": "stderr",
     "output_type": "stream",
     "text": [
      " 81%|████████  | 486/600 [11:43:21<1:30:57, 47.87s/it]"
     ]
    },
    {
     "name": "stdout",
     "output_type": "stream",
     "text": [
      "Score: 0.25277642895597313\n",
      "9 0.05 2\n",
      "Iteration 100\n",
      "PALM reached maximum number of iterations\n",
      "9 0.05 2\n"
     ]
    },
    {
     "name": "stderr",
     "output_type": "stream",
     "text": [
      " 81%|████████  | 487/600 [11:45:02<2:00:05, 63.77s/it]"
     ]
    },
    {
     "name": "stdout",
     "output_type": "stream",
     "text": [
      "Score: -0.0757264353387144\n",
      "9 0.1 2\n",
      "Iteration 100\n",
      "PALM reached maximum number of iterations\n",
      "9 0.1 2\n"
     ]
    },
    {
     "name": "stderr",
     "output_type": "stream",
     "text": [
      " 81%|████████▏ | 488/600 [11:46:40<2:18:11, 74.04s/it]"
     ]
    },
    {
     "name": "stdout",
     "output_type": "stream",
     "text": [
      "Score: 0.04093562290395139\n",
      "9 0.15 2\n",
      "Iteration 100\n",
      "PALM reached maximum number of iterations\n",
      "9 0.15 2\n"
     ]
    },
    {
     "name": "stderr",
     "output_type": "stream",
     "text": [
      " 82%|████████▏ | 489/600 [11:48:11<2:26:29, 79.19s/it]"
     ]
    },
    {
     "name": "stdout",
     "output_type": "stream",
     "text": [
      "Score: 0.039301350290480014\n",
      "9 0.2 2\n",
      "Iteration 100\n",
      "PALM reached maximum number of iterations\n",
      "9 0.2 2\n"
     ]
    },
    {
     "name": "stderr",
     "output_type": "stream",
     "text": [
      " 82%|████████▏ | 490/600 [11:49:41<2:31:00, 82.37s/it]"
     ]
    },
    {
     "name": "stdout",
     "output_type": "stream",
     "text": [
      "Score: 0.11272978471736296\n",
      "9 0.25 2\n",
      "Iteration 100\n",
      "PALM reached maximum number of iterations\n",
      "9 0.25 2\n"
     ]
    },
    {
     "name": "stderr",
     "output_type": "stream",
     "text": [
      " 82%|████████▏ | 491/600 [11:51:08<2:32:13, 83.79s/it]"
     ]
    },
    {
     "name": "stdout",
     "output_type": "stream",
     "text": [
      "Score: 0.11100992310776493\n",
      "9 0.3 2\n",
      "Iteration 100\n",
      "PALM reached maximum number of iterations\n",
      "9 0.3 2\n"
     ]
    },
    {
     "name": "stderr",
     "output_type": "stream",
     "text": [
      " 82%|████████▏ | 492/600 [11:52:34<2:32:09, 84.53s/it]"
     ]
    },
    {
     "name": "stdout",
     "output_type": "stream",
     "text": [
      "Score: 0.009915177950653116\n",
      "9 0.05 3\n",
      "Iteration 100\n",
      "PALM reached maximum number of iterations\n",
      "9 0.05 3\n"
     ]
    },
    {
     "name": "stderr",
     "output_type": "stream",
     "text": [
      " 82%|████████▏ | 493/600 [11:54:16<2:40:02, 89.74s/it]"
     ]
    },
    {
     "name": "stdout",
     "output_type": "stream",
     "text": [
      "Score: 0.015387924461444595\n",
      "9 0.1 3\n",
      "Iteration 100\n",
      "PALM reached maximum number of iterations\n",
      "9 0.1 3\n"
     ]
    },
    {
     "name": "stderr",
     "output_type": "stream",
     "text": [
      " 82%|████████▏ | 494/600 [11:55:57<2:44:15, 92.98s/it]"
     ]
    },
    {
     "name": "stdout",
     "output_type": "stream",
     "text": [
      "Score: 0.07236397038789694\n",
      "9 0.15 3\n",
      "Iteration 100\n",
      "PALM reached maximum number of iterations\n",
      "9 0.15 3\n"
     ]
    },
    {
     "name": "stderr",
     "output_type": "stream",
     "text": [
      " 82%|████████▎ | 495/600 [11:57:26<2:40:49, 91.90s/it]"
     ]
    },
    {
     "name": "stdout",
     "output_type": "stream",
     "text": [
      "Score: 0.10209195715267459\n",
      "9 0.2 3\n",
      "Iteration 100\n",
      "PALM reached maximum number of iterations\n",
      "9 0.2 3\n"
     ]
    },
    {
     "name": "stderr",
     "output_type": "stream",
     "text": [
      " 83%|████████▎ | 496/600 [11:58:52<2:35:53, 89.93s/it]"
     ]
    },
    {
     "name": "stdout",
     "output_type": "stream",
     "text": [
      "Score: 0.4159000937994641\n",
      "9 0.25 3\n",
      "Iteration 100\n",
      "PALM reached maximum number of iterations\n",
      "9 0.25 3\n"
     ]
    },
    {
     "name": "stderr",
     "output_type": "stream",
     "text": [
      " 83%|████████▎ | 497/600 [12:00:16<2:31:29, 88.25s/it]"
     ]
    },
    {
     "name": "stdout",
     "output_type": "stream",
     "text": [
      "Score: 0.12066309654200974\n",
      "9 0.3 3\n",
      "Iteration 100\n",
      "PALM reached maximum number of iterations\n",
      "9 0.3 3\n"
     ]
    },
    {
     "name": "stderr",
     "output_type": "stream",
     "text": [
      " 83%|████████▎ | 498/600 [12:01:40<2:27:56, 87.03s/it]"
     ]
    },
    {
     "name": "stdout",
     "output_type": "stream",
     "text": [
      "Score: 0.18253783764883946\n",
      "9 0.05 4\n",
      "Iteration 100\n",
      "PALM reached maximum number of iterations\n",
      "9 0.05 4\n"
     ]
    },
    {
     "name": "stderr",
     "output_type": "stream",
     "text": [
      " 83%|████████▎ | 498/600 [12:02:52<2:28:03, 87.09s/it]\n"
     ]
    },
    {
     "ename": "MemoryError",
     "evalue": "Unable to allocate 1.00 GiB for an array with shape (2243, 59835) and data type float64",
     "output_type": "error",
     "traceback": [
      "\u001b[1;31m---------------------------------------------------------------------------\u001b[0m",
      "\u001b[1;31mMemoryError\u001b[0m                               Traceback (most recent call last)",
      "\u001b[1;32md:\\OneDrive - Bina Nusantara\\Sunib\\Skripsi-Kmeans-LTS\\DATASET1\\trimmed.ipynb Cell 32\u001b[0m line \u001b[0;36m6\n\u001b[0;32m     <a href='vscode-notebook-cell:/d%3A/OneDrive%20-%20Bina%20Nusantara/Sunib/Skripsi-Kmeans-LTS/DATASET1/trimmed.ipynb#X42sZmlsZQ%3D%3D?line=55'>56</a>\u001b[0m     \u001b[39mprint\u001b[39m(\u001b[39m\"\u001b[39m\u001b[39mBest Parameters:\u001b[39m\u001b[39m\"\u001b[39m, best_params)\n\u001b[0;32m     <a href='vscode-notebook-cell:/d%3A/OneDrive%20-%20Bina%20Nusantara/Sunib/Skripsi-Kmeans-LTS/DATASET1/trimmed.ipynb#X42sZmlsZQ%3D%3D?line=57'>58</a>\u001b[0m     \u001b[39mreturn\u001b[39;00m best_cluster, best_all\n\u001b[1;32m---> <a href='vscode-notebook-cell:/d%3A/OneDrive%20-%20Bina%20Nusantara/Sunib/Skripsi-Kmeans-LTS/DATASET1/trimmed.ipynb#X42sZmlsZQ%3D%3D?line=59'>60</a>\u001b[0m optimal_inlier, optimal_cluster \u001b[39m=\u001b[39m find_optimal_RTKM_test(df_scaled)\n",
      "\u001b[1;32md:\\OneDrive - Bina Nusantara\\Sunib\\Skripsi-Kmeans-LTS\\DATASET1\\trimmed.ipynb Cell 32\u001b[0m line \u001b[0;36m4\n\u001b[0;32m     <a href='vscode-notebook-cell:/d%3A/OneDrive%20-%20Bina%20Nusantara/Sunib/Skripsi-Kmeans-LTS/DATASET1/trimmed.ipynb#X42sZmlsZQ%3D%3D?line=39'>40</a>\u001b[0m     \u001b[39mcontinue\u001b[39;00m\n\u001b[0;32m     <a href='vscode-notebook-cell:/d%3A/OneDrive%20-%20Bina%20Nusantara/Sunib/Skripsi-Kmeans-LTS/DATASET1/trimmed.ipynb#X42sZmlsZQ%3D%3D?line=41'>42</a>\u001b[0m \u001b[39m# Hitung skor siluet\u001b[39;00m\n\u001b[1;32m---> <a href='vscode-notebook-cell:/d%3A/OneDrive%20-%20Bina%20Nusantara/Sunib/Skripsi-Kmeans-LTS/DATASET1/trimmed.ipynb#X42sZmlsZQ%3D%3D?line=42'>43</a>\u001b[0m score \u001b[39m=\u001b[39m silhouette_score(inliers_no_id, inliers[\u001b[39m'\u001b[39;49m\u001b[39mcluster_id\u001b[39;49m\u001b[39m'\u001b[39;49m])\n\u001b[0;32m     <a href='vscode-notebook-cell:/d%3A/OneDrive%20-%20Bina%20Nusantara/Sunib/Skripsi-Kmeans-LTS/DATASET1/trimmed.ipynb#X42sZmlsZQ%3D%3D?line=43'>44</a>\u001b[0m \u001b[39mprint\u001b[39m(\u001b[39m\"\u001b[39m\u001b[39mScore:\u001b[39m\u001b[39m\"\u001b[39m, score)\n\u001b[0;32m     <a href='vscode-notebook-cell:/d%3A/OneDrive%20-%20Bina%20Nusantara/Sunib/Skripsi-Kmeans-LTS/DATASET1/trimmed.ipynb#X42sZmlsZQ%3D%3D?line=45'>46</a>\u001b[0m \u001b[39m# Perbarui parameter terbaik jika skor lebih tinggi\u001b[39;00m\n",
      "File \u001b[1;32mc:\\Users\\jptri\\AppData\\Local\\Programs\\Python\\Python39\\lib\\site-packages\\sklearn\\utils\\_param_validation.py:214\u001b[0m, in \u001b[0;36mvalidate_params.<locals>.decorator.<locals>.wrapper\u001b[1;34m(*args, **kwargs)\u001b[0m\n\u001b[0;32m    208\u001b[0m \u001b[39mtry\u001b[39;00m:\n\u001b[0;32m    209\u001b[0m     \u001b[39mwith\u001b[39;00m config_context(\n\u001b[0;32m    210\u001b[0m         skip_parameter_validation\u001b[39m=\u001b[39m(\n\u001b[0;32m    211\u001b[0m             prefer_skip_nested_validation \u001b[39mor\u001b[39;00m global_skip_validation\n\u001b[0;32m    212\u001b[0m         )\n\u001b[0;32m    213\u001b[0m     ):\n\u001b[1;32m--> 214\u001b[0m         \u001b[39mreturn\u001b[39;00m func(\u001b[39m*\u001b[39margs, \u001b[39m*\u001b[39m\u001b[39m*\u001b[39mkwargs)\n\u001b[0;32m    215\u001b[0m \u001b[39mexcept\u001b[39;00m InvalidParameterError \u001b[39mas\u001b[39;00m e:\n\u001b[0;32m    216\u001b[0m     \u001b[39m# When the function is just a wrapper around an estimator, we allow\u001b[39;00m\n\u001b[0;32m    217\u001b[0m     \u001b[39m# the function to delegate validation to the estimator, but we replace\u001b[39;00m\n\u001b[0;32m    218\u001b[0m     \u001b[39m# the name of the estimator by the name of the function in the error\u001b[39;00m\n\u001b[0;32m    219\u001b[0m     \u001b[39m# message to avoid confusion.\u001b[39;00m\n\u001b[0;32m    220\u001b[0m     msg \u001b[39m=\u001b[39m re\u001b[39m.\u001b[39msub(\n\u001b[0;32m    221\u001b[0m         \u001b[39mr\u001b[39m\u001b[39m\"\u001b[39m\u001b[39mparameter of \u001b[39m\u001b[39m\\\u001b[39m\u001b[39mw+ must be\u001b[39m\u001b[39m\"\u001b[39m,\n\u001b[0;32m    222\u001b[0m         \u001b[39mf\u001b[39m\u001b[39m\"\u001b[39m\u001b[39mparameter of \u001b[39m\u001b[39m{\u001b[39;00mfunc\u001b[39m.\u001b[39m\u001b[39m__qualname__\u001b[39m\u001b[39m}\u001b[39;00m\u001b[39m must be\u001b[39m\u001b[39m\"\u001b[39m,\n\u001b[0;32m    223\u001b[0m         \u001b[39mstr\u001b[39m(e),\n\u001b[0;32m    224\u001b[0m     )\n",
      "File \u001b[1;32mc:\\Users\\jptri\\AppData\\Local\\Programs\\Python\\Python39\\lib\\site-packages\\sklearn\\metrics\\cluster\\_unsupervised.py:130\u001b[0m, in \u001b[0;36msilhouette_score\u001b[1;34m(X, labels, metric, sample_size, random_state, **kwds)\u001b[0m\n\u001b[0;32m    128\u001b[0m     \u001b[39melse\u001b[39;00m:\n\u001b[0;32m    129\u001b[0m         X, labels \u001b[39m=\u001b[39m X[indices], labels[indices]\n\u001b[1;32m--> 130\u001b[0m \u001b[39mreturn\u001b[39;00m np\u001b[39m.\u001b[39mmean(silhouette_samples(X, labels, metric\u001b[39m=\u001b[39mmetric, \u001b[39m*\u001b[39m\u001b[39m*\u001b[39mkwds))\n",
      "File \u001b[1;32mc:\\Users\\jptri\\AppData\\Local\\Programs\\Python\\Python39\\lib\\site-packages\\sklearn\\utils\\_param_validation.py:187\u001b[0m, in \u001b[0;36mvalidate_params.<locals>.decorator.<locals>.wrapper\u001b[1;34m(*args, **kwargs)\u001b[0m\n\u001b[0;32m    185\u001b[0m global_skip_validation \u001b[39m=\u001b[39m get_config()[\u001b[39m\"\u001b[39m\u001b[39mskip_parameter_validation\u001b[39m\u001b[39m\"\u001b[39m]\n\u001b[0;32m    186\u001b[0m \u001b[39mif\u001b[39;00m global_skip_validation:\n\u001b[1;32m--> 187\u001b[0m     \u001b[39mreturn\u001b[39;00m func(\u001b[39m*\u001b[39margs, \u001b[39m*\u001b[39m\u001b[39m*\u001b[39mkwargs)\n\u001b[0;32m    189\u001b[0m func_sig \u001b[39m=\u001b[39m signature(func)\n\u001b[0;32m    191\u001b[0m \u001b[39m# Map *args/**kwargs to the function signature\u001b[39;00m\n",
      "File \u001b[1;32mc:\\Users\\jptri\\AppData\\Local\\Programs\\Python\\Python39\\lib\\site-packages\\sklearn\\metrics\\cluster\\_unsupervised.py:282\u001b[0m, in \u001b[0;36msilhouette_samples\u001b[1;34m(X, labels, metric, **kwds)\u001b[0m\n\u001b[0;32m    278\u001b[0m kwds[\u001b[39m\"\u001b[39m\u001b[39mmetric\u001b[39m\u001b[39m\"\u001b[39m] \u001b[39m=\u001b[39m metric\n\u001b[0;32m    279\u001b[0m reduce_func \u001b[39m=\u001b[39m functools\u001b[39m.\u001b[39mpartial(\n\u001b[0;32m    280\u001b[0m     _silhouette_reduce, labels\u001b[39m=\u001b[39mlabels, label_freqs\u001b[39m=\u001b[39mlabel_freqs\n\u001b[0;32m    281\u001b[0m )\n\u001b[1;32m--> 282\u001b[0m results \u001b[39m=\u001b[39m \u001b[39mzip\u001b[39;49m(\u001b[39m*\u001b[39;49mpairwise_distances_chunked(X, reduce_func\u001b[39m=\u001b[39;49mreduce_func, \u001b[39m*\u001b[39;49m\u001b[39m*\u001b[39;49mkwds))\n\u001b[0;32m    283\u001b[0m intra_clust_dists, inter_clust_dists \u001b[39m=\u001b[39m results\n\u001b[0;32m    284\u001b[0m intra_clust_dists \u001b[39m=\u001b[39m np\u001b[39m.\u001b[39mconcatenate(intra_clust_dists)\n",
      "File \u001b[1;32mc:\\Users\\jptri\\AppData\\Local\\Programs\\Python\\Python39\\lib\\site-packages\\sklearn\\metrics\\pairwise.py:2018\u001b[0m, in \u001b[0;36mpairwise_distances_chunked\u001b[1;34m(X, Y, reduce_func, metric, n_jobs, working_memory, **kwds)\u001b[0m\n\u001b[0;32m   2016\u001b[0m \u001b[39melse\u001b[39;00m:\n\u001b[0;32m   2017\u001b[0m     X_chunk \u001b[39m=\u001b[39m X[sl]\n\u001b[1;32m-> 2018\u001b[0m D_chunk \u001b[39m=\u001b[39m pairwise_distances(X_chunk, Y, metric\u001b[39m=\u001b[39mmetric, n_jobs\u001b[39m=\u001b[39mn_jobs, \u001b[39m*\u001b[39m\u001b[39m*\u001b[39mkwds)\n\u001b[0;32m   2019\u001b[0m \u001b[39mif\u001b[39;00m (X \u001b[39mis\u001b[39;00m Y \u001b[39mor\u001b[39;00m Y \u001b[39mis\u001b[39;00m \u001b[39mNone\u001b[39;00m) \u001b[39mand\u001b[39;00m PAIRWISE_DISTANCE_FUNCTIONS\u001b[39m.\u001b[39mget(\n\u001b[0;32m   2020\u001b[0m     metric, \u001b[39mNone\u001b[39;00m\n\u001b[0;32m   2021\u001b[0m ) \u001b[39mis\u001b[39;00m euclidean_distances:\n\u001b[0;32m   2022\u001b[0m     \u001b[39m# zeroing diagonal, taking care of aliases of \"euclidean\",\u001b[39;00m\n\u001b[0;32m   2023\u001b[0m     \u001b[39m# i.e. \"l2\"\u001b[39;00m\n\u001b[0;32m   2024\u001b[0m     D_chunk\u001b[39m.\u001b[39mflat[sl\u001b[39m.\u001b[39mstart :: _num_samples(X) \u001b[39m+\u001b[39m \u001b[39m1\u001b[39m] \u001b[39m=\u001b[39m \u001b[39m0\u001b[39m\n",
      "File \u001b[1;32mc:\\Users\\jptri\\AppData\\Local\\Programs\\Python\\Python39\\lib\\site-packages\\sklearn\\metrics\\pairwise.py:2196\u001b[0m, in \u001b[0;36mpairwise_distances\u001b[1;34m(X, Y, metric, n_jobs, force_all_finite, **kwds)\u001b[0m\n\u001b[0;32m   2193\u001b[0m         \u001b[39mreturn\u001b[39;00m distance\u001b[39m.\u001b[39msquareform(distance\u001b[39m.\u001b[39mpdist(X, metric\u001b[39m=\u001b[39mmetric, \u001b[39m*\u001b[39m\u001b[39m*\u001b[39mkwds))\n\u001b[0;32m   2194\u001b[0m     func \u001b[39m=\u001b[39m partial(distance\u001b[39m.\u001b[39mcdist, metric\u001b[39m=\u001b[39mmetric, \u001b[39m*\u001b[39m\u001b[39m*\u001b[39mkwds)\n\u001b[1;32m-> 2196\u001b[0m \u001b[39mreturn\u001b[39;00m _parallel_pairwise(X, Y, func, n_jobs, \u001b[39m*\u001b[39m\u001b[39m*\u001b[39mkwds)\n",
      "File \u001b[1;32mc:\\Users\\jptri\\AppData\\Local\\Programs\\Python\\Python39\\lib\\site-packages\\sklearn\\metrics\\pairwise.py:1766\u001b[0m, in \u001b[0;36m_parallel_pairwise\u001b[1;34m(X, Y, func, n_jobs, **kwds)\u001b[0m\n\u001b[0;32m   1763\u001b[0m X, Y, dtype \u001b[39m=\u001b[39m _return_float_dtype(X, Y)\n\u001b[0;32m   1765\u001b[0m \u001b[39mif\u001b[39;00m effective_n_jobs(n_jobs) \u001b[39m==\u001b[39m \u001b[39m1\u001b[39m:\n\u001b[1;32m-> 1766\u001b[0m     \u001b[39mreturn\u001b[39;00m func(X, Y, \u001b[39m*\u001b[39m\u001b[39m*\u001b[39mkwds)\n\u001b[0;32m   1768\u001b[0m \u001b[39m# enforce a threading backend to prevent data communication overhead\u001b[39;00m\n\u001b[0;32m   1769\u001b[0m fd \u001b[39m=\u001b[39m delayed(_dist_wrapper)\n",
      "File \u001b[1;32mc:\\Users\\jptri\\AppData\\Local\\Programs\\Python\\Python39\\lib\\site-packages\\sklearn\\metrics\\pairwise.py:338\u001b[0m, in \u001b[0;36meuclidean_distances\u001b[1;34m(X, Y, Y_norm_squared, squared, X_norm_squared)\u001b[0m\n\u001b[0;32m    332\u001b[0m     \u001b[39mif\u001b[39;00m Y_norm_squared\u001b[39m.\u001b[39mshape \u001b[39m!=\u001b[39m (\u001b[39m1\u001b[39m, Y\u001b[39m.\u001b[39mshape[\u001b[39m0\u001b[39m]):\n\u001b[0;32m    333\u001b[0m         \u001b[39mraise\u001b[39;00m \u001b[39mValueError\u001b[39;00m(\n\u001b[0;32m    334\u001b[0m             \u001b[39mf\u001b[39m\u001b[39m\"\u001b[39m\u001b[39mIncompatible dimensions for Y of shape \u001b[39m\u001b[39m{\u001b[39;00mY\u001b[39m.\u001b[39mshape\u001b[39m}\u001b[39;00m\u001b[39m and \u001b[39m\u001b[39m\"\u001b[39m\n\u001b[0;32m    335\u001b[0m             \u001b[39mf\u001b[39m\u001b[39m\"\u001b[39m\u001b[39mY_norm_squared of shape \u001b[39m\u001b[39m{\u001b[39;00moriginal_shape\u001b[39m}\u001b[39;00m\u001b[39m.\u001b[39m\u001b[39m\"\u001b[39m\n\u001b[0;32m    336\u001b[0m         )\n\u001b[1;32m--> 338\u001b[0m \u001b[39mreturn\u001b[39;00m _euclidean_distances(X, Y, X_norm_squared, Y_norm_squared, squared)\n",
      "File \u001b[1;32mc:\\Users\\jptri\\AppData\\Local\\Programs\\Python\\Python39\\lib\\site-packages\\sklearn\\metrics\\pairwise.py:379\u001b[0m, in \u001b[0;36m_euclidean_distances\u001b[1;34m(X, Y, X_norm_squared, Y_norm_squared, squared)\u001b[0m\n\u001b[0;32m    376\u001b[0m     distances \u001b[39m=\u001b[39m _euclidean_distances_upcast(X, XX, Y, YY)\n\u001b[0;32m    377\u001b[0m \u001b[39melse\u001b[39;00m:\n\u001b[0;32m    378\u001b[0m     \u001b[39m# if dtype is already float64, no need to chunk and upcast\u001b[39;00m\n\u001b[1;32m--> 379\u001b[0m     distances \u001b[39m=\u001b[39m \u001b[39m-\u001b[39;49m\u001b[39m2\u001b[39;49m \u001b[39m*\u001b[39;49m safe_sparse_dot(X, Y\u001b[39m.\u001b[39;49mT, dense_output\u001b[39m=\u001b[39;49m\u001b[39mTrue\u001b[39;49;00m)\n\u001b[0;32m    380\u001b[0m     distances \u001b[39m+\u001b[39m\u001b[39m=\u001b[39m XX\n\u001b[0;32m    381\u001b[0m     distances \u001b[39m+\u001b[39m\u001b[39m=\u001b[39m YY\n",
      "\u001b[1;31mMemoryError\u001b[0m: Unable to allocate 1.00 GiB for an array with shape (2243, 59835) and data type float64"
     ]
    }
   ],
   "source": [
    "from sklearn.model_selection import ParameterGrid\n",
    "from tqdm import tqdm\n",
    "from sklearn.metrics import silhouette_score\n",
    "import time  # Import library untuk menambahkan delay antar iterasi\n",
    "\n",
    "# Parameter yang akan diuji\n",
    "param_grid = {\n",
    "    'k': range(1, 11),                   # K dari 1 hingga 10\n",
    "    'percent_outliers': range(5, 31, 5), # Persentase outliers dari 5% hingga 30%\n",
    "    'num_members': range(1, 11)          # Num members dari 1 hingga 10\n",
    "}\n",
    "\n",
    "# Function find optimal RTKM cluster\n",
    "def find_optimal_RTKM_test(df):\n",
    "    best_score = -1\n",
    "    best_params = None\n",
    "    best_cluster = None\n",
    "    best_all = None\n",
    "\n",
    "    for params in tqdm(list(ParameterGrid(param_grid))):\n",
    "        k = params['k']\n",
    "        percent_outliers = params['percent_outliers'] / 100.0\n",
    "        num_members = params['num_members']\n",
    "        print(k, percent_outliers, num_members)\n",
    "\n",
    "        # Retry RTKM ketika inliers[\"cluster_id\"].nunique() == 1\n",
    "        retry_count = 0\n",
    "        max_retries = 3  # Tentukan jumlah maksimum percobaan\n",
    "\n",
    "        while retry_count < max_retries:\n",
    "            # Jalankan RTKM dengan parameter tertentu\n",
    "            inliers, all_data = generate_data_RTKM(df, k, percent_outliers, num_members)\n",
    "            inliers_no_id = inliers.drop(['cluster_id'], axis=1)\n",
    "\n",
    "            # Skip invalid data\n",
    "            if inliers[\"cluster_id\"].nunique() == 1:\n",
    "                print(\"Invalid data, retrying...\")\n",
    "                retry_count += 1\n",
    "                time.sleep(1)  # Tambahkan delay sebelum menjalankan retry\n",
    "                continue\n",
    "\n",
    "            # Hitung skor siluet\n",
    "            score = silhouette_score(inliers_no_id, inliers['cluster_id'])\n",
    "            print(\"Score:\", score)\n",
    "\n",
    "            # Perbarui parameter terbaik jika skor lebih tinggi\n",
    "            if score > best_score:\n",
    "                best_score = score\n",
    "                best_params = params\n",
    "                best_cluster = inliers\n",
    "                best_all = all_data\n",
    "\n",
    "            break  # Keluar dari loop retry jika data valid\n",
    "\n",
    "    print(\"Best Silhouette Score:\", best_score)\n",
    "    print(\"Best Parameters:\", best_params)\n",
    "\n",
    "    return best_cluster, best_all\n",
    "\n",
    "optimal_inlier, optimal_cluster = find_optimal_RTKM_test(df_scaled)"
   ]
  },
  {
   "cell_type": "markdown",
   "metadata": {},
   "source": [
    "# Trimmed K-MEANS (Manual)"
   ]
  },
  {
   "cell_type": "code",
   "execution_count": null,
   "metadata": {},
   "outputs": [
    {
     "data": {
      "text/plain": [
       "'\\nclustered_df, outlier_df = trimmed_kmeans(df_scaled, n_clusters, trim_percentage)\\n\\nprint(\"Clustered Data:\")\\nprint(clustered_df)\\nprint(\"\\nOutliers:\")\\nprint(outlier_df)\\n'"
      ]
     },
     "execution_count": 22,
     "metadata": {},
     "output_type": "execute_result"
    }
   ],
   "source": [
    "import numpy as np\n",
    "import pandas as pd\n",
    "\n",
    "def initialize_centers(data, n_clusters):\n",
    "    # Randomly initialize cluster centers\n",
    "    indices = np.random.choice(len(data), n_clusters, replace=False)\n",
    "    centers = data.iloc[indices].values\n",
    "    return centers\n",
    "\n",
    "def assign_clusters(data, centers):\n",
    "    # Assign each data point to the nearest cluster center\n",
    "    distances = np.linalg.norm(data.values - centers[:, np.newaxis], axis=2)\n",
    "    labels = np.argmin(distances, axis=0)\n",
    "    return labels\n",
    "\n",
    "def update_centers(data, labels, n_clusters):\n",
    "    # Update cluster centers based on the mean of assigned data points\n",
    "    centers = np.array([data[labels == i].mean(axis=0) for i in range(n_clusters)])\n",
    "    return centers\n",
    "\n",
    "def trimmed_kmeans(data, n_clusters, out_percentage, max_iter=300):\n",
    "    # Randomly initialize cluster centers\n",
    "    centers = initialize_centers(data, n_clusters)\n",
    "    percentage = 100 - out_percentage\n",
    "    \n",
    "    for _ in range(max_iter):\n",
    "        # Assign each data point to the nearest cluster center\n",
    "        labels = assign_clusters(data, centers)\n",
    "        \n",
    "        # Calculate distances to cluster centers\n",
    "        distances = np.linalg.norm(data.values - centers[labels], axis=1)\n",
    "        \n",
    "        # Calculate the threshold for trimming\n",
    "        threshold = np.percentile(distances, percentage)\n",
    "        \n",
    "        # Identify outliers based on the threshold\n",
    "        outliers = data[distances > threshold]\n",
    "        \n",
    "        # Update cluster centers using non-outliers\n",
    "        centers = update_centers(data[distances <= threshold], labels[distances <= threshold], n_clusters)\n",
    "    \n",
    "    # Create a DataFrame for outliers\n",
    "    outlier_df = pd.DataFrame(outliers, columns=data.columns)\n",
    "    \n",
    "    # Add 'cluster_id' column to the original data\n",
    "    data['cluster_id'] = labels\n",
    "    \n",
    "    # Create a DataFrame for clustered data\n",
    "    clustered_df = data[data['cluster_id'].isin(np.unique(labels))]\n",
    "    \n",
    "    return clustered_df, outlier_df\n",
    "\n",
    "'''\n",
    "# Example usage:\n",
    "data = pd.DataFrame({\n",
    "    'Type1': [0.0, 0.0, 473.6, 0.0, 0.0, 100.0, 200.0, 300.0],\n",
    "    'Type2': [0.0, 63.72, 174.0, 996.0, 524.91, 50.0, 150.0, 250.0],\n",
    "    'Type3': [0.0, 0.0, 31.6, 160.92, 0.0, 10.0, 20.0, 30.0]\n",
    "})\n",
    "'''\n",
    "\n",
    "n_clusters = 2\n",
    "trim_percentage = 20\n",
    "\n",
    "'''\n",
    "clustered_df, outlier_df = trimmed_kmeans(df_scaled, n_clusters, trim_percentage)\n",
    "\n",
    "print(\"Clustered Data:\")\n",
    "print(clustered_df)\n",
    "print(\"\\nOutliers:\")\n",
    "print(outlier_df)\n",
    "'''"
   ]
  },
  {
   "cell_type": "code",
   "execution_count": null,
   "metadata": {},
   "outputs": [
    {
     "data": {
      "text/plain": [
       "'\\n#reduce data two dimention\\n#clustered\\npca = PCA(n_components=2)\\ndf_pca = pca.fit_transform(clustered_df)\\n\\ndf_pca = pd.DataFrame(df_pca, columns=[\\'PC 1\\', \\'PC2\\'])\\ndf_pca[\\'cluster_id\\'] = clustered_df.loc[:, clustered_df.columns.isin([\\'cluster_id\\'])]\\n\\n#outliers\\ndf_pca_out = pca.fit_transform(outlier_df)\\ndf_pca_out= pd.DataFrame(df_pca_out, columns=[\\'PC 1\\', \\'PC2\\'])\\ndf_pca_out[\\'cluster_id\\'] = \"out\"\\n\\n\\n#merge\\ndf_pca_merge = pd.concat([df_pca, df_pca_out])\\ndf_pca_out\\n'"
      ]
     },
     "execution_count": 23,
     "metadata": {},
     "output_type": "execute_result"
    }
   ],
   "source": [
    "'''\n",
    "#reduce data two dimention\n",
    "#clustered\n",
    "pca = PCA(n_components=2)\n",
    "df_pca = pca.fit_transform(clustered_df)\n",
    "\n",
    "df_pca = pd.DataFrame(df_pca, columns=['PC 1', 'PC2'])\n",
    "df_pca['cluster_id'] = clustered_df.loc[:, clustered_df.columns.isin(['cluster_id'])]\n",
    "\n",
    "#outliers\n",
    "df_pca_out = pca.fit_transform(outlier_df)\n",
    "df_pca_out= pd.DataFrame(df_pca_out, columns=['PC 1', 'PC2'])\n",
    "df_pca_out['cluster_id'] = \"out\"\n",
    "\n",
    "\n",
    "#merge\n",
    "df_pca_merge = pd.concat([df_pca, df_pca_out])\n",
    "df_pca_out\n",
    "'''"
   ]
  },
  {
   "cell_type": "code",
   "execution_count": null,
   "metadata": {},
   "outputs": [
    {
     "data": {
      "text/plain": [
       "'\\n#plot data\\nimport seaborn as sns \\n\\nplt.figure(figsize=(8,8))\\nsns.pairplot(data=df_pca_merge, hue=\\'cluster_id\\', markers=[\"o\", \"D\"])\\n'"
      ]
     },
     "execution_count": 24,
     "metadata": {},
     "output_type": "execute_result"
    }
   ],
   "source": [
    "'''\n",
    "#plot data\n",
    "import seaborn as sns \n",
    "\n",
    "plt.figure(figsize=(8,8))\n",
    "sns.pairplot(data=df_pca_merge, hue='cluster_id', markers=[\"o\", \"D\"])\n",
    "'''"
   ]
  }
 ],
 "metadata": {
  "kernelspec": {
   "display_name": "Python 3",
   "language": "python",
   "name": "python3"
  },
  "language_info": {
   "codemirror_mode": {
    "name": "ipython",
    "version": 3
   },
   "file_extension": ".py",
   "mimetype": "text/x-python",
   "name": "python",
   "nbconvert_exporter": "python",
   "pygments_lexer": "ipython3",
   "version": "3.9.6"
  }
 },
 "nbformat": 4,
 "nbformat_minor": 2
}
